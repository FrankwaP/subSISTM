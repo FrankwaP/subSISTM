{
 "cells": [
  {
   "cell_type": "code",
   "execution_count": 128,
   "metadata": {},
   "outputs": [],
   "source": [
    "#Imports\n",
    "import pandas as pd\n",
    "import matplotlib.pyplot as plt\n",
    "import numpy as np\n",
    "from numpy.random import randint\n",
    "import random\n",
    "import torch\n",
    "import torch.nn as nn\n",
    "import torch.nn.functional as F\n",
    "from torch.nn.utils.rnn import pad_sequence\n",
    "from torch.nn.utils.rnn import pack_padded_sequence\n",
    "from torch.utils.data import random_split\n",
    "from sklearn.metrics import mean_squared_error\n",
    "from sklearn.preprocessing import MinMaxScaler\n",
    "\n",
    "np.random.seed(0)\n",
    "torch.manual_seed(0)\n",
    "random.seed(0)"
   ]
  },
  {
   "cell_type": "code",
   "execution_count": 33,
   "metadata": {},
   "outputs": [],
   "source": [
    "#Class: RNN\n",
    "class RNN(nn.Module):\n",
    "    #sizes are the number of nodes for respective layers, as ints\n",
    "    #input_size should be the numbers of variables in input, output_size the number of variables predicted\n",
    "    #hidden_size should be chosen after experimentation, since we only have one layer it should be more than the number of variables\n",
    "    def __init__(self, input_size, hidden_size, output_size, **kwds):\n",
    "        super().__init__(**kwds)\n",
    "        #Number of nodes of the hidden layer (used for init)\n",
    "        self.hidden_size = hidden_size\n",
    "        #Weights\n",
    "        self.i2h = nn.RNN(input_size=input_size, hidden_size=hidden_size, batch_first=True)\n",
    "        self.h2o = nn.Linear(hidden_size, output_size)\n",
    "    \n",
    "    #Input must be torch.Tensor and normalized\n",
    "    def forward(self, input):\n",
    "        #h0 = self.initHidden()\n",
    "        h_list, hn = self.i2h(input)\n",
    "        output_list = self.h2o(h_list)\n",
    "        return output_list"
   ]
  },
  {
   "cell_type": "code",
   "execution_count": 34,
   "metadata": {},
   "outputs": [],
   "source": [
    "#Class : LSTM\n",
    "class LSTM(nn.Module):\n",
    "    #sizes are the number of nodes for respective layers, as ints\n",
    "    #input_size should be the numbers of variables in input, output_size the number of variables predicted\n",
    "    #hidden_size should be chosen after experimentation, since we only have one layer it should be more than the number of variables\n",
    "    def __init__(self, input_size, hidden_size, output_size, **kwds):\n",
    "        super().__init__(**kwds)\n",
    "        #Number of nodes of the hidden layer (used for init)\n",
    "        self.hidden_size = hidden_size\n",
    "        #Weights\n",
    "        self.i2h = nn.LSTM(input_size=input_size, hidden_size=hidden_size, batch_first=True)\n",
    "        self.h2o = nn.Linear(hidden_size, output_size)\n",
    "\n",
    "    \n",
    "    #Input must be torch.Tensor and normalized\n",
    "    def forward(self, input):\n",
    "        h_list, (hn,cn) = self.i2h(input)\n",
    "        output_list = self.h2o(h_list)\n",
    "        return output_list"
   ]
  },
  {
   "cell_type": "code",
   "execution_count": 35,
   "metadata": {},
   "outputs": [],
   "source": [
    "#Parameters to get several scenari\n",
    "CSV_FILE = \"C:/Users/Utilisateur/Documents/ENSAE/Stage/simulation/simulation.csv\"\n",
    "TRAINING_NUMBER = 400\n",
    "USE_NOISY_DATA = True\n",
    "USE_MIXED_EFFECT = False\n",
    "timestep_skip = 5\n",
    "MODEL = LSTM        "
   ]
  },
  {
   "cell_type": "code",
   "execution_count": 36,
   "metadata": {},
   "outputs": [],
   "source": [
    "#data loading\n",
    "data = pd.read_csv(CSV_FILE, sep=\";\", decimal=\",\")"
   ]
  },
  {
   "cell_type": "code",
   "execution_count": null,
   "metadata": {},
   "outputs": [],
   "source": [
    "x_labels = [\n",
    "    c for c in data.columns if c.startswith(\"x\") and ((\"_obs\" in c) is USE_NOISY_DATA)\n",
    "]\n",
    "if 'x8' not in x_labels:\n",
    "    x_labels.append('x8')\n",
    "#assert len(x_labels) == 8\n",
    "\n",
    "y_labels = [\n",
    "    c\n",
    "    for c in data.columns\n",
    "    if c.startswith(\"y\")\n",
    "    and ((\"_obs\" in c) is USE_NOISY_DATA)\n",
    "    and ((\"_mixed\" in c) is USE_MIXED_EFFECT)\n",
    "]\n",
    "assert len(y_labels) == 1\n",
    "\n",
    "print(x_labels)\n",
    "print(y_labels)"
   ]
  },
  {
   "cell_type": "code",
   "execution_count": 156,
   "metadata": {},
   "outputs": [
    {
     "name": "stderr",
     "output_type": "stream",
     "text": [
      "C:\\Users\\Utilisateur\\AppData\\Local\\Temp\\ipykernel_25324\\186440658.py:12: SettingWithCopyWarning: \n",
      "A value is trying to be set on a copy of a slice from a DataFrame.\n",
      "Try using .loc[row_indexer,col_indexer] = value instead\n",
      "\n",
      "See the caveats in the documentation: https://pandas.pydata.org/pandas-docs/stable/user_guide/indexing.html#returning-a-view-versus-a-copy\n",
      "  data_train[x_labels + y_labels + ['y+1']] = scaler.fit_transform(data_train[x_labels + y_labels + ['y+1']])\n",
      "C:\\Users\\Utilisateur\\AppData\\Local\\Temp\\ipykernel_25324\\186440658.py:13: SettingWithCopyWarning: \n",
      "A value is trying to be set on a copy of a slice from a DataFrame.\n",
      "Try using .loc[row_indexer,col_indexer] = value instead\n",
      "\n",
      "See the caveats in the documentation: https://pandas.pydata.org/pandas-docs/stable/user_guide/indexing.html#returning-a-view-versus-a-copy\n",
      "  data_test[x_labels + y_labels + ['y+1']] = scaler.transform(data_test[x_labels + y_labels + ['y+1']])\n"
     ]
    }
   ],
   "source": [
    "# preprocessing\n",
    "random.seed(0)\n",
    "data = data[data['temps']%timestep_skip == 0]\n",
    "data['y+1'] = data.groupby(\"individus\")[y_labels].shift(-1)\n",
    "data_norm = data.copy()\n",
    "data_norm = data_norm.dropna()\n",
    "N_train = random.sample(range(1,500), TRAINING_NUMBER)\n",
    "data_train = data_norm.loc[data_norm['individus'].isin(N_train)]\n",
    "data_test = data_norm[~data_norm['individus'].isin(N_train)]\n",
    "\n",
    "scaler = MinMaxScaler()\n",
    "data_train[x_labels + y_labels + ['y+1']] = scaler.fit_transform(data_train[x_labels + y_labels + ['y+1']])\n",
    "data_test[x_labels + y_labels + ['y+1']] = scaler.transform(data_test[x_labels + y_labels + ['y+1']])\n",
    "\n",
    "groupby = data_train.groupby('individus')[x_labels + y_labels].apply(np.array)\n",
    "input_train = [torch.Tensor(x) for x in groupby]\n",
    "input_train = torch.stack(input_train)\n",
    "groupby = data_train.groupby('individus')[['y+1']].apply(np.array)\n",
    "target_train = [torch.Tensor(x) for x in groupby]\n",
    "target_train = torch.stack(target_train)\n",
    "\n",
    "groupby = data_test.groupby('individus')[x_labels + y_labels].apply(np.array)\n",
    "input_test = [torch.Tensor(x) for x in groupby]\n",
    "input_test = torch.stack(input_test)\n",
    "groupby = data_test.groupby('individus')[['y+1']].apply(np.array)\n",
    "target_test = [torch.Tensor(x) for x in groupby]\n",
    "target_test = torch.stack(target_test)\n",
    "\n",
    "\n",
    "#seq_lens = [len(inp) for inp in groupby]\n",
    "#input_padded = pad_sequence([torch.tensor(x) for x in groupby])\n",
    "#input_pack_padded = pack_padded_sequence(input_padded, lengths=seq_lens)\n"
   ]
  },
  {
   "cell_type": "code",
   "execution_count": 39,
   "metadata": {},
   "outputs": [],
   "source": [
    "#hyperparamètres\n",
    "hidden_size = [5,10,15,25]\n",
    "lr = [0.1, 0.05, 0.01]\n",
    "criterion = torch.nn.MSELoss()\n",
    "epoch = 1000\n",
    "eps = 0.001"
   ]
  },
  {
   "cell_type": "code",
   "execution_count": 161,
   "metadata": {},
   "outputs": [
    {
     "name": "stdout",
     "output_type": "stream",
     "text": [
      "163\n"
     ]
    }
   ],
   "source": [
    "#Training with convergence criteria\n",
    "model = MODEL(input_size = 9, hidden_size = 25, output_size=1)\n",
    "optimizer = torch.optim.SGD(model.parameters(), lr = 0.01)\n",
    "loss_val = [1]*100\n",
    "loss_train = []\n",
    "cur_loss_val = 0\n",
    "nb_epochs = 0\n",
    "while abs(loss_val[-100] - cur_loss_val) >= eps:\n",
    "\n",
    "    y_test = model(input = input_test)\n",
    "    cur_loss_val = criterion(y_test, target_test).item()\n",
    "    loss_val.append(cur_loss_val)\n",
    "\n",
    "    optimizer.zero_grad()\n",
    "    y_pred = model(input=input_train)\n",
    "    loss = criterion(y_pred, target_train)\n",
    "    loss.backward()\n",
    "    optimizer.step()\n",
    "\n",
    "    cur_loss_train = loss.item()\n",
    "    loss_train.append(cur_loss_train)\n",
    "    \n",
    "    nb_epochs += 1\n",
    "\n",
    "loss_val = loss_val[101:]\n",
    "print(nb_epochs)\n"
   ]
  },
  {
   "cell_type": "code",
   "execution_count": null,
   "metadata": {},
   "outputs": [],
   "source": [
    "#Results on training\n",
    "MSE_list = []\n",
    "for k in range(len(y_pred)):\n",
    "    MSE_list.append(mean_squared_error(y_pred[k, 1:].detach().numpy(),target_train[k, 1:].detach().numpy()))\n",
    "print(\"mean MSE on train data: \", np.mean(MSE_list))\n",
    "print(\"Worst case :\", np.max(MSE_list), \"for individual \", np.argmax(MSE_list))"
   ]
  },
  {
   "cell_type": "code",
   "execution_count": 160,
   "metadata": {},
   "outputs": [
    {
     "data": {
      "image/png": "[encoded data removed]",
      "text/plain": [
       "<Figure size 640x480 with 1 Axes>"
      ]
     },
     "metadata": {},
     "output_type": "display_data"
    }
   ],
   "source": [
    "#plot loss\n",
    "plt.xlabel('Epoch')\n",
    "plt.ylabel('Loss')\n",
    "#plt.plot(loss_track)\n",
    "plt.plot(loss_train, label =\"loss\")\n",
    "plt.plot(loss_val, label = \"validation\")\n",
    "plt.legend()\n",
    "plt.show()"
   ]
  },
  {
   "cell_type": "code",
   "execution_count": null,
   "metadata": {},
   "outputs": [],
   "source": [
    "#Plot 4 random curves from training data and worst individual\n",
    "n = 5\n",
    "ex = randint(1,400, n-1)\n",
    "fig, axs = plt.subplots(n)\n",
    "fig.set_figwidth(20)\n",
    "fig.set_figheight(50)\n",
    "for k in range(n-1):\n",
    "    axs[k].plot(target_train[ex[k], 1:].detach().numpy(), label= 'target')\n",
    "    axs[k].plot(y_pred[ex[k], 1:].detach().numpy(), label= 'prediction')\n",
    "    axs[k].legend()\n",
    "pire_ind = np.argmax(MSE_list)\n",
    "axs[n-1].plot(target_train[ex[k], 1:].detach().numpy(), label= 'target')\n",
    "axs[n-1].plot(y_pred[ex[k], 1:].detach().numpy(), label= 'prediction')\n",
    "axs[n-1].legend()"
   ]
  },
  {
   "cell_type": "code",
   "execution_count": null,
   "metadata": {},
   "outputs": [],
   "source": [
    "#MSE on test data\n",
    "y_pred = model(input_test)\n",
    "print(pd.DataFrame(y_pred.detach().numpy()))\n",
    "#Results\n",
    "MSE_list = []\n",
    "for k in range(len(y_pred)):\n",
    "    MSE_list.append(mean_squared_error(y_pred[k, 1:].detach().numpy(),target_test[k, 1:].detach().numpy()))\n",
    "print(\"mean MSE on test data: \", np.mean(MSE_list))\n",
    "print(\"Worst case :\", np.max(MSE_list), \"for individual \", np.argmax(MSE_list))"
   ]
  },
  {
   "cell_type": "code",
   "execution_count": null,
   "metadata": {},
   "outputs": [],
   "source": [
    "#Plot n curves from test data\n",
    "n = 10\n",
    "ex = randint(1,100, n)\n",
    "fig, axs = plt.subplots(n)\n",
    "fig.set_figwidth(20)\n",
    "fig.set_figheight(50)\n",
    "res = []\n",
    "print(y_pred.shape)\n",
    "for k in range(n):\n",
    "    res.append((ex[k], mean_squared_error(target_test[ex[k], 1:].detach().numpy(), y_pred[ex[k], 1:].detach().numpy())))\n",
    "    axs[k].plot(target_test[ex[k], 1:].detach().numpy(), label= 'target')\n",
    "    axs[k].plot(y_pred[ex[k], 1:].detach().numpy(), label= 'prediction')\n",
    "    axs[k].plot(torch.roll(target_test, 1, 1)[ex[k], 1:], label = 'reporté de %timestepskip jours')\n",
    "    axs[k].legend()\n",
    "\n",
    "print(res) #res contient les MSE"
   ]
  },
  {
   "cell_type": "code",
   "execution_count": null,
   "metadata": {},
   "outputs": [],
   "source": [
    "#plot n worst curves\n",
    "indices = np.argpartition(MSE_list, -5)[-5:]\n",
    "n = 5\n",
    "ex = randint(1,100, n)\n",
    "fig, axs = plt.subplots(n)\n",
    "fig.set_figwidth(20)\n",
    "fig.set_figheight(50)\n",
    "for k in range(len(indices)):\n",
    "    axs[k].plot(target_test[indices[k], 1:].detach().numpy(), label= 'target')\n",
    "    axs[k].plot(y_pred[indices[k], 1:].detach().numpy(), label= 'prediction')\n",
    "    axs[k].plot(torch.roll(target_test, 1, 1)[indices[k], 1:], label = 'reporté de %timestepskip jours')\n",
    "    axs[k].legend()"
   ]
  }
 ],
 "metadata": {
  "kernelspec": {
   "display_name": "Python 3",
   "language": "python",
   "name": "python3"
  },
  "language_info": {
   "codemirror_mode": {
    "name": "ipython",
    "version": 3
   },
   "file_extension": ".py",
   "mimetype": "text/x-python",
   "name": "python",
   "nbconvert_exporter": "python",
   "pygments_lexer": "ipython3",
   "version": "3.12.0"
  }
 },
 "nbformat": 4,
 "nbformat_minor": 2
}
