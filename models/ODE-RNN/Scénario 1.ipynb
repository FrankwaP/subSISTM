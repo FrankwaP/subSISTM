{
 "cells": [
  {
   "cell_type": "code",
   "execution_count": 128,
   "metadata": {},
   "outputs": [],
   "source": [
    "#Imports\n",
    "import pandas as pd\n",
    "import matplotlib.pyplot as plt\n",
    "import numpy as np\n",
    "from numpy.random import randint\n",
    "import random\n",
    "import torch\n",
    "import torch.nn as nn\n",
    "import torch.nn.functional as F\n",
    "from torch.nn.utils.rnn import pad_sequence\n",
    "from torch.nn.utils.rnn import pack_padded_sequence\n",
    "from torch.utils.data import random_split\n",
    "from sklearn.metrics import mean_squared_error\n",
    "from sklearn.preprocessing import MinMaxScaler\n",
    "\n",
    "np.random.seed(0)\n",
    "torch.manual_seed(0)\n",
    "random.seed(0)"
   ]
  },
  {
   "cell_type": "code",
   "execution_count": 33,
   "metadata": {},
   "outputs": [],
   "source": [
    "#Class: RNN\n",
    "class RNN(nn.Module):\n",
    "    #sizes are the number of nodes for respective layers, as ints\n",
    "    #input_size should be the numbers of variables in input, output_size the number of variables predicted\n",
    "    #hidden_size should be chosen after experimentation, since we only have one layer it should be more than the number of variables\n",
    "    def __init__(self, input_size, hidden_size, output_size, **kwds):\n",
    "        super().__init__(**kwds)\n",
    "        #Number of nodes of the hidden layer (used for init)\n",
    "        self.hidden_size = hidden_size\n",
    "        #Weights\n",
    "        self.i2h = nn.RNN(input_size=input_size, hidden_size=hidden_size, batch_first=True)\n",
    "        self.h2o = nn.Linear(hidden_size, output_size)\n",
    "    \n",
    "    #Input must be torch.Tensor and normalized\n",
    "    def forward(self, input):\n",
    "        #h0 = self.initHidden()\n",
    "        h_list, hn = self.i2h(input)\n",
    "        output_list = self.h2o(h_list)\n",
    "        return output_list"
   ]
  },
  {
   "cell_type": "code",
   "execution_count": 34,
   "metadata": {},
   "outputs": [],
   "source": [
    "#Class : LSTM\n",
    "class LSTM(nn.Module):\n",
    "    #sizes are the number of nodes for respective layers, as ints\n",
    "    #input_size should be the numbers of variables in input, output_size the number of variables predicted\n",
    "    #hidden_size should be chosen after experimentation, since we only have one layer it should be more than the number of variables\n",
    "    def __init__(self, input_size, hidden_size, output_size, **kwds):\n",
    "        super().__init__(**kwds)\n",
    "        #Number of nodes of the hidden layer (used for init)\n",
    "        self.hidden_size = hidden_size\n",
    "        #Weights\n",
    "        self.i2h = nn.LSTM(input_size=input_size, hidden_size=hidden_size, batch_first=True)\n",
    "        self.h2o = nn.Linear(hidden_size, output_size)\n",
    "\n",
    "    \n",
    "    #Input must be torch.Tensor and normalized\n",
    "    def forward(self, input):\n",
    "        h_list, (hn,cn) = self.i2h(input)\n",
    "        output_list = self.h2o(h_list)\n",
    "        return output_list"
   ]
  },
  {
   "cell_type": "code",
   "execution_count": 35,
   "metadata": {},
   "outputs": [],
   "source": [
    "#Parameters to get several scenari\n",
    "CSV_FILE = \"C:/Users/Utilisateur/Documents/ENSAE/Stage/simulation/simulation.csv\"\n",
    "TRAINING_NUMBER = 400\n",
    "USE_NOISY_DATA = True\n",
    "USE_MIXED_EFFECT = False\n",
    "timestep_skip = 5\n",
    "MODEL = LSTM        "
   ]
  },
  {
   "cell_type": "code",
   "execution_count": 36,
   "metadata": {},
   "outputs": [],
   "source": [
    "#data loading\n",
    "data = pd.read_csv(CSV_FILE, sep=\";\", decimal=\",\")"
   ]
  },
  {
   "cell_type": "code",
   "execution_count": null,
   "metadata": {},
   "outputs": [],
   "source": [
    "x_labels = [\n",
    "    c for c in data.columns if c.startswith(\"x\") and ((\"_obs\" in c) is USE_NOISY_DATA)\n",
    "]\n",
    "if 'x8' not in x_labels:\n",
    "    x_labels.append('x8')\n",
    "#assert len(x_labels) == 8\n",
    "\n",
    "y_labels = [\n",
    "    c\n",
    "    for c in data.columns\n",
    "    if c.startswith(\"y\")\n",
    "    and ((\"_obs\" in c) is USE_NOISY_DATA)\n",
    "    and ((\"_mixed\" in c) is USE_MIXED_EFFECT)\n",
    "]\n",
    "assert len(y_labels) == 1\n",
    "\n",
    "print(x_labels)\n",
    "print(y_labels)"
   ]
  },
  {
   "cell_type": "code",
   "execution_count": 108,
   "metadata": {},
   "outputs": [
    {
     "name": "stdout",
     "output_type": "stream",
     "text": [
      "       individus  temps         x1    x1_obs        x2    x2_obs        x3  \\\n",
      "20400        401      0   0.911365  1.000000  0.651199  1.000000  0.817267   \n",
      "20405        401      5  -6.570282  0.880305 -0.913292  0.500830  0.807043   \n",
      "20410        401     10 -14.051928  0.772806 -1.442545  0.366639  0.776372   \n",
      "20415        401     15 -21.533575  0.643685 -1.769711  0.281174  0.725253   \n",
      "20420        401     20 -29.015221  0.548103 -2.007153  0.203669  0.653688   \n",
      "...          ...    ...        ...       ...       ...       ...       ...   \n",
      "25474        500     25 -13.388573  0.462366 -3.678848  0.161013  0.654488   \n",
      "25479        500     30 -15.756057  0.193120 -3.876486  0.120046  0.501689   \n",
      "25484        500     35 -18.123542  0.136102 -4.044505  0.069245  0.321108   \n",
      "25489        500     40 -20.491026  0.015113 -4.190638  0.045859  0.112745   \n",
      "25494        500     45 -22.858510  0.000000 -4.319934  0.000000 -0.123400   \n",
      "\n",
      "         x3_obs        x4    x4_obs  ...         x6    x6_obs            x7  \\\n",
      "20400  0.929324 -1.405648  0.000000  ...   1.069081  0.000000 -5.820887e-01   \n",
      "20405  0.831486 -1.268574  0.285029  ...   2.269149  0.042501 -8.411808e-05   \n",
      "20410  1.000000 -1.185434  0.154912  ...   3.915553  0.114963 -6.078862e-09   \n",
      "20415  0.871049 -1.135008  0.814317  ...   6.008291  0.119183 -4.392622e-13   \n",
      "20420  0.756065 -1.104422  0.351822  ...   8.547363  0.260551 -3.174135e-17   \n",
      "...         ...       ...       ...  ...        ...       ...           ...   \n",
      "25474  0.506774 -1.227854  1.000000  ...   2.057078  0.190681 -1.251411e+00   \n",
      "25479  0.514283 -1.205742  0.935901  ...   3.906587  0.307449 -1.255236e+00   \n",
      "25484  0.293960 -1.192330  0.928121  ...   6.344182  0.476236 -1.256548e+00   \n",
      "25489  0.226669 -1.184195  0.922032  ...   9.369862  0.664424 -1.256996e+00   \n",
      "25494  0.000000 -1.179261  0.907821  ...  12.983628  1.000000 -1.257150e+00   \n",
      "\n",
      "         x7_obs  x8    y_mixed  y_mixed_obs    y_fixed  y_fixed_obs       y+1  \n",
      "20400  0.000000   0   1.213143     1.289564  -0.182362     0.000000  0.000000  \n",
      "20405  0.991613   0   1.141509     0.958652   1.232956     0.039529  0.038226  \n",
      "20410  0.991703   0   1.045748     1.010494   3.021804     0.084691  0.100227  \n",
      "20415  0.995977   0   0.906250     0.835144   5.442426     0.157941  0.171379  \n",
      "20420  0.990714   0   0.718992     0.853840   8.553073     0.242004  0.262514  \n",
      "...         ...  ..        ...          ...        ...          ...       ...  \n",
      "25474  0.010713   1  -3.288588    -3.421220   3.535651     0.132620  0.195703  \n",
      "25479  0.016531   1  -4.855784    -4.919348   6.933937     0.266290  0.331789  \n",
      "25484  0.002437   1  -7.030959    -7.117844  11.650557     0.451461  0.513943  \n",
      "25489  0.004231   1  -9.845614    -9.887820  17.753813     0.699316  0.734922  \n",
      "25494  0.000000   1 -13.325547   -13.262716  25.299652     1.000000  1.000000  \n",
      "\n",
      "[1000 rows x 22 columns]\n"
     ]
    }
   ],
   "source": [
    "# preprocessing\n",
    "data = data[data['temps']%timestep_skip == 0]\n",
    "data['y+1'] = data.groupby(\"individus\")[y_labels].shift(-1)\n",
    "data_norm = data.copy()\n",
    "data_norm = data_norm.dropna()\n",
    "\n",
    "individus = data_norm.groupby('individus')[x_labels[:-1] + y_labels + ['y+1']]\n",
    "min, max = individus.transform('min'), individus.transform('max')\n",
    "data_norm[x_labels[:-1] + y_labels + ['y+1']] = (data_norm[x_labels[:-1] + y_labels + ['y+1']] - min) / (max - min)\n",
    "data_train = data_norm[data_norm['individus']<=TRAINING_NUMBER]\n",
    "data_test = data_norm[data_norm['individus']>TRAINING_NUMBER]\n",
    "print(data_test)\n",
    "\n",
    "groupby = data_train.groupby('individus')[x_labels + y_labels].apply(np.array)\n",
    "input_train = [torch.Tensor(x) for x in groupby]\n",
    "input_train = torch.stack(input_train)\n",
    "groupby = data_train.groupby('individus')[['y+1']].apply(np.array)\n",
    "target_train = [torch.Tensor(x) for x in groupby]\n",
    "target_train = torch.stack(target_train)\n",
    "\n",
    "groupby = data_test.groupby('individus')[x_labels + y_labels].apply(np.array)\n",
    "input_test = [torch.Tensor(x) for x in groupby]\n",
    "input_test = torch.stack(input_test)\n",
    "groupby = data_test.groupby('individus')[['y+1']].apply(np.array)\n",
    "target_test = [torch.Tensor(x) for x in groupby]\n",
    "target_test = torch.stack(target_test)\n",
    "#seq_lens = [len(inp) for inp in groupby]\n",
    "#input_padded = pad_sequence([torch.tensor(x) for x in groupby])\n",
    "#input_pack_padded = pack_padded_sequence(input_padded, lengths=seq_lens)\n"
   ]
  },
  {
   "cell_type": "code",
   "execution_count": 156,
   "metadata": {},
   "outputs": [
    {
     "name": "stderr",
     "output_type": "stream",
     "text": [
      "C:\\Users\\Utilisateur\\AppData\\Local\\Temp\\ipykernel_25324\\186440658.py:12: SettingWithCopyWarning: \n",
      "A value is trying to be set on a copy of a slice from a DataFrame.\n",
      "Try using .loc[row_indexer,col_indexer] = value instead\n",
      "\n",
      "See the caveats in the documentation: https://pandas.pydata.org/pandas-docs/stable/user_guide/indexing.html#returning-a-view-versus-a-copy\n",
      "  data_train[x_labels + y_labels + ['y+1']] = scaler.fit_transform(data_train[x_labels + y_labels + ['y+1']])\n",
      "C:\\Users\\Utilisateur\\AppData\\Local\\Temp\\ipykernel_25324\\186440658.py:13: SettingWithCopyWarning: \n",
      "A value is trying to be set on a copy of a slice from a DataFrame.\n",
      "Try using .loc[row_indexer,col_indexer] = value instead\n",
      "\n",
      "See the caveats in the documentation: https://pandas.pydata.org/pandas-docs/stable/user_guide/indexing.html#returning-a-view-versus-a-copy\n",
      "  data_test[x_labels + y_labels + ['y+1']] = scaler.transform(data_test[x_labels + y_labels + ['y+1']])\n"
     ]
    }
   ],
   "source": [
    "# preprocessing\n",
    "random.seed(0)\n",
    "data = data[data['temps']%timestep_skip == 0]\n",
    "data['y+1'] = data.groupby(\"individus\")[y_labels].shift(-1)\n",
    "data_norm = data.copy()\n",
    "data_norm = data_norm.dropna()\n",
    "N_train = random.sample(range(1,500), TRAINING_NUMBER)\n",
    "data_train = data_norm.loc[data_norm['individus'].isin(N_train)]\n",
    "data_test = data_norm[~data_norm['individus'].isin(N_train)]\n",
    "\n",
    "scaler = MinMaxScaler()\n",
    "data_train[x_labels + y_labels + ['y+1']] = scaler.fit_transform(data_train[x_labels + y_labels + ['y+1']])\n",
    "data_test[x_labels + y_labels + ['y+1']] = scaler.transform(data_test[x_labels + y_labels + ['y+1']])\n",
    "\n",
    "groupby = data_train.groupby('individus')[x_labels + y_labels].apply(np.array)\n",
    "input_train = [torch.Tensor(x) for x in groupby]\n",
    "input_train = torch.stack(input_train)\n",
    "groupby = data_train.groupby('individus')[['y+1']].apply(np.array)\n",
    "target_train = [torch.Tensor(x) for x in groupby]\n",
    "target_train = torch.stack(target_train)\n",
    "\n",
    "groupby = data_test.groupby('individus')[x_labels + y_labels].apply(np.array)\n",
    "input_test = [torch.Tensor(x) for x in groupby]\n",
    "input_test = torch.stack(input_test)\n",
    "groupby = data_test.groupby('individus')[['y+1']].apply(np.array)\n",
    "target_test = [torch.Tensor(x) for x in groupby]\n",
    "target_test = torch.stack(target_test)\n",
    "\n",
    "\n",
    "#seq_lens = [len(inp) for inp in groupby]\n",
    "#input_padded = pad_sequence([torch.tensor(x) for x in groupby])\n",
    "#input_pack_padded = pack_padded_sequence(input_padded, lengths=seq_lens)\n"
   ]
  },
  {
   "cell_type": "code",
   "execution_count": 39,
   "metadata": {},
   "outputs": [],
   "source": [
    "#hyperparamètres\n",
    "hidden_size = [5,10,15,25]\n",
    "lr = [0.1, 0.05, 0.01]\n",
    "criterion = torch.nn.MSELoss()\n",
    "epoch = 1000\n",
    "eps = 0.001"
   ]
  },
  {
   "cell_type": "code",
   "execution_count": 139,
   "metadata": {},
   "outputs": [],
   "source": [
    "#Training\n",
    "loss_track = []\n",
    "model = MODEL(input_size = 9, hidden_size = 25, output_size=1)\n",
    "optimizer = torch.optim.SGD(model.parameters(), lr = 0.01)\n",
    "for k in range(epoch):\n",
    "    optimizer.zero_grad()\n",
    "    y_pred = model(input=input_train)\n",
    "    loss = criterion(y_pred, target_train)\n",
    "    loss.backward()\n",
    "    optimizer.step()\n",
    "    loss_track.append(loss.item())\n"
   ]
  },
  {
   "cell_type": "code",
   "execution_count": 157,
   "metadata": {},
   "outputs": [
    {
     "name": "stdout",
     "output_type": "stream",
     "text": [
      "142\n"
     ]
    }
   ],
   "source": [
    "#Training with convergence criteria\n",
    "model = MODEL(input_size = 9, hidden_size = 25, output_size=1)\n",
    "optimizer = torch.optim.SGD(model.parameters(), lr = 0.01)\n",
    "loss_val = [1]*100\n",
    "loss_train = []\n",
    "cur_loss_val = 0\n",
    "nb_epochs = 0\n",
    "while abs(loss_val[-100] - cur_loss_val) >= eps:\n",
    "    loss_val.append(cur_loss_val)\n",
    "    optimizer.zero_grad()\n",
    "    y_pred = model(input=input_train)\n",
    "    loss = criterion(y_pred, target_train)\n",
    "    loss.backward()\n",
    "    optimizer.step()\n",
    "    cur_loss_train = loss.item()\n",
    "    loss_train.append(cur_loss_train)\n",
    "    y_test = model(input = input_test)\n",
    "    cur_loss_val = criterion(y_test, target_test).item()\n",
    "    nb_epochs += 1\n",
    "\n",
    "loss_val = loss_val[101:]\n",
    "print(nb_epochs)\n"
   ]
  },
  {
   "cell_type": "code",
   "execution_count": null,
   "metadata": {},
   "outputs": [],
   "source": [
    "#Results on training\n",
    "MSE_list = []\n",
    "for k in range(len(y_pred)):\n",
    "    MSE_list.append(mean_squared_error(y_pred[k, 1:].detach().numpy(),target_train[k, 1:].detach().numpy()))\n",
    "print(\"mean MSE on train data: \", np.mean(MSE_list))\n",
    "print(\"Worst case :\", np.max(MSE_list), \"for individual \", np.argmax(MSE_list))"
   ]
  },
  {
   "cell_type": "code",
   "execution_count": 158,
   "metadata": {},
   "outputs": [
    {
     "data": {
      "image/png": "[encoded data removed]",
      "text/plain": [
       "<Figure size 640x480 with 1 Axes>"
      ]
     },
     "metadata": {},
     "output_type": "display_data"
    }
   ],
   "source": [
    "#plot loss\n",
    "plt.xlabel('Epoch')\n",
    "plt.ylabel('Loss')\n",
    "#plt.plot(loss_track)\n",
    "plt.plot(loss_train, label =\"loss\")\n",
    "plt.plot(loss_val, label = \"validation\")\n",
    "plt.legend()\n",
    "plt.show()"
   ]
  },
  {
   "cell_type": "code",
   "execution_count": null,
   "metadata": {},
   "outputs": [],
   "source": [
    "#Plot 4 random curves from training data and worst individual\n",
    "n = 5\n",
    "ex = randint(1,400, n-1)\n",
    "fig, axs = plt.subplots(n)\n",
    "fig.set_figwidth(20)\n",
    "fig.set_figheight(50)\n",
    "for k in range(n-1):\n",
    "    axs[k].plot(target_train[ex[k], 1:].detach().numpy(), label= 'target')\n",
    "    axs[k].plot(y_pred[ex[k], 1:].detach().numpy(), label= 'prediction')\n",
    "    axs[k].legend()\n",
    "pire_ind = np.argmax(MSE_list)\n",
    "axs[n-1].plot(target_train[ex[k], 1:].detach().numpy(), label= 'target')\n",
    "axs[n-1].plot(y_pred[ex[k], 1:].detach().numpy(), label= 'prediction')\n",
    "axs[n-1].legend()"
   ]
  },
  {
   "cell_type": "code",
   "execution_count": null,
   "metadata": {},
   "outputs": [],
   "source": [
    "#MSE on test data\n",
    "y_pred = model(input_test)\n",
    "print(pd.DataFrame(y_pred.detach().numpy()))\n",
    "#Results\n",
    "MSE_list = []\n",
    "for k in range(len(y_pred)):\n",
    "    MSE_list.append(mean_squared_error(y_pred[k, 1:].detach().numpy(),target_test[k, 1:].detach().numpy()))\n",
    "print(\"mean MSE on test data: \", np.mean(MSE_list))\n",
    "print(\"Worst case :\", np.max(MSE_list), \"for individual \", np.argmax(MSE_list))"
   ]
  },
  {
   "cell_type": "code",
   "execution_count": null,
   "metadata": {},
   "outputs": [],
   "source": [
    "#Plot n curves from test data\n",
    "n = 10\n",
    "ex = randint(1,100, n)\n",
    "fig, axs = plt.subplots(n)\n",
    "fig.set_figwidth(20)\n",
    "fig.set_figheight(50)\n",
    "res = []\n",
    "print(y_pred.shape)\n",
    "for k in range(n):\n",
    "    res.append((ex[k], mean_squared_error(target_test[ex[k], 1:].detach().numpy(), y_pred[ex[k], 1:].detach().numpy())))\n",
    "    axs[k].plot(target_test[ex[k], 1:].detach().numpy(), label= 'target')\n",
    "    axs[k].plot(y_pred[ex[k], 1:].detach().numpy(), label= 'prediction')\n",
    "    axs[k].plot(torch.roll(target_test, 1, 1)[ex[k], 1:], label = 'reporté de %timestepskip jours')\n",
    "    axs[k].legend()\n",
    "\n",
    "print(res) #res contient les MSE"
   ]
  },
  {
   "cell_type": "code",
   "execution_count": null,
   "metadata": {},
   "outputs": [],
   "source": [
    "#plot n worst curves\n",
    "indices = np.argpartition(MSE_list, -5)[-5:]\n",
    "n = 5\n",
    "ex = randint(1,100, n)\n",
    "fig, axs = plt.subplots(n)\n",
    "fig.set_figwidth(20)\n",
    "fig.set_figheight(50)\n",
    "for k in range(len(indices)):\n",
    "    axs[k].plot(target_test[indices[k], 1:].detach().numpy(), label= 'target')\n",
    "    axs[k].plot(y_pred[indices[k], 1:].detach().numpy(), label= 'prediction')\n",
    "    axs[k].plot(torch.roll(target_test, 1, 1)[indices[k], 1:], label = 'reporté de %timestepskip jours')\n",
    "    axs[k].legend()"
   ]
  }
 ],
 "metadata": {
  "kernelspec": {
   "display_name": "Python 3",
   "language": "python",
   "name": "python3"
  },
  "language_info": {
   "codemirror_mode": {
    "name": "ipython",
    "version": 3
   },
   "file_extension": ".py",
   "mimetype": "text/x-python",
   "name": "python",
   "nbconvert_exporter": "python",
   "pygments_lexer": "ipython3",
   "version": "3.12.0"
  }
 },
 "nbformat": 4,
 "nbformat_minor": 2
}
