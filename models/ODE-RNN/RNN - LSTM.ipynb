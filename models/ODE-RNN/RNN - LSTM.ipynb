{
 "cells": [
  {
   "cell_type": "code",
   "execution_count": 1,
   "metadata": {},
   "outputs": [],
   "source": [
    "#Imports\n",
    "import pandas as pd\n",
    "import matplotlib.pyplot as plt\n",
    "import numpy as np\n",
    "from numpy.random import randint\n",
    "import random\n",
    "import torch\n",
    "import torch.nn as nn\n",
    "import torch.nn.functional as F\n",
    "from torch.nn.utils.rnn import pad_sequence\n",
    "from torch.nn.utils.rnn import pack_padded_sequence\n",
    "from torch.utils.data import random_split\n",
    "from sklearn.metrics import mean_squared_error\n",
    "from sklearn.preprocessing import MinMaxScaler\n",
    "\n",
    "np.random.seed(0)\n",
    "torch.manual_seed(0)\n",
    "random.seed(0)"
   ]
  },
  {
   "cell_type": "code",
   "execution_count": 2,
   "metadata": {},
   "outputs": [],
   "source": [
    "#Class: RNN\n",
    "class RNN(nn.Module):\n",
    "    #sizes are the number of nodes for respective layers, as ints\n",
    "    #input_size should be the numbers of variables in input, output_size the number of variables predicted\n",
    "    #hidden_size should be chosen after experimentation, since we only have one layer it should be more than the number of variables\n",
    "    def __init__(self, input_size, hidden_size, output_size, **kwds):\n",
    "        super().__init__(**kwds)\n",
    "        #Number of nodes of the hidden layer (used for init)\n",
    "        self.hidden_size = hidden_size\n",
    "        #Weights\n",
    "        self.i2h = nn.RNN(input_size=input_size, hidden_size=hidden_size, batch_first=True)\n",
    "        self.h2o = nn.Linear(hidden_size, output_size)\n",
    "    \n",
    "    #Input must be torch.Tensor and normalized\n",
    "    def forward(self, input):\n",
    "        #h0 = self.initHidden()\n",
    "        h_list, hn = self.i2h(input)\n",
    "        output_list = self.h2o(h_list)\n",
    "        return output_list"
   ]
  },
  {
   "cell_type": "code",
   "execution_count": 3,
   "metadata": {},
   "outputs": [],
   "source": [
    "#Class : LSTM\n",
    "class LSTM(nn.Module):\n",
    "    #sizes are the number of nodes for respective layers, as ints\n",
    "    #input_size should be the numbers of variables in input, output_size the number of variables predicted\n",
    "    #hidden_size should be chosen after experimentation, since we only have one layer it should be more than the number of variables\n",
    "    def __init__(self, input_size, hidden_size, output_size, **kwds):\n",
    "        super().__init__(**kwds)\n",
    "        #Number of nodes of the hidden layer (used for init)\n",
    "        self.hidden_size = hidden_size\n",
    "        #Weights\n",
    "        self.i2h = nn.LSTM(input_size=input_size, hidden_size=hidden_size, batch_first=True)\n",
    "        self.h2o = nn.Linear(hidden_size, output_size)\n",
    "\n",
    "    \n",
    "    #Input must be torch.Tensor and normalized\n",
    "    def forward(self, input):\n",
    "        h_list, (hn,cn) = self.i2h(input)\n",
    "        output_list = self.h2o(h_list)\n",
    "        return output_list"
   ]
  },
  {
   "cell_type": "code",
   "execution_count": 4,
   "metadata": {},
   "outputs": [],
   "source": [
    "#Parameters to get several scenari\n",
    "CSV_FILE = \"C:/Users/Utilisateur/Documents/ENSAE/Stage/simulation/simulation.csv\"\n",
    "TRAINING_NUMBER = 400\n",
    "USE_NOISY_DATA = False\n",
    "USE_MIXED_EFFECT = True\n",
    "timestep_skip = 1\n",
    "MODEL = LSTM        "
   ]
  },
  {
   "cell_type": "code",
   "execution_count": 5,
   "metadata": {},
   "outputs": [],
   "source": [
    "#data loading\n",
    "data = pd.read_csv(CSV_FILE, sep=\";\", decimal=\",\")"
   ]
  },
  {
   "cell_type": "code",
   "execution_count": 6,
   "metadata": {},
   "outputs": [
    {
     "name": "stdout",
     "output_type": "stream",
     "text": [
      "['x1', 'x2', 'x3', 'x4', 'x5', 'x6', 'x7', 'x8']\n",
      "['y_mixed_obs']\n"
     ]
    }
   ],
   "source": [
    "x_labels = [\n",
    "    c for c in data.columns if c.startswith(\"x\") and ((\"_obs\" in c) is USE_NOISY_DATA)\n",
    "]\n",
    "if 'x8' not in x_labels:\n",
    "    x_labels.append('x8')\n",
    "#assert len(x_labels) == 8\n",
    "\n",
    "y_labels = [\n",
    "    c\n",
    "    for c in data.columns\n",
    "    if c.startswith(\"y\")\n",
    "    and ((\"_obs\" in c))\n",
    "    and ((\"_mixed\" in c) is USE_MIXED_EFFECT)\n",
    "]\n",
    "assert len(y_labels) == 1\n",
    "\n",
    "print(x_labels)\n",
    "print(y_labels)"
   ]
  },
  {
   "cell_type": "code",
   "execution_count": 13,
   "metadata": {},
   "outputs": [
    {
     "name": "stdout",
     "output_type": "stream",
     "text": [
      "       individus  temps         x1     x1_obs        x2    x2_obs        x3  \\\n",
      "0              1      0   0.578900   2.609469  1.182835  1.163621  0.337061   \n",
      "1              1      1  -0.722880   0.632410  1.063808  1.213479  0.336570   \n",
      "2              1      2  -2.024659  -4.894554  0.994182  1.007263  0.335097   \n",
      "3              1      3  -3.326438  -1.686564  0.944782  1.016037  0.332642   \n",
      "4              1      4  -4.628218  -5.122320  0.906464  0.815443  0.329205   \n",
      "...          ...    ...        ...        ...       ...       ...       ...   \n",
      "25443        499     45 -76.678387 -76.516981 -0.174296 -0.080400 -0.333873   \n",
      "25444        499     46 -78.385077 -78.411172 -0.179463 -0.103130 -0.391860   \n",
      "25445        499     47 -80.091768 -81.228441 -0.184522 -0.244751 -0.451121   \n",
      "25446        499     48 -81.798458 -79.666993 -0.189476 -0.041498 -0.511657   \n",
      "25447        499     49 -83.505148 -82.024546 -0.194330 -0.220532 -0.573468   \n",
      "\n",
      "         x3_obs        x4    x4_obs  ...         x6     x6_obs        x7  \\\n",
      "0      0.425037 -0.431840 -0.357768  ...   0.831012   1.352299 -0.516725   \n",
      "1      0.027890 -0.291742 -0.231186  ...   1.100089   0.659184 -0.197166   \n",
      "2      0.190370 -0.164976 -0.228072  ...   1.406843   1.589057 -0.054419   \n",
      "3      0.353213 -0.050273 -0.054755  ...   1.751273   1.588178 -0.013368   \n",
      "4      0.389886  0.053514  0.104324  ...   2.133381   2.310414 -0.003183   \n",
      "...         ...       ...       ...  ...        ...        ...       ...   \n",
      "25443 -0.465566 -0.184057 -0.095610  ...  73.160628  73.211024  0.010784   \n",
      "25444 -0.476695 -0.182175 -0.146689  ...  76.233693  76.404069  0.010535   \n",
      "25445 -0.461691 -0.180472 -0.150987  ...  79.369979  79.527135  0.010290   \n",
      "25446 -0.442380 -0.178932 -0.018741  ...  82.569484  82.993621  0.010049   \n",
      "25447 -0.449323 -0.177538 -0.172717  ...  85.832210  85.377682  0.009813   \n",
      "\n",
      "         x7_obs  x8   y_mixed  y_mixed_obs   y_fixed  y_fixed_obs       y+1  \n",
      "0     -0.530378   0 -0.377299    -0.446602 -0.377299    -0.485727 -0.336197  \n",
      "1     -0.202305   0 -0.351356    -0.336197 -0.351356    -0.215917 -0.305957  \n",
      "2     -0.062498   0 -0.465150    -0.305957 -0.465150    -0.520721 -0.562556  \n",
      "3     -0.002160   0 -0.593820    -0.562556 -0.593820    -0.540925 -0.768777  \n",
      "4     -0.018556   0 -0.724237    -0.768777 -0.724237    -0.885692 -0.964086  \n",
      "...         ...  ..       ...          ...       ...          ...       ...  \n",
      "25443  0.011849   0  1.666297     1.619072  5.860891     5.852609  1.679090  \n",
      "25444  0.021689   0  1.787526     1.679090  6.277842     6.298904  1.914499  \n",
      "25445  0.002472   0  1.913294     1.914499  6.710402     6.707421  2.146526  \n",
      "25446  0.001904   0  2.043640     2.146526  7.158706     7.195463  2.029715  \n",
      "25447  0.011317   0  2.178603     2.029715  7.622891     7.563784  2.305469  \n",
      "\n",
      "[20000 rows x 22 columns]\n"
     ]
    }
   ],
   "source": [
    "# preprocessing\n",
    "random.seed(0)\n",
    "data = data[data['temps']%timestep_skip == 0]\n",
    "data['y+1'] = data.groupby(\"individus\")[y_labels].shift(-1)\n",
    "data_norm = data.copy()\n",
    "data_norm = data_norm.dropna()\n",
    "N_train = random.sample(range(1,500), TRAINING_NUMBER)\n",
    "data_train = data_norm.loc[data_norm['individus'].isin(N_train)]\n",
    "data_test = data_norm[~data_norm['individus'].isin(N_train)]\n",
    "print(data_train)\n",
    "scaler = MinMaxScaler()\n",
    "data_train.loc[:,x_labels + y_labels + ['y+1']] = scaler.fit_transform(data_train[x_labels + y_labels + ['y+1']])\n",
    "data_test.loc[:,x_labels + y_labels + ['y+1']] = scaler.transform(data_test[x_labels + y_labels + ['y+1']])\n",
    "\n",
    "groupby = data_train.groupby('individus')[x_labels + y_labels].apply(np.array)\n",
    "input_train = [torch.Tensor(x) for x in groupby]\n",
    "input_train = torch.stack(input_train)\n",
    "groupby = data_train.groupby('individus')[['y+1']].apply(np.array)\n",
    "target_train = [torch.Tensor(x) for x in groupby]\n",
    "target_train = torch.stack(target_train)\n",
    "\n",
    "groupby = data_test.groupby('individus')[x_labels + y_labels].apply(np.array)\n",
    "input_test = [torch.Tensor(x) for x in groupby]\n",
    "input_test = torch.stack(input_test)\n",
    "groupby = data_test.groupby('individus')[['y+1']].apply(np.array)\n",
    "target_test = [torch.Tensor(x) for x in groupby]\n",
    "target_test = torch.stack(target_test)\n",
    "\n",
    "\n",
    "#seq_lens = [len(inp) for inp in groupby]\n",
    "#input_padded = pad_sequence([torch.tensor(x) for x in groupby])\n",
    "#input_pack_padded = pack_padded_sequence(input_padded, lengths=seq_lens)\n"
   ]
  },
  {
   "cell_type": "code",
   "execution_count": 213,
   "metadata": {},
   "outputs": [],
   "source": [
    "#hyperparamètres\n",
    "hidden_size = [5,10,15,25]\n",
    "learning_rate = [0.1, 0.05, 0.01, 0.005, 0.001]\n",
    "criterion = torch.nn.MSELoss()\n",
    "epoch = 1000\n",
    "eps = 0.001"
   ]
  },
  {
   "cell_type": "code",
   "execution_count": 205,
   "metadata": {},
   "outputs": [
    {
     "name": "stdout",
     "output_type": "stream",
     "text": [
      "181\n"
     ]
    }
   ],
   "source": [
    "#Training with convergence criteria\n",
    "model = MODEL(input_size = 9, hidden_size = 25, output_size=1)\n",
    "optimizer = torch.optim.SGD(model.parameters(), lr = 0.01)\n",
    "loss_val = [1]*100\n",
    "loss_train = []\n",
    "cur_loss_val = 0\n",
    "nb_epochs = 0\n",
    "while abs(loss_val[-100] - cur_loss_val) >= eps:\n",
    "\n",
    "    y_test = model(input = input_test)\n",
    "    cur_loss_val = criterion(y_test, target_test).item()\n",
    "    loss_val.append(cur_loss_val)\n",
    "\n",
    "    optimizer.zero_grad()\n",
    "    y_pred = model(input=input_train)\n",
    "    loss = criterion(y_pred, target_train)\n",
    "    loss.backward()\n",
    "    optimizer.step()\n",
    "\n",
    "    cur_loss_train = loss.item()\n",
    "    loss_train.append(cur_loss_train)\n",
    "    \n",
    "    nb_epochs += 1\n",
    "\n",
    "loss_val = loss_val[101:]\n",
    "print(nb_epochs)\n"
   ]
  },
  {
   "cell_type": "code",
   "execution_count": 214,
   "metadata": {},
   "outputs": [
    {
     "name": "stdout",
     "output_type": "stream",
     "text": [
      "25 0.001\n",
      "682\n"
     ]
    }
   ],
   "source": [
    "#Training with convergence criteria and GridSearch\n",
    "min_loss = float('inf')\n",
    "for h in hidden_size:\n",
    "    for lr in learning_rate:\n",
    "        model = MODEL(input_size = 9, hidden_size=h, output_size=1)\n",
    "        optimizer = torch.optim.SGD(model.parameters(), lr = lr)\n",
    "        loss_val = [1]*100\n",
    "        loss_train = []\n",
    "        cur_loss_val = 0\n",
    "        nb_epochs = 0\n",
    "        while abs(loss_val[-100] - cur_loss_val) >= eps:\n",
    "\n",
    "            y_test = model(input = input_test)\n",
    "            cur_loss_val = criterion(y_test, target_test).item()\n",
    "            loss_val.append(cur_loss_val)\n",
    "\n",
    "            optimizer.zero_grad()\n",
    "            y_pred = model(input=input_train)\n",
    "            loss = criterion(y_pred, target_train)\n",
    "            loss.backward()\n",
    "            optimizer.step()\n",
    "\n",
    "            cur_loss_train = loss.item()\n",
    "            loss_train.append(cur_loss_train)\n",
    "            \n",
    "            nb_epochs += 1\n",
    "        if cur_loss_val < min_loss:\n",
    "            min_loss = cur_loss_val\n",
    "            res = (h, lr)\n",
    "\n",
    "loss_val = loss_val[101:]\n",
    "print(h, lr)\n",
    "print(nb_epochs)"
   ]
  },
  {
   "cell_type": "code",
   "execution_count": 215,
   "metadata": {},
   "outputs": [
    {
     "data": {
      "image/png": "[encoded data removed]",
      "text/plain": [
       "<Figure size 640x480 with 1 Axes>"
      ]
     },
     "metadata": {},
     "output_type": "display_data"
    }
   ],
   "source": [
    "#plot loss\n",
    "plt.xlabel('Epoch')\n",
    "plt.ylabel('Loss')\n",
    "#plt.plot(loss_track)\n",
    "plt.plot(loss_train, label =\"loss\")\n",
    "plt.plot(loss_val, label = \"validation\")\n",
    "plt.legend()\n",
    "plt.show()"
   ]
  },
  {
   "cell_type": "code",
   "execution_count": 174,
   "metadata": {},
   "outputs": [
    {
     "name": "stdout",
     "output_type": "stream",
     "text": [
      "mean MSE on train data:  0.0016213747\n",
      "Worst case : 0.16280946 for individual  7\n"
     ]
    }
   ],
   "source": [
    "#Results on training\n",
    "MSE_list = []\n",
    "for k in range(len(y_pred)):\n",
    "    MSE_list.append(mean_squared_error(y_pred[k, 1:].detach().numpy(),target_train[k, 1:].detach().numpy()))\n",
    "print(\"mean MSE on train data: \", np.mean(MSE_list))\n",
    "print(\"Worst case :\", np.max(MSE_list), \"for individual \", np.argmax(MSE_list))"
   ]
  },
  {
   "cell_type": "code",
   "execution_count": null,
   "metadata": {},
   "outputs": [],
   "source": [
    "#Plot 4 random curves from training data and worst individual\n",
    "n = 5\n",
    "ex = randint(1,400, n-1)\n",
    "fig, axs = plt.subplots(n)\n",
    "fig.set_figwidth(20)\n",
    "fig.set_figheight(50)\n",
    "for k in range(n-1):\n",
    "    axs[k].plot(target_train[ex[k], 1:].detach().numpy(), label= 'target')\n",
    "    axs[k].plot(y_pred[ex[k], 1:].detach().numpy(), label= 'prediction')\n",
    "    axs[k].legend()\n",
    "pire_ind = np.argmax(MSE_list)\n",
    "axs[n-1].plot(target_train[ex[k], 1:].detach().numpy(), label= 'target')\n",
    "axs[n-1].plot(y_pred[ex[k], 1:].detach().numpy(), label= 'prediction')\n",
    "axs[n-1].legend()"
   ]
  },
  {
   "cell_type": "code",
   "execution_count": null,
   "metadata": {},
   "outputs": [],
   "source": [
    "#MSE on test data\n",
    "y_pred = model(input_test)\n",
    "print(pd.DataFrame(y_pred.detach().numpy()))\n",
    "#Results\n",
    "MSE_list = []\n",
    "for k in range(len(y_pred)):\n",
    "    MSE_list.append(mean_squared_error(y_pred[k, 1:].detach().numpy(),target_test[k, 1:].detach().numpy()))\n",
    "print(\"mean MSE on test data: \", np.mean(MSE_list))\n",
    "print(\"Worst case :\", np.max(MSE_list), \"for individual \", np.argmax(MSE_list))"
   ]
  },
  {
   "cell_type": "code",
   "execution_count": null,
   "metadata": {},
   "outputs": [],
   "source": [
    "#Plot n curves from test data\n",
    "n = 10\n",
    "ex = randint(1,100, n)\n",
    "fig, axs = plt.subplots(n)\n",
    "fig.set_figwidth(20)\n",
    "fig.set_figheight(50)\n",
    "res = []\n",
    "print(y_pred.shape)\n",
    "for k in range(n):\n",
    "    res.append((ex[k], mean_squared_error(target_test[ex[k], 1:].detach().numpy(), y_pred[ex[k], 1:].detach().numpy())))\n",
    "    axs[k].plot(target_test[ex[k], 1:].detach().numpy(), label= 'target')\n",
    "    axs[k].plot(y_pred[ex[k], 1:].detach().numpy(), label= 'prediction')\n",
    "    axs[k].plot(torch.roll(target_test, 1, 1)[ex[k], 1:], label = 'reporté de %timestepskip jours')\n",
    "    axs[k].legend()\n",
    "\n",
    "print(res) #res contient les MSE"
   ]
  },
  {
   "cell_type": "code",
   "execution_count": null,
   "metadata": {},
   "outputs": [],
   "source": [
    "#plot n worst curves\n",
    "indices = np.argpartition(MSE_list, -5)[-5:]\n",
    "n = 5\n",
    "ex = randint(1,100, n)\n",
    "fig, axs = plt.subplots(n)\n",
    "fig.set_figwidth(20)\n",
    "fig.set_figheight(50)\n",
    "for k in range(len(indices)):\n",
    "    axs[k].plot(target_test[indices[k], 1:].detach().numpy(), label= 'target')\n",
    "    axs[k].plot(y_pred[indices[k], 1:].detach().numpy(), label= 'prediction')\n",
    "    axs[k].plot(torch.roll(target_test, 1, 1)[indices[k], 1:], label = 'reporté de %timestepskip jours')\n",
    "    axs[k].legend()"
   ]
  }
 ],
 "metadata": {
  "kernelspec": {
   "display_name": "Python 3",
   "language": "python",
   "name": "python3"
  },
  "language_info": {
   "codemirror_mode": {
    "name": "ipython",
    "version": 3
   },
   "file_extension": ".py",
   "mimetype": "text/x-python",
   "name": "python",
   "nbconvert_exporter": "python",
   "pygments_lexer": "ipython3",
   "version": "3.12.0"
  }
 },
 "nbformat": 4,
 "nbformat_minor": 2
}
