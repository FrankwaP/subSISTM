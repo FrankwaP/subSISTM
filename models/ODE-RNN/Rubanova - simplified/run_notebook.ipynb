{
 "cells": [
  {
   "cell_type": "markdown",
   "metadata": {},
   "source": [
    "#### Latent ODEs for Irregularly-Sampled Time Series\n",
    "#### Author: Yulia Rubanova"
   ]
  },
  {
   "cell_type": "code",
   "execution_count": 1,
   "metadata": {},
   "outputs": [],
   "source": [
    "import matplotlib\n",
    "matplotlib.use('Agg')\n",
    "import matplotlib.pyplot\n",
    "import matplotlib.pyplot as plt\n",
    "\n",
    "import numpy as np\n",
    "import pandas as pd\n",
    "from random import SystemRandom\n",
    "from sklearn import model_selection\n",
    "from sklearn.preprocessing import RobustScaler\n",
    "import random\n",
    "\n",
    "import torch\n",
    "import torch.nn as nn\n",
    "import torch.optim as optim\n",
    "\n",
    "import utils\n",
    "from utils import compute_loss_all_batches\n",
    "\n",
    "from ode_rnn import *\n",
    "from ode_func import ODEFunc, ODEFunc_w_Poisson\n",
    "from diffeq_solver import DiffeqSolver"
   ]
  },
  {
   "cell_type": "code",
   "execution_count": 2,
   "metadata": {},
   "outputs": [],
   "source": [
    "np.random.seed(0)\n",
    "torch.manual_seed(0)\n",
    "random.seed(0)"
   ]
  },
  {
   "cell_type": "code",
   "execution_count": 3,
   "metadata": {},
   "outputs": [],
   "source": [
    "USE_NOISY_DATA = False\n",
    "USE_MIXED_EFFECT = True\n",
    "timestep_skip = 1\n",
    "RE = 'Mixed' if USE_MIXED_EFFECT else 'Fixed'"
   ]
  },
  {
   "cell_type": "code",
   "execution_count": 4,
   "metadata": {},
   "outputs": [],
   "source": [
    "device = torch.device(\"cuda:0\" if torch.cuda.is_available() else \"cpu\")\n",
    "CSV_FILE = \"../../../data/synthetic_bph_1/Simulations/simulation1.csv\"\n",
    "CSV_Dtest = \"../../../data/synthetic_bph_1/Simulations/01_test.csv\""
   ]
  },
  {
   "cell_type": "code",
   "execution_count": 5,
   "metadata": {},
   "outputs": [],
   "source": [
    "data = pd.read_csv(CSV_FILE, sep=\";\", decimal=\",\")\n",
    "dtest = pd.read_csv(CSV_Dtest, sep=\";\", decimal=\",\")"
   ]
  },
  {
   "cell_type": "code",
   "execution_count": 6,
   "metadata": {},
   "outputs": [
    {
     "name": "stdout",
     "output_type": "stream",
     "text": [
      "['x1', 'x2', 'x3', 'x4', 'x5', 'x6', 'x7', 'x8']\n",
      "['y_mixed_obs']\n"
     ]
    }
   ],
   "source": [
    "x_labels = [\n",
    "    c for c in data.columns if c.startswith(\"x\") and (((\"_\" in c) is USE_NOISY_DATA and ('obs' in c) is USE_NOISY_DATA))\n",
    "]\n",
    "if 'x8' not in x_labels:\n",
    "    x_labels.append('x8')\n",
    "#assert len(x_labels) == 8\n",
    "\n",
    "y_labels = [\n",
    "    c\n",
    "    for c in data.columns\n",
    "    if c.startswith(\"y\")\n",
    "    and ((\"_obs\" in c))\n",
    "    and ((\"_mixed\" in c) is USE_MIXED_EFFECT)\n",
    "]\n",
    "assert len(y_labels) == 1\n",
    "\n",
    "print(x_labels)\n",
    "print(y_labels)"
   ]
  },
  {
   "cell_type": "code",
   "execution_count": 7,
   "metadata": {},
   "outputs": [],
   "source": [
    "obsrv_std = 0.01\n",
    "n_ode_gru_dims = 10\n",
    "input_dim = 8\n",
    "output_dim = 1\n",
    "lr = 1e-2\n",
    "niters = 15000\n",
    "train_dict={}\n",
    "test_dict={}"
   ]
  },
  {
   "cell_type": "code",
   "execution_count": 8,
   "metadata": {},
   "outputs": [],
   "source": [
    "data = data[data['temps']%timestep_skip == 0]\n",
    "data_train = data.copy()\n",
    "data_train = data_train.dropna()\n",
    "\n",
    "scaler_x = RobustScaler()\n",
    "data_train.loc[:,x_labels] = scaler_x.fit_transform(data_train[x_labels])\n",
    "\n",
    "scaler_y = RobustScaler()\n",
    "data_train.loc[:,y_labels] = scaler_y.fit_transform(data_train[y_labels])\n",
    "\n",
    "groupby = data_train.groupby('individus')[x_labels].apply(np.array)\n",
    "input_train = [torch.Tensor(x) for x in groupby]\n",
    "input_train = torch.stack(input_train)\n",
    "groupby = data_train.groupby('individus')[y_labels].apply(np.array)\n",
    "target_train = [torch.Tensor(x) for x in groupby]\n",
    "target_train = torch.stack(target_train)\n",
    "\n",
    "groupby = data_train.groupby('individus')['temps'].apply(np.array)\n",
    "observed_tp= [torch.Tensor(x) for x in groupby]\n",
    "observed_tp = torch.stack(observed_tp)\n",
    "\n"
   ]
  },
  {
   "cell_type": "code",
   "execution_count": 9,
   "metadata": {},
   "outputs": [],
   "source": [
    "dtest = dtest[dtest['temps']%timestep_skip == 0]\n",
    "dtest_norm = dtest.copy()\n",
    "dtest_norm = dtest_norm.dropna()\n",
    "\n",
    "scaler_x_test = RobustScaler()\n",
    "dtest_norm.loc[:,x_labels] = scaler_x.fit_transform(dtest_norm[x_labels])\n",
    "\n",
    "scaler_y_test = RobustScaler()\n",
    "dtest_norm.loc[:,y_labels] = scaler_y.fit_transform(dtest_norm[y_labels])\n",
    "\n",
    "groupby = dtest_norm.groupby('individus')[x_labels].apply(np.array)\n",
    "input_test = [torch.Tensor(x) for x in groupby]\n",
    "input_test = torch.stack(input_test)\n",
    "groupby = dtest_norm.groupby('individus')[y_labels].apply(np.array)\n",
    "target_test = [torch.Tensor(x) for x in groupby]\n",
    "target_test = torch.stack(target_test)"
   ]
  },
  {
   "cell_type": "code",
   "execution_count": 10,
   "metadata": {},
   "outputs": [],
   "source": [
    "train_dict[\"tp_to_predict\"] = observed_tp[0]\n",
    "train_dict[\"observed_data\"] = input_train\n",
    "train_dict[\"observed_tp\"] = observed_tp[0]\n",
    "train_dict[\"data_to_predict\"] = target_train\n",
    "train_dict[\"mode\"] = None\n",
    "train_dict['labels'] = None\n",
    "train_dict[\"observed_mask\"] =  torch.ones(input_train.shape)\n",
    "train_dict[\"mask_predicted_data\"] = torch.ones(target_train.shape)"
   ]
  },
  {
   "cell_type": "code",
   "execution_count": 11,
   "metadata": {},
   "outputs": [],
   "source": [
    "\n",
    "ode_func_net = utils.create_net(n_ode_gru_dims, n_ode_gru_dims, \n",
    "    n_layers = 2, n_units = 25, nonlinear = nn.Tanh)\n",
    "\n",
    "rec_ode_func = ODEFunc(\n",
    "    input_dim = input_dim, \n",
    "    latent_dim = n_ode_gru_dims,\n",
    "    ode_func_net = ode_func_net,\n",
    "    device = device).to(device)\n",
    "\n",
    "z0_diffeq_solver = DiffeqSolver(input_dim, rec_ode_func, \"euler\", 10, \n",
    "    odeint_rtol = 1e-3, odeint_atol = 1e-4, device = device)\n",
    "\n",
    "model = ODE_RNN(input_dim, n_ode_gru_dims, output_dim, device = device, \n",
    "    z0_diffeq_solver = z0_diffeq_solver, n_gru_units = 25,\n",
    "    concat_mask = True, obsrv_std = obsrv_std,\n",
    "    use_binary_classif = False,\n",
    "    classif_per_tp = False,\n",
    "    n_labels = 1,\n",
    "    train_classif_w_reconstr =  False).to(device)"
   ]
  },
  {
   "cell_type": "code",
   "execution_count": null,
   "metadata": {},
   "outputs": [],
   "source": [
    "optimizer = optim.Adamax(model.parameters(), lr=lr)\n",
    "\n",
    "num_batches = 1\n",
    "\n",
    "for itr in range(1, num_batches * (niters + 1)):\n",
    "    optimizer.zero_grad()\n",
    "    utils.update_learning_rate(optimizer, decay_rate = 0.999, lowest = lr / 10)\n",
    "\n",
    "    train_res = model.compute_all_losses(train_dict, n_traj_samples = 500)\n",
    "    train_res[\"loss\"].backward()\n",
    "    optimizer.step()"
   ]
  },
  {
   "cell_type": "code",
   "execution_count": null,
   "metadata": {},
   "outputs": [],
   "source": [
    "test_dict[\"tp_to_predict\"] = observed_tp[0]\n",
    "test_dict[\"observed_data\"] = input_test\n",
    "test_dict[\"observed_tp\"] = observed_tp[0]\n",
    "test_dict[\"data_to_predict\"] = target_test\n",
    "test_dict[\"mode\"] = None\n",
    "test_dict['labels'] = None\n",
    "test_dict[\"observed_mask\"] =  torch.ones(input_test.shape)\n",
    "test_dict[\"mask_predicted_data\"] = torch.ones(target_test.shape)"
   ]
  },
  {
   "cell_type": "code",
   "execution_count": null,
   "metadata": {},
   "outputs": [],
   "source": [
    "test_res = model.compute_all_losses(test_dict, n_traj_samples=500)\n",
    "print(test_res)\n",
    "print(test_res[\"loss\"])"
   ]
  }
 ],
 "metadata": {
  "kernelspec": {
   "display_name": "Python 3",
   "language": "python",
   "name": "python3"
  },
  "language_info": {
   "codemirror_mode": {
    "name": "ipython",
    "version": 3
   },
   "file_extension": ".py",
   "mimetype": "text/x-python",
   "name": "python",
   "nbconvert_exporter": "python",
   "pygments_lexer": "ipython3",
   "version": "3.12.0"
  }
 },
 "nbformat": 4,
 "nbformat_minor": 2
}
