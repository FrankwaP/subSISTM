{
 "cells": [
  {
   "cell_type": "markdown",
   "metadata": {},
   "source": [
    "#### Latent ODEs for Irregularly-Sampled Time Series\n",
    "#### Author: Yulia Rubanova"
   ]
  },
  {
   "cell_type": "code",
   "execution_count": 1,
   "metadata": {},
   "outputs": [],
   "source": [
    "import matplotlib\n",
    "matplotlib.use('Agg')\n",
    "import matplotlib.pyplot\n",
    "import matplotlib.pyplot as plt\n",
    "\n",
    "import numpy as np\n",
    "from numpy.random import randint\n",
    "import pandas as pd\n",
    "from random import SystemRandom\n",
    "from sklearn import model_selection\n",
    "from sklearn.preprocessing import RobustScaler\n",
    "from sklearn.metrics import mean_absolute_error as MAE\n",
    "from sklearn.metrics import mean_squared_error as MSE\n",
    "import random\n",
    "\n",
    "import torch\n",
    "import torch.nn as nn\n",
    "import torch.optim as optim\n",
    "\n",
    "import utils\n",
    "from utils import compute_loss_all_batches\n",
    "\n",
    "from ode_rnn import *\n",
    "from ode_func import ODEFunc\n",
    "from diffeq_solver import DiffeqSolver"
   ]
  },
  {
   "cell_type": "code",
   "execution_count": 2,
   "metadata": {},
   "outputs": [],
   "source": [
    "np.random.seed(0)\n",
    "torch.manual_seed(0)\n",
    "random.seed(0)"
   ]
  },
  {
   "cell_type": "code",
   "execution_count": 3,
   "metadata": {},
   "outputs": [],
   "source": [
    "USE_NOISY_DATA = False\n",
    "USE_MIXED_EFFECT = True\n",
    "RANDOM_TIME = True\n",
    "RE = 'Mixed' if USE_MIXED_EFFECT else 'Fixed'\n",
    "Time = 'Random time' if RANDOM_TIME else 'Regular time'"
   ]
  },
  {
   "cell_type": "code",
   "execution_count": null,
   "metadata": {},
   "outputs": [],
   "source": [
    "device = torch.device(\"cuda:0\" if torch.cuda.is_available() else \"cpu\")\n",
    "CSV_FILE = \"../../../data/synthetic_bph_1/Simulations/simulation1.csv\"\n",
    "CSV_Dtest = \"../../../data/synthetic_bph_1/Simulations/01_test.csv\""
   ]
  },
  {
   "cell_type": "code",
   "execution_count": 5,
   "metadata": {},
   "outputs": [],
   "source": [
    "data = pd.read_csv(CSV_FILE, sep=\";\", decimal=\",\")\n",
    "dtest = pd.read_csv(CSV_Dtest, sep=\";\", decimal=\",\")"
   ]
  },
  {
   "cell_type": "code",
   "execution_count": 6,
   "metadata": {},
   "outputs": [
    {
     "name": "stdout",
     "output_type": "stream",
     "text": [
      "['x1', 'x2', 'x3', 'x4', 'x5', 'x6', 'x7', 'x8']\n",
      "['y_mixed_obs']\n"
     ]
    }
   ],
   "source": [
    "x_labels = [\n",
    "    c for c in data.columns if c.startswith(\"x\") and (((\"_\" in c) is USE_NOISY_DATA and ('obs' in c) is USE_NOISY_DATA))\n",
    "]\n",
    "if 'x8' not in x_labels:\n",
    "    x_labels.append('x8')\n",
    "#assert len(x_labels) == 8\n",
    "\n",
    "y_labels = [\n",
    "    c\n",
    "    for c in data.columns\n",
    "    if c.startswith(\"y\")\n",
    "    and ((\"_obs\" in c))\n",
    "    and ((\"_mixed\" in c) is USE_MIXED_EFFECT)\n",
    "]\n",
    "assert len(y_labels) == 1\n",
    "\n",
    "print(x_labels)\n",
    "print(y_labels)"
   ]
  },
  {
   "cell_type": "code",
   "execution_count": 7,
   "metadata": {},
   "outputs": [],
   "source": [
    "obsrv_std = 0.01\n",
    "n_ode_gru_dims = 10\n",
    "input_dim = 8\n",
    "output_dim = 1\n",
    "lr = 1e-2\n",
    "niters = 5000\n",
    "eps = 0.0005\n",
    "train_dict={}\n",
    "val_dict={}\n",
    "test_dict={}"
   ]
  },
  {
   "cell_type": "code",
   "execution_count": 8,
   "metadata": {},
   "outputs": [],
   "source": [
    "data_norm = data.copy()\n",
    "data_norm = data_norm.dropna()\n",
    "N_train = random.sample(range(1,501), 400)\n",
    "N_train.sort()\n",
    "N_val =  [x for x in range(1,501) if x not in N_train]\n",
    "data_train = data_norm.loc[data_norm['individus'].isin(N_train)]\n",
    "data_val = data_norm[~data_norm['individus'].isin(N_train)]\n",
    "\n",
    "scaler_x = RobustScaler()\n",
    "data_train.loc[:,x_labels] = scaler_x.fit_transform(data_train[x_labels])\n",
    "data_val.loc[:,x_labels] = scaler_x.transform(data_val[x_labels ])\n",
    "\n",
    "scaler_y = RobustScaler()\n",
    "data_train.loc[:,y_labels] = scaler_y.fit_transform(data_train[y_labels])\n",
    "data_val.loc[:,y_labels] = scaler_y.transform(data_val[y_labels])\n",
    "\n",
    "groupby = data_train.groupby('individus')[x_labels].apply(np.array)\n",
    "input_train = [torch.Tensor(x) for x in groupby]\n",
    "input_train = torch.stack(input_train)\n",
    "groupby = data_train.groupby('individus')[y_labels].apply(np.array)\n",
    "target_train = [torch.Tensor(x) for x in groupby]\n",
    "target_train = torch.stack(target_train)\n",
    "\n",
    "groupby = data_val.groupby('individus')[x_labels].apply(np.array)\n",
    "input_val = [torch.Tensor(x) for x in groupby]\n",
    "input_val = torch.stack(input_val)\n",
    "groupby = data_val.groupby('individus')[y_labels].apply(np.array)\n",
    "target_val = [torch.Tensor(x) for x in groupby]\n",
    "target_val = torch.stack(target_val)\n",
    "\n",
    "groupby = data_train.groupby('individus')['temps'].apply(np.array)\n",
    "observed_tp= [torch.Tensor(x) for x in groupby]\n",
    "observed_tp = torch.stack(observed_tp)"
   ]
  },
  {
   "cell_type": "code",
   "execution_count": 9,
   "metadata": {},
   "outputs": [],
   "source": [
    "dtest_norm = dtest.copy()\n",
    "dtest_norm = dtest_norm.dropna()\n",
    "\n",
    "scaler_x_test = RobustScaler()\n",
    "dtest_norm.loc[:,x_labels] = scaler_x.fit_transform(dtest_norm[x_labels])\n",
    "\n",
    "scaler_y_test = RobustScaler()\n",
    "dtest_norm.loc[:,y_labels] = scaler_y.fit_transform(dtest_norm[y_labels])\n",
    "\n",
    "groupby = dtest_norm.groupby('individus')[x_labels].apply(np.array)\n",
    "input_test = [torch.Tensor(x) for x in groupby]\n",
    "input_test = torch.stack(input_test)\n",
    "groupby = dtest_norm.groupby('individus')[y_labels].apply(np.array)\n",
    "target_test = [torch.Tensor(x) for x in groupby]\n",
    "target_test = torch.stack(target_test)"
   ]
  },
  {
   "cell_type": "code",
   "execution_count": 10,
   "metadata": {},
   "outputs": [],
   "source": [
    "train_dict[\"tp_to_predict\"] = observed_tp[0] #The time point you want to make a prediction at, it only works at the observed time points\n",
    "train_dict[\"observed_data\"] = input_train #X\n",
    "train_dict[\"observed_tp\"] = observed_tp[0] #Time of observations\n",
    "train_dict[\"data_to_predict\"] = target_train #Y\n",
    "train_dict[\"mode\"] = None #interpolation or extrapolation, extrapolation isn't implemented\n",
    "train_dict['labels'] = None #Used for classification\n",
    "train_dict[\"observed_mask\"] =  torch.ones(input_train.shape) #matrix of the same size as inputs, 0 for the inputs you want to ignore, 1 for the others\n",
    "train_dict[\"mask_predicted_data\"] = torch.ones(target_train.shape) #same thing for the outputs"
   ]
  },
  {
   "cell_type": "code",
   "execution_count": null,
   "metadata": {},
   "outputs": [],
   "source": [
    "val_dict[\"tp_to_predict\"] = observed_tp[0]\n",
    "val_dict[\"observed_data\"] = input_val\n",
    "val_dict[\"observed_tp\"] = observed_tp[0]\n",
    "val_dict[\"data_to_predict\"] = target_val\n",
    "val_dict[\"mode\"] = None \n",
    "val_dict['labels'] = None \n",
    "val_dict[\"observed_mask\"] =  torch.ones(input_val.shape)\n",
    "val_dict[\"mask_predicted_data\"] = torch.ones(target_val.shape)"
   ]
  },
  {
   "cell_type": "code",
   "execution_count": 12,
   "metadata": {},
   "outputs": [],
   "source": [
    "#The net used to represent the flucuation of h_t bewteen observations\n",
    "ode_func_net = utils.create_net(n_ode_gru_dims, n_ode_gru_dims, \n",
    "    n_layers = 2, n_units = 25, nonlinear = nn.Tanh)\n",
    "\n",
    "rec_ode_func = ODEFunc(\n",
    "    input_dim = input_dim, \n",
    "    latent_dim = n_ode_gru_dims,\n",
    "    ode_func_net = ode_func_net,\n",
    "    device = device).to(device)\n",
    "\n",
    "#ODE solver\n",
    "z0_diffeq_solver = DiffeqSolver(input_dim, rec_ode_func, \"euler\", 10, \n",
    "    odeint_rtol = 1e-3, odeint_atol = 1e-4, device = device)\n",
    "\n",
    "model = ODE_RNN(input_dim, n_ode_gru_dims, output_dim, device = device, \n",
    "    z0_diffeq_solver = z0_diffeq_solver, n_gru_units = 25,\n",
    "    concat_mask = True, obsrv_std = obsrv_std,\n",
    "    use_binary_classif = False,\n",
    "    classif_per_tp = False,\n",
    "    n_labels = 1,\n",
    "    train_classif_w_reconstr =  False).to(device)\n",
    "\n",
    "optimizer = optim.Adamax(model.parameters(), lr=lr)"
   ]
  },
  {
   "cell_type": "code",
   "execution_count": 13,
   "metadata": {},
   "outputs": [
    {
     "ename": "KeyboardInterrupt",
     "evalue": "",
     "output_type": "error",
     "traceback": [
      "\u001b[1;31m---------------------------------------------------------------------------\u001b[0m",
      "\u001b[1;31mKeyboardInterrupt\u001b[0m                         Traceback (most recent call last)",
      "Cell \u001b[1;32mIn[13], line 10\u001b[0m\n\u001b[0;32m      8\u001b[0m optimizer\u001b[38;5;241m.\u001b[39mzero_grad()\n\u001b[0;32m      9\u001b[0m utils\u001b[38;5;241m.\u001b[39mupdate_learning_rate(optimizer, decay_rate \u001b[38;5;241m=\u001b[39m \u001b[38;5;241m0.999\u001b[39m, lowest \u001b[38;5;241m=\u001b[39m lr \u001b[38;5;241m/\u001b[39m \u001b[38;5;241m10\u001b[39m)\n\u001b[1;32m---> 10\u001b[0m train_res \u001b[38;5;241m=\u001b[39m \u001b[43mmodel\u001b[49m\u001b[38;5;241;43m.\u001b[39;49m\u001b[43mcompute_all_losses\u001b[49m\u001b[43m(\u001b[49m\u001b[43mtrain_dict\u001b[49m\u001b[43m,\u001b[49m\u001b[43m \u001b[49m\u001b[43mn_traj_samples\u001b[49m\u001b[43m \u001b[49m\u001b[38;5;241;43m=\u001b[39;49m\u001b[43m \u001b[49m\u001b[38;5;241;43m100\u001b[39;49m\u001b[43m)\u001b[49m\n\u001b[0;32m     11\u001b[0m train_res[\u001b[38;5;124m\"\u001b[39m\u001b[38;5;124mloss\u001b[39m\u001b[38;5;124m\"\u001b[39m]\u001b[38;5;241m.\u001b[39mbackward()\n\u001b[0;32m     12\u001b[0m loss_train\u001b[38;5;241m.\u001b[39mappend(train_res[\u001b[38;5;124m'\u001b[39m\u001b[38;5;124mmse\u001b[39m\u001b[38;5;124m'\u001b[39m]\u001b[38;5;241m.\u001b[39mitem())\n",
      "File \u001b[1;32mc:\\Users\\Utilisateur\\Documents\\ENSAE\\Stage\\subSISTM\\models\\ODE-RNN\\Rubanova - simplified\\base_models.py:105\u001b[0m, in \u001b[0;36mBaseline.compute_all_losses\u001b[1;34m(self, batch_dict, n_tp_to_sample, n_traj_samples, kl_coef)\u001b[0m\n\u001b[0;32m    100\u001b[0m \u001b[38;5;28;01mdef\u001b[39;00m \u001b[38;5;21mcompute_all_losses\u001b[39m(\u001b[38;5;28mself\u001b[39m, batch_dict,\n\u001b[0;32m    101\u001b[0m \tn_tp_to_sample \u001b[38;5;241m=\u001b[39m \u001b[38;5;28;01mNone\u001b[39;00m, n_traj_samples \u001b[38;5;241m=\u001b[39m \u001b[38;5;241m1\u001b[39m, kl_coef \u001b[38;5;241m=\u001b[39m \u001b[38;5;241m1.\u001b[39m):\n\u001b[0;32m    102\u001b[0m \n\u001b[0;32m    103\u001b[0m \t\u001b[38;5;66;03m# Condition on subsampled points\u001b[39;00m\n\u001b[0;32m    104\u001b[0m \t\u001b[38;5;66;03m# Make predictions for all the points\u001b[39;00m\n\u001b[1;32m--> 105\u001b[0m \tpred_x, info \u001b[38;5;241m=\u001b[39m \u001b[38;5;28;43mself\u001b[39;49m\u001b[38;5;241;43m.\u001b[39;49m\u001b[43mget_reconstruction\u001b[49m\u001b[43m(\u001b[49m\u001b[43mbatch_dict\u001b[49m\u001b[43m[\u001b[49m\u001b[38;5;124;43m\"\u001b[39;49m\u001b[38;5;124;43mtp_to_predict\u001b[39;49m\u001b[38;5;124;43m\"\u001b[39;49m\u001b[43m]\u001b[49m\u001b[43m,\u001b[49m\u001b[43m \u001b[49m\n\u001b[0;32m    106\u001b[0m \u001b[43m\t\t\u001b[49m\u001b[43mbatch_dict\u001b[49m\u001b[43m[\u001b[49m\u001b[38;5;124;43m\"\u001b[39;49m\u001b[38;5;124;43mobserved_data\u001b[39;49m\u001b[38;5;124;43m\"\u001b[39;49m\u001b[43m]\u001b[49m\u001b[43m,\u001b[49m\u001b[43m \u001b[49m\u001b[43mbatch_dict\u001b[49m\u001b[43m[\u001b[49m\u001b[38;5;124;43m\"\u001b[39;49m\u001b[38;5;124;43mobserved_tp\u001b[39;49m\u001b[38;5;124;43m\"\u001b[39;49m\u001b[43m]\u001b[49m\u001b[43m,\u001b[49m\u001b[43m \u001b[49m\n\u001b[0;32m    107\u001b[0m \u001b[43m\t\t\u001b[49m\u001b[43mmask\u001b[49m\u001b[43m \u001b[49m\u001b[38;5;241;43m=\u001b[39;49m\u001b[43m \u001b[49m\u001b[43mbatch_dict\u001b[49m\u001b[43m[\u001b[49m\u001b[38;5;124;43m\"\u001b[39;49m\u001b[38;5;124;43mobserved_mask\u001b[39;49m\u001b[38;5;124;43m\"\u001b[39;49m\u001b[43m]\u001b[49m\u001b[43m,\u001b[49m\u001b[43m \u001b[49m\u001b[43mn_traj_samples\u001b[49m\u001b[43m \u001b[49m\u001b[38;5;241;43m=\u001b[39;49m\u001b[43m \u001b[49m\u001b[43mn_traj_samples\u001b[49m\u001b[43m,\u001b[49m\n\u001b[0;32m    108\u001b[0m \u001b[43m\t\t\u001b[49m\u001b[43mmode\u001b[49m\u001b[43m \u001b[49m\u001b[38;5;241;43m=\u001b[39;49m\u001b[43m \u001b[49m\u001b[43mbatch_dict\u001b[49m\u001b[43m[\u001b[49m\u001b[38;5;124;43m\"\u001b[39;49m\u001b[38;5;124;43mmode\u001b[39;49m\u001b[38;5;124;43m\"\u001b[39;49m\u001b[43m]\u001b[49m\u001b[43m)\u001b[49m\n\u001b[0;32m    110\u001b[0m \t\u001b[38;5;66;03m# Compute likelihood of all the points\u001b[39;00m\n\u001b[0;32m    111\u001b[0m \tlikelihood \u001b[38;5;241m=\u001b[39m \u001b[38;5;28mself\u001b[39m\u001b[38;5;241m.\u001b[39mget_gaussian_likelihood(batch_dict[\u001b[38;5;124m\"\u001b[39m\u001b[38;5;124mdata_to_predict\u001b[39m\u001b[38;5;124m\"\u001b[39m], pred_x,\n\u001b[0;32m    112\u001b[0m \t\tmask \u001b[38;5;241m=\u001b[39m batch_dict[\u001b[38;5;124m\"\u001b[39m\u001b[38;5;124mmask_predicted_data\u001b[39m\u001b[38;5;124m\"\u001b[39m])\n",
      "File \u001b[1;32mc:\\Users\\Utilisateur\\Documents\\ENSAE\\Stage\\subSISTM\\models\\ODE-RNN\\Rubanova - simplified\\ode_rnn.py:70\u001b[0m, in \u001b[0;36mODE_RNN.get_reconstruction\u001b[1;34m(self, time_steps_to_predict, data, truth_time_steps, mask, n_traj_samples, mode)\u001b[0m\n\u001b[0;32m     67\u001b[0m \u001b[38;5;28;01mif\u001b[39;00m mask \u001b[38;5;129;01mis\u001b[39;00m \u001b[38;5;129;01mnot\u001b[39;00m \u001b[38;5;28;01mNone\u001b[39;00m:\n\u001b[0;32m     68\u001b[0m \tdata_and_mask \u001b[38;5;241m=\u001b[39m torch\u001b[38;5;241m.\u001b[39mcat([data, mask],\u001b[38;5;241m-\u001b[39m\u001b[38;5;241m1\u001b[39m)\n\u001b[1;32m---> 70\u001b[0m _, _, latent_ys, _ \u001b[38;5;241m=\u001b[39m \u001b[38;5;28;43mself\u001b[39;49m\u001b[38;5;241;43m.\u001b[39;49m\u001b[43mode_gru\u001b[49m\u001b[38;5;241;43m.\u001b[39;49m\u001b[43mrun_odernn\u001b[49m\u001b[43m(\u001b[49m\n\u001b[0;32m     71\u001b[0m \u001b[43m\t\u001b[49m\u001b[43mdata_and_mask\u001b[49m\u001b[43m,\u001b[49m\u001b[43m \u001b[49m\u001b[43mtruth_time_steps\u001b[49m\u001b[43m,\u001b[49m\u001b[43m \u001b[49m\u001b[43mrun_backwards\u001b[49m\u001b[43m \u001b[49m\u001b[38;5;241;43m=\u001b[39;49m\u001b[43m \u001b[49m\u001b[38;5;28;43;01mFalse\u001b[39;49;00m\u001b[43m)\u001b[49m\n\u001b[0;32m     73\u001b[0m latent_ys \u001b[38;5;241m=\u001b[39m latent_ys\u001b[38;5;241m.\u001b[39mpermute(\u001b[38;5;241m0\u001b[39m,\u001b[38;5;241m2\u001b[39m,\u001b[38;5;241m1\u001b[39m,\u001b[38;5;241m3\u001b[39m)\n\u001b[0;32m     74\u001b[0m last_hidden \u001b[38;5;241m=\u001b[39m latent_ys[:,:,\u001b[38;5;241m-\u001b[39m\u001b[38;5;241m1\u001b[39m,:]\n",
      "File \u001b[1;32mc:\\Users\\Utilisateur\\Documents\\ENSAE\\Stage\\subSISTM\\models\\ODE-RNN\\Rubanova - simplified\\encoder_decoder.py:227\u001b[0m, in \u001b[0;36mEncoder_z0_ODE_RNN.run_odernn\u001b[1;34m(self, data, time_steps, run_backwards, save_info)\u001b[0m\n\u001b[0;32m    224\u001b[0m yi_ode \u001b[38;5;241m=\u001b[39m ode_sol[:, :, \u001b[38;5;241m-\u001b[39m\u001b[38;5;241m1\u001b[39m, :]\n\u001b[0;32m    225\u001b[0m xi \u001b[38;5;241m=\u001b[39m data[:,i,:]\u001b[38;5;241m.\u001b[39munsqueeze(\u001b[38;5;241m0\u001b[39m)\n\u001b[1;32m--> 227\u001b[0m yi, yi_std \u001b[38;5;241m=\u001b[39m \u001b[38;5;28;43mself\u001b[39;49m\u001b[38;5;241;43m.\u001b[39;49m\u001b[43mGRU_update\u001b[49m\u001b[43m(\u001b[49m\u001b[43myi_ode\u001b[49m\u001b[43m,\u001b[49m\u001b[43m \u001b[49m\u001b[43mprev_std\u001b[49m\u001b[43m,\u001b[49m\u001b[43m \u001b[49m\u001b[43mxi\u001b[49m\u001b[43m)\u001b[49m\n\u001b[0;32m    229\u001b[0m prev_y, prev_std \u001b[38;5;241m=\u001b[39m yi, yi_std\t\t\t\n\u001b[0;32m    230\u001b[0m prev_t, t_i \u001b[38;5;241m=\u001b[39m time_steps[i],  time_steps[i\u001b[38;5;241m-\u001b[39m\u001b[38;5;241m1\u001b[39m] \n",
      "File \u001b[1;32mc:\\Users\\Utilisateur\\AppData\\Local\\Programs\\Python\\Python312\\Lib\\site-packages\\torch\\nn\\modules\\module.py:1736\u001b[0m, in \u001b[0;36mModule._wrapped_call_impl\u001b[1;34m(self, *args, **kwargs)\u001b[0m\n\u001b[0;32m   1734\u001b[0m     \u001b[38;5;28;01mreturn\u001b[39;00m \u001b[38;5;28mself\u001b[39m\u001b[38;5;241m.\u001b[39m_compiled_call_impl(\u001b[38;5;241m*\u001b[39margs, \u001b[38;5;241m*\u001b[39m\u001b[38;5;241m*\u001b[39mkwargs)  \u001b[38;5;66;03m# type: ignore[misc]\u001b[39;00m\n\u001b[0;32m   1735\u001b[0m \u001b[38;5;28;01melse\u001b[39;00m:\n\u001b[1;32m-> 1736\u001b[0m     \u001b[38;5;28;01mreturn\u001b[39;00m \u001b[38;5;28;43mself\u001b[39;49m\u001b[38;5;241;43m.\u001b[39;49m\u001b[43m_call_impl\u001b[49m\u001b[43m(\u001b[49m\u001b[38;5;241;43m*\u001b[39;49m\u001b[43margs\u001b[49m\u001b[43m,\u001b[49m\u001b[43m \u001b[49m\u001b[38;5;241;43m*\u001b[39;49m\u001b[38;5;241;43m*\u001b[39;49m\u001b[43mkwargs\u001b[49m\u001b[43m)\u001b[49m\n",
      "File \u001b[1;32mc:\\Users\\Utilisateur\\AppData\\Local\\Programs\\Python\\Python312\\Lib\\site-packages\\torch\\nn\\modules\\module.py:1747\u001b[0m, in \u001b[0;36mModule._call_impl\u001b[1;34m(self, *args, **kwargs)\u001b[0m\n\u001b[0;32m   1742\u001b[0m \u001b[38;5;66;03m# If we don't have any hooks, we want to skip the rest of the logic in\u001b[39;00m\n\u001b[0;32m   1743\u001b[0m \u001b[38;5;66;03m# this function, and just call forward.\u001b[39;00m\n\u001b[0;32m   1744\u001b[0m \u001b[38;5;28;01mif\u001b[39;00m \u001b[38;5;129;01mnot\u001b[39;00m (\u001b[38;5;28mself\u001b[39m\u001b[38;5;241m.\u001b[39m_backward_hooks \u001b[38;5;129;01mor\u001b[39;00m \u001b[38;5;28mself\u001b[39m\u001b[38;5;241m.\u001b[39m_backward_pre_hooks \u001b[38;5;129;01mor\u001b[39;00m \u001b[38;5;28mself\u001b[39m\u001b[38;5;241m.\u001b[39m_forward_hooks \u001b[38;5;129;01mor\u001b[39;00m \u001b[38;5;28mself\u001b[39m\u001b[38;5;241m.\u001b[39m_forward_pre_hooks\n\u001b[0;32m   1745\u001b[0m         \u001b[38;5;129;01mor\u001b[39;00m _global_backward_pre_hooks \u001b[38;5;129;01mor\u001b[39;00m _global_backward_hooks\n\u001b[0;32m   1746\u001b[0m         \u001b[38;5;129;01mor\u001b[39;00m _global_forward_hooks \u001b[38;5;129;01mor\u001b[39;00m _global_forward_pre_hooks):\n\u001b[1;32m-> 1747\u001b[0m     \u001b[38;5;28;01mreturn\u001b[39;00m \u001b[43mforward_call\u001b[49m\u001b[43m(\u001b[49m\u001b[38;5;241;43m*\u001b[39;49m\u001b[43margs\u001b[49m\u001b[43m,\u001b[49m\u001b[43m \u001b[49m\u001b[38;5;241;43m*\u001b[39;49m\u001b[38;5;241;43m*\u001b[39;49m\u001b[43mkwargs\u001b[49m\u001b[43m)\u001b[49m\n\u001b[0;32m   1749\u001b[0m result \u001b[38;5;241m=\u001b[39m \u001b[38;5;28;01mNone\u001b[39;00m\n\u001b[0;32m   1750\u001b[0m called_always_called_hooks \u001b[38;5;241m=\u001b[39m \u001b[38;5;28mset\u001b[39m()\n",
      "File \u001b[1;32mc:\\Users\\Utilisateur\\Documents\\ENSAE\\Stage\\subSISTM\\models\\ODE-RNN\\Rubanova - simplified\\encoder_decoder.py:61\u001b[0m, in \u001b[0;36mGRU_unit.forward\u001b[1;34m(self, y_mean, y_std, x, masked_update)\u001b[0m\n\u001b[0;32m     58\u001b[0m \u001b[38;5;28;01mdef\u001b[39;00m \u001b[38;5;21mforward\u001b[39m(\u001b[38;5;28mself\u001b[39m, y_mean, y_std, x, masked_update \u001b[38;5;241m=\u001b[39m \u001b[38;5;28;01mTrue\u001b[39;00m):\n\u001b[0;32m     59\u001b[0m \ty_concat \u001b[38;5;241m=\u001b[39m torch\u001b[38;5;241m.\u001b[39mcat([y_mean, y_std, x], \u001b[38;5;241m-\u001b[39m\u001b[38;5;241m1\u001b[39m)\n\u001b[1;32m---> 61\u001b[0m \tupdate_gate \u001b[38;5;241m=\u001b[39m \u001b[38;5;28;43mself\u001b[39;49m\u001b[38;5;241;43m.\u001b[39;49m\u001b[43mupdate_gate\u001b[49m\u001b[43m(\u001b[49m\u001b[43my_concat\u001b[49m\u001b[43m)\u001b[49m\n\u001b[0;32m     62\u001b[0m \treset_gate \u001b[38;5;241m=\u001b[39m \u001b[38;5;28mself\u001b[39m\u001b[38;5;241m.\u001b[39mreset_gate(y_concat)\n\u001b[0;32m     63\u001b[0m \tconcat \u001b[38;5;241m=\u001b[39m torch\u001b[38;5;241m.\u001b[39mcat([y_mean \u001b[38;5;241m*\u001b[39m reset_gate, y_std \u001b[38;5;241m*\u001b[39m reset_gate, x], \u001b[38;5;241m-\u001b[39m\u001b[38;5;241m1\u001b[39m)\n",
      "File \u001b[1;32mc:\\Users\\Utilisateur\\AppData\\Local\\Programs\\Python\\Python312\\Lib\\site-packages\\torch\\nn\\modules\\module.py:1736\u001b[0m, in \u001b[0;36mModule._wrapped_call_impl\u001b[1;34m(self, *args, **kwargs)\u001b[0m\n\u001b[0;32m   1734\u001b[0m     \u001b[38;5;28;01mreturn\u001b[39;00m \u001b[38;5;28mself\u001b[39m\u001b[38;5;241m.\u001b[39m_compiled_call_impl(\u001b[38;5;241m*\u001b[39margs, \u001b[38;5;241m*\u001b[39m\u001b[38;5;241m*\u001b[39mkwargs)  \u001b[38;5;66;03m# type: ignore[misc]\u001b[39;00m\n\u001b[0;32m   1735\u001b[0m \u001b[38;5;28;01melse\u001b[39;00m:\n\u001b[1;32m-> 1736\u001b[0m     \u001b[38;5;28;01mreturn\u001b[39;00m \u001b[38;5;28;43mself\u001b[39;49m\u001b[38;5;241;43m.\u001b[39;49m\u001b[43m_call_impl\u001b[49m\u001b[43m(\u001b[49m\u001b[38;5;241;43m*\u001b[39;49m\u001b[43margs\u001b[49m\u001b[43m,\u001b[49m\u001b[43m \u001b[49m\u001b[38;5;241;43m*\u001b[39;49m\u001b[38;5;241;43m*\u001b[39;49m\u001b[43mkwargs\u001b[49m\u001b[43m)\u001b[49m\n",
      "File \u001b[1;32mc:\\Users\\Utilisateur\\AppData\\Local\\Programs\\Python\\Python312\\Lib\\site-packages\\torch\\nn\\modules\\module.py:1747\u001b[0m, in \u001b[0;36mModule._call_impl\u001b[1;34m(self, *args, **kwargs)\u001b[0m\n\u001b[0;32m   1742\u001b[0m \u001b[38;5;66;03m# If we don't have any hooks, we want to skip the rest of the logic in\u001b[39;00m\n\u001b[0;32m   1743\u001b[0m \u001b[38;5;66;03m# this function, and just call forward.\u001b[39;00m\n\u001b[0;32m   1744\u001b[0m \u001b[38;5;28;01mif\u001b[39;00m \u001b[38;5;129;01mnot\u001b[39;00m (\u001b[38;5;28mself\u001b[39m\u001b[38;5;241m.\u001b[39m_backward_hooks \u001b[38;5;129;01mor\u001b[39;00m \u001b[38;5;28mself\u001b[39m\u001b[38;5;241m.\u001b[39m_backward_pre_hooks \u001b[38;5;129;01mor\u001b[39;00m \u001b[38;5;28mself\u001b[39m\u001b[38;5;241m.\u001b[39m_forward_hooks \u001b[38;5;129;01mor\u001b[39;00m \u001b[38;5;28mself\u001b[39m\u001b[38;5;241m.\u001b[39m_forward_pre_hooks\n\u001b[0;32m   1745\u001b[0m         \u001b[38;5;129;01mor\u001b[39;00m _global_backward_pre_hooks \u001b[38;5;129;01mor\u001b[39;00m _global_backward_hooks\n\u001b[0;32m   1746\u001b[0m         \u001b[38;5;129;01mor\u001b[39;00m _global_forward_hooks \u001b[38;5;129;01mor\u001b[39;00m _global_forward_pre_hooks):\n\u001b[1;32m-> 1747\u001b[0m     \u001b[38;5;28;01mreturn\u001b[39;00m \u001b[43mforward_call\u001b[49m\u001b[43m(\u001b[49m\u001b[38;5;241;43m*\u001b[39;49m\u001b[43margs\u001b[49m\u001b[43m,\u001b[49m\u001b[43m \u001b[49m\u001b[38;5;241;43m*\u001b[39;49m\u001b[38;5;241;43m*\u001b[39;49m\u001b[43mkwargs\u001b[49m\u001b[43m)\u001b[49m\n\u001b[0;32m   1749\u001b[0m result \u001b[38;5;241m=\u001b[39m \u001b[38;5;28;01mNone\u001b[39;00m\n\u001b[0;32m   1750\u001b[0m called_always_called_hooks \u001b[38;5;241m=\u001b[39m \u001b[38;5;28mset\u001b[39m()\n",
      "File \u001b[1;32mc:\\Users\\Utilisateur\\AppData\\Local\\Programs\\Python\\Python312\\Lib\\site-packages\\torch\\nn\\modules\\container.py:250\u001b[0m, in \u001b[0;36mSequential.forward\u001b[1;34m(self, input)\u001b[0m\n\u001b[0;32m    248\u001b[0m \u001b[38;5;28;01mdef\u001b[39;00m \u001b[38;5;21mforward\u001b[39m(\u001b[38;5;28mself\u001b[39m, \u001b[38;5;28minput\u001b[39m):\n\u001b[0;32m    249\u001b[0m     \u001b[38;5;28;01mfor\u001b[39;00m module \u001b[38;5;129;01min\u001b[39;00m \u001b[38;5;28mself\u001b[39m:\n\u001b[1;32m--> 250\u001b[0m         \u001b[38;5;28minput\u001b[39m \u001b[38;5;241m=\u001b[39m \u001b[43mmodule\u001b[49m\u001b[43m(\u001b[49m\u001b[38;5;28;43minput\u001b[39;49m\u001b[43m)\u001b[49m\n\u001b[0;32m    251\u001b[0m     \u001b[38;5;28;01mreturn\u001b[39;00m \u001b[38;5;28minput\u001b[39m\n",
      "File \u001b[1;32mc:\\Users\\Utilisateur\\AppData\\Local\\Programs\\Python\\Python312\\Lib\\site-packages\\torch\\nn\\modules\\module.py:1736\u001b[0m, in \u001b[0;36mModule._wrapped_call_impl\u001b[1;34m(self, *args, **kwargs)\u001b[0m\n\u001b[0;32m   1734\u001b[0m     \u001b[38;5;28;01mreturn\u001b[39;00m \u001b[38;5;28mself\u001b[39m\u001b[38;5;241m.\u001b[39m_compiled_call_impl(\u001b[38;5;241m*\u001b[39margs, \u001b[38;5;241m*\u001b[39m\u001b[38;5;241m*\u001b[39mkwargs)  \u001b[38;5;66;03m# type: ignore[misc]\u001b[39;00m\n\u001b[0;32m   1735\u001b[0m \u001b[38;5;28;01melse\u001b[39;00m:\n\u001b[1;32m-> 1736\u001b[0m     \u001b[38;5;28;01mreturn\u001b[39;00m \u001b[38;5;28;43mself\u001b[39;49m\u001b[38;5;241;43m.\u001b[39;49m\u001b[43m_call_impl\u001b[49m\u001b[43m(\u001b[49m\u001b[38;5;241;43m*\u001b[39;49m\u001b[43margs\u001b[49m\u001b[43m,\u001b[49m\u001b[43m \u001b[49m\u001b[38;5;241;43m*\u001b[39;49m\u001b[38;5;241;43m*\u001b[39;49m\u001b[43mkwargs\u001b[49m\u001b[43m)\u001b[49m\n",
      "File \u001b[1;32mc:\\Users\\Utilisateur\\AppData\\Local\\Programs\\Python\\Python312\\Lib\\site-packages\\torch\\nn\\modules\\module.py:1747\u001b[0m, in \u001b[0;36mModule._call_impl\u001b[1;34m(self, *args, **kwargs)\u001b[0m\n\u001b[0;32m   1742\u001b[0m \u001b[38;5;66;03m# If we don't have any hooks, we want to skip the rest of the logic in\u001b[39;00m\n\u001b[0;32m   1743\u001b[0m \u001b[38;5;66;03m# this function, and just call forward.\u001b[39;00m\n\u001b[0;32m   1744\u001b[0m \u001b[38;5;28;01mif\u001b[39;00m \u001b[38;5;129;01mnot\u001b[39;00m (\u001b[38;5;28mself\u001b[39m\u001b[38;5;241m.\u001b[39m_backward_hooks \u001b[38;5;129;01mor\u001b[39;00m \u001b[38;5;28mself\u001b[39m\u001b[38;5;241m.\u001b[39m_backward_pre_hooks \u001b[38;5;129;01mor\u001b[39;00m \u001b[38;5;28mself\u001b[39m\u001b[38;5;241m.\u001b[39m_forward_hooks \u001b[38;5;129;01mor\u001b[39;00m \u001b[38;5;28mself\u001b[39m\u001b[38;5;241m.\u001b[39m_forward_pre_hooks\n\u001b[0;32m   1745\u001b[0m         \u001b[38;5;129;01mor\u001b[39;00m _global_backward_pre_hooks \u001b[38;5;129;01mor\u001b[39;00m _global_backward_hooks\n\u001b[0;32m   1746\u001b[0m         \u001b[38;5;129;01mor\u001b[39;00m _global_forward_hooks \u001b[38;5;129;01mor\u001b[39;00m _global_forward_pre_hooks):\n\u001b[1;32m-> 1747\u001b[0m     \u001b[38;5;28;01mreturn\u001b[39;00m \u001b[43mforward_call\u001b[49m\u001b[43m(\u001b[49m\u001b[38;5;241;43m*\u001b[39;49m\u001b[43margs\u001b[49m\u001b[43m,\u001b[49m\u001b[43m \u001b[49m\u001b[38;5;241;43m*\u001b[39;49m\u001b[38;5;241;43m*\u001b[39;49m\u001b[43mkwargs\u001b[49m\u001b[43m)\u001b[49m\n\u001b[0;32m   1749\u001b[0m result \u001b[38;5;241m=\u001b[39m \u001b[38;5;28;01mNone\u001b[39;00m\n\u001b[0;32m   1750\u001b[0m called_always_called_hooks \u001b[38;5;241m=\u001b[39m \u001b[38;5;28mset\u001b[39m()\n",
      "File \u001b[1;32mc:\\Users\\Utilisateur\\AppData\\Local\\Programs\\Python\\Python312\\Lib\\site-packages\\torch\\nn\\modules\\activation.py:392\u001b[0m, in \u001b[0;36mTanh.forward\u001b[1;34m(self, input)\u001b[0m\n\u001b[0;32m    391\u001b[0m \u001b[38;5;28;01mdef\u001b[39;00m \u001b[38;5;21mforward\u001b[39m(\u001b[38;5;28mself\u001b[39m, \u001b[38;5;28minput\u001b[39m: Tensor) \u001b[38;5;241m-\u001b[39m\u001b[38;5;241m>\u001b[39m Tensor:\n\u001b[1;32m--> 392\u001b[0m     \u001b[38;5;28;01mreturn\u001b[39;00m \u001b[43mtorch\u001b[49m\u001b[38;5;241;43m.\u001b[39;49m\u001b[43mtanh\u001b[49m\u001b[43m(\u001b[49m\u001b[38;5;28;43minput\u001b[39;49m\u001b[43m)\u001b[49m\n",
      "\u001b[1;31mKeyboardInterrupt\u001b[0m: "
     ]
    }
   ],
   "source": [
    "loss_val = [float('inf')]*100\n",
    "loss_train = []\n",
    "cur_loss_val = 0\n",
    "nb_epochs = 0\n",
    "min_loss = float('inf')\n",
    "criterion = nn.MSELoss()\n",
    "while abs(np.max(loss_val[-100:] - np.min(loss_val[-100:] + [cur_loss_val]))) >= eps and nb_epochs < niters:\n",
    "    optimizer.zero_grad()\n",
    "    utils.update_learning_rate(optimizer, decay_rate = 0.999, lowest = lr / 10)\n",
    "    train_res = model.compute_all_losses(train_dict, n_traj_samples = 100)\n",
    "    train_res[\"loss\"].backward()\n",
    "    loss_train.append(train_res['mse'].item())\n",
    "    optimizer.step()\n",
    "    y_val = model.get_reconstruction(time_steps_to_predict= val_dict['tp_to_predict'],\n",
    "                                     data= val_dict['observed_data'],\n",
    "                                     truth_time_steps= val_dict['observed_tp'],\n",
    "                                     mask =  val_dict['observed_mask'],\n",
    "                                     n_traj_samples=100)\n",
    "    a = torch.reshape(y_val[0], (100,26,1))\n",
    "    cur_loss_val = criterion(a, target_val).item()\n",
    "    loss_val.append(cur_loss_val)\n",
    "loss_val = loss_val[101:]\n",
    "#plot loss\n",
    "plt.xlabel('Epoch')\n",
    "plt.ylabel('Loss')\n",
    "plt.plot(loss_train, label =\"loss\")\n",
    "plt.plot(loss_val, label = \"validation\")\n",
    "plt.legend()\n",
    "plt.savefig(\"../../../models/ODE-RNN/Résultats/Graphs\"+ \"Loss_TEST_\" + 'ODE RNN_' + RE + Time +\".png\")"
   ]
  },
  {
   "cell_type": "code",
   "execution_count": null,
   "metadata": {},
   "outputs": [],
   "source": [
    "pred_train = model.get_reconstruction(time_steps_to_predict= train_dict['tp_to_predict'],\n",
    "                                     data= train_dict['observed_data'],\n",
    "                                     truth_time_steps= train_dict['observed_tp'],\n",
    "                                     mask =  train_dict['observed_mask'],\n",
    "                                     n_traj_samples=400)\n",
    "y_pred = pred_train[0]"
   ]
  },
  {
   "cell_type": "code",
   "execution_count": null,
   "metadata": {},
   "outputs": [],
   "source": [
    "#unscale data and aggregate training set\n",
    "multi_index = pd.MultiIndex.from_product([N_train, range(y_pred.shape[2])], names=['individus', 'temps'])\n",
    "df = pd.DataFrame(index = multi_index, data = y_pred.detach().numpy().flatten(), columns=['y_pred_ODE RNN_' + RE])\n",
    "df = df.reset_index()\n",
    "df = df.set_index(data_train.index)\n",
    "df.loc[:,'y_pred_ODE RNN_' + RE] = scaler_y.inverse_transform(df[['y_pred_ODE RNN_' + RE]])\n",
    "data_train.loc[:,y_labels] = scaler_y.inverse_transform(data_train[y_labels])\n",
    "\n",
    "multi_index = pd.MultiIndex.from_product([N_val, range(y_val[0].shape[2])], names=['individus', 'temps'])\n",
    "df_val = pd.DataFrame(index = multi_index, data = y_val[0].detach().numpy().flatten(), columns=['y_pred_ODE RNN_' + RE])\n",
    "df_val = df_val.reset_index()\n",
    "df_val = df_val.set_index(data_val.index)\n",
    "df_val.loc[:,'y_pred_ODE RNN_' + RE] = scaler_y.inverse_transform(df_val[['y_pred_ODE RNN_' + RE]])\n",
    "data_val.loc[:,y_labels] = scaler_y.inverse_transform(data_val[y_labels])\n",
    "\n",
    "df = pd.concat((df,df_val))\n",
    "data_train = pd.concat((data_train, data_val))"
   ]
  },
  {
   "cell_type": "code",
   "execution_count": null,
   "metadata": {},
   "outputs": [],
   "source": [
    "n = 5\n",
    "ex = np.random.choice(range(1,499), n)\n",
    "fig, axs = plt.subplots(n)\n",
    "fig.set_figwidth(20)\n",
    "fig.set_figheight(50)\n",
    "for k in range(n):\n",
    "    axs[k].plot(data_train[(data_train['temps']!=0) & (data_train['individus']== ex[k])]['temps'],\n",
    "                data_train[(data_train['temps']!=0) & (data_train['individus']== ex[k])][y_labels], \n",
    "                label= 'target w/ noise')\n",
    "    axs[k].plot(data_train[(data_train['temps']!=0) & (data_train['individus']== ex[k])]['temps'],\n",
    "                data_train[(data_train['temps']!=0) & (data_train['individus']== ex[k])][y_labels[0][:-4]], \n",
    "                label= 'target')\n",
    "    axs[k].plot(df[(data_train['temps']!=0) & (df['individus']== ex[k])]['temps'],\n",
    "                df[(df['temps']!=0) & (df['individus']==ex[k])]['y_pred_' + 'ODE RNN' + '_' + RE], \n",
    "                label= 'prediction', linestyle='dashdot')\n",
    "    axs[k].legend()\n",
    "plt.savefig(\"../../../models/ODE-RNN/Résultats/Graphs\"+ \"TRAIN_\" + 'ODE RNN' + \"_\" + RE + Time + \".png\")"
   ]
  },
  {
   "cell_type": "code",
   "execution_count": null,
   "metadata": {},
   "outputs": [],
   "source": [
    "#Results on training\n",
    "MAE_list_train = []\n",
    "MSE_list_train = []\n",
    "MAE_list_train_obs = []\n",
    "MSE_list_train_obs = []\n",
    "for k in range(1,499):\n",
    "    pred_k = df[(df['temps']>5) & (df['individus'] == k)]['y_pred_' + 'ODE RNN' + '_' + RE]\n",
    "    target_k = data_train[(data_train['temps']>5) & (data_train['individus'] == k)][y_labels[0][:-4]]\n",
    "    target_k_obs = data_train[(data_train['temps']>5) & (data_train['individus'] == k)][y_labels]\n",
    "    MAE_list_train.append(MAE(pred_k, target_k))\n",
    "    MSE_list_train.append(MSE(pred_k, target_k))\n",
    "    MAE_list_train_obs.append(MAE(pred_k, target_k_obs))\n",
    "    MSE_list_train_obs.append(MSE(pred_k, target_k_obs))\n",
    "print(\"mean MAE on train data: \", np.mean(MAE_list_train))\n",
    "print(\"mean MSE on train data: \", np.mean(MSE_list_train))\n",
    "print(\"mean MAE on noised train data: \", np.mean(MAE_list_train_obs))\n",
    "print(\"mean MSE on noised train data: \", np.mean(MSE_list_train_obs))"
   ]
  },
  {
   "cell_type": "markdown",
   "metadata": {},
   "source": [
    "# TEST"
   ]
  },
  {
   "cell_type": "code",
   "execution_count": null,
   "metadata": {},
   "outputs": [],
   "source": [
    "test_dict[\"tp_to_predict\"] = observed_tp[0]\n",
    "test_dict[\"observed_data\"] = input_test\n",
    "test_dict[\"observed_tp\"] = observed_tp[0]\n",
    "test_dict[\"data_to_predict\"] = target_test\n",
    "test_dict[\"mode\"] = None\n",
    "test_dict['labels'] = None\n",
    "test_dict[\"observed_mask\"] =  torch.ones(input_test.shape)\n",
    "test_dict[\"mask_predicted_data\"] = torch.ones(target_test.shape)"
   ]
  },
  {
   "cell_type": "code",
   "execution_count": null,
   "metadata": {},
   "outputs": [],
   "source": [
    "pred_test = model.get_reconstruction(time_steps_to_predict=test_dict['tp_to_predict'],\n",
    "                                     data=test_dict['observed_data'],\n",
    "                                     truth_time_steps=test_dict['observed_tp'],\n",
    "                                     mask = test_dict['observed_mask'],\n",
    "                                     n_traj_samples=500)\n",
    "y_test = pred_test[0]"
   ]
  },
  {
   "cell_type": "code",
   "execution_count": null,
   "metadata": {},
   "outputs": [],
   "source": [
    "multi_index_test = pd.MultiIndex.from_product([range(y_test.shape[1]), range(y_test.shape[2])], names=['individus', 'temps'])\n",
    "df_test = pd.DataFrame(index = multi_index_test, data = y_test.detach().numpy().flatten(), columns=['y_test_' + 'ODE RNN' + '_' + RE])\n",
    "df_test = df_test.reset_index()\n",
    "df_test = df_test.set_index(dtest_norm.index)\n",
    "df_test['individus']+=1\n",
    "df_test.loc[:,'y_test_' + 'ODE RNN' + '_' + RE] = scaler_y.inverse_transform(df_test[['y_test_' + 'ODE RNN' + '_' + RE]])\n",
    "dtest_norm.loc[:,y_labels] = scaler_y.inverse_transform(dtest_norm[y_labels])"
   ]
  },
  {
   "cell_type": "code",
   "execution_count": null,
   "metadata": {},
   "outputs": [],
   "source": [
    "n = 5\n",
    "ex = randint(1,501, n)\n",
    "fig, axs = plt.subplots(n)\n",
    "fig.set_figwidth(20)\n",
    "fig.set_figheight(50)\n",
    "for k in range(n):\n",
    "    axs[k].plot(dtest_norm.loc[(dtest_norm['temps']!=0) & (dtest_norm['individus']==ex[k])]['temps'], \n",
    "                dtest_norm.loc[(dtest_norm['temps']!=0) & (dtest_norm['individus']==ex[k])][y_labels], \n",
    "                label= 'target')\n",
    "    axs[k].plot(dtest_norm.loc[(dtest_norm['temps']!=0) & (dtest_norm['individus']==ex[k])]['temps'], \n",
    "                dtest_norm.loc[(dtest_norm['temps']!=0) & (dtest_norm['individus']==ex[k])][y_labels[0][:-4]], \n",
    "                label= 'target')\n",
    "    axs[k].plot(df_test.loc[(df_test['temps']!=0) & (df_test['individus']==ex[k])]['temps'],\n",
    "                df_test.loc[(df_test['temps']!=0) & (df_test['individus']==ex[k])]['y_test_' + 'ODE RNN' + '_' + RE], \n",
    "                label= 'prediction', linestyle='dotted')\n",
    "    axs[k].legend()\n",
    "plt.show()"
   ]
  },
  {
   "cell_type": "code",
   "execution_count": null,
   "metadata": {},
   "outputs": [],
   "source": [
    "#Scores on test data\n",
    "MAE_list_test = []\n",
    "MSE_list_test = []\n",
    "MAE_list_test_obs = []\n",
    "MSE_list_test_obs = []\n",
    "for k in range(1,501):\n",
    "    pred_k = df_test[(df_test['temps']>5) & (df_test['individus'] == k)]['y_test_' +'ODE RNN' + '_' + RE]\n",
    "    target_k = dtest_norm[(dtest_norm['temps']>5) & (dtest_norm['individus'] == k)][y_labels[0][:-4]]\n",
    "    target_k_obs = dtest_norm[(dtest_norm['temps']>5) & (dtest_norm['individus'] == k)][y_labels]\n",
    "    MAE_list_test.append(MAE(pred_k,target_k))\n",
    "    MSE_list_test.append(MSE(pred_k,target_k))\n",
    "    MAE_list_test_obs.append(MAE(pred_k,target_k_obs))\n",
    "    MSE_list_test_obs.append(MSE(pred_k,target_k_obs))\n",
    "print(\"mean MAE on test data: \", np.mean(MAE_list_test))\n",
    "print(\"mean MSE on test data: \", np.mean(MSE_list_test))\n",
    "print(\"mean MAE on noised test data: \", np.mean(MAE_list_test_obs))\n",
    "print(\"mean MSE on noised test data: \", np.mean(MSE_list_test_obs))"
   ]
  },
  {
   "cell_type": "code",
   "execution_count": null,
   "metadata": {},
   "outputs": [],
   "source": [
    "df.to_csv(\"../../../models/ODE-RNN/Résultats/Prédictions_entrainement\" + 'ODE RNN' + \"_\" + RE + Time + \".csv\", index=False)\n",
    "df_test.to_csv(\"../../../models/ODE-RNN/Résultats/Prédictions_test\" + 'ODE RNN' + \"_\" + RE + Time + \".csv\", index=False)"
   ]
  },
  {
   "cell_type": "code",
   "execution_count": null,
   "metadata": {},
   "outputs": [],
   "source": [
    "results = pd.DataFrame([[RE, 'ODE RNN', niters, np.mean(MAE_list_train), np.mean(MSE_list_train), np.mean(MAE_list_train_obs), np.mean(MSE_list_train_obs), np.mean(MAE_list_test), np.mean(MSE_list_test), np.mean(MAE_list_test_obs), np.mean(MSE_list_test_obs)]], \n",
    "                       columns=['Random effect', 'Model', 'nb_epochs', \"MAE moyenne sur l'entrainement\", \"MSE moyenne sur l'entrainement\", \"MAE moyenne sur l'entrainement bruité\", \"MSE moyenne sur l'entrainement bruité\", \"MAE moyenne sur le test\", \"MSE moyenne sur le test\", \"MAE moyenne sur le test bruité\", \"MSE moyenne sur le test bruité\"])\n",
    "print(results)\n",
    "results = results.to_json(path_or_buf=\"../../../models/ODE-RNN/Résultats/\"+ 'ODE RNN' + \"_\" + RE + Time + \".json\")"
   ]
  },
  {
   "cell_type": "code",
   "execution_count": null,
   "metadata": {},
   "outputs": [],
   "source": [
    "torch.save(model.state_dict(), \"../../../models/ODE-RNN/Résultats/Parameters/POIDS_\"+ 'ODE RNN' + \"_\" + RE + Time)"
   ]
  }
 ],
 "metadata": {
  "kernelspec": {
   "display_name": "Python 3",
   "language": "python",
   "name": "python3"
  },
  "language_info": {
   "codemirror_mode": {
    "name": "ipython",
    "version": 3
   },
   "file_extension": ".py",
   "mimetype": "text/x-python",
   "name": "python",
   "nbconvert_exporter": "python",
   "pygments_lexer": "ipython3",
   "version": "3.12.0"
  }
 },
 "nbformat": 4,
 "nbformat_minor": 2
}
