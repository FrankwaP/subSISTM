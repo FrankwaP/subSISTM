{
 "cells": [
  {
   "cell_type": "markdown",
   "metadata": {},
   "source": [
    "### Imports"
   ]
  },
  {
   "cell_type": "code",
   "execution_count": 1,
   "metadata": {},
   "outputs": [],
   "source": [
    "import json\n",
    "import os\n",
    "import pandas as pd\n",
    "import matplotlib.pyplot as plt\n",
    "import numpy as np"
   ]
  },
  {
   "cell_type": "code",
   "execution_count": null,
   "metadata": {},
   "outputs": [],
   "source": [
    "path_py = \"../ODE-RNN/Résultats/\"\n",
    "path_r = \"../../data/synthetic_bph_1/Résultats random time/\"\n",
    "path_simul = \"../../data/synthetic_bph_1/Simulations/\"\n",
    "CSV_Dtest = \"../../data/synthetic_bph_1/Simulations/01_test.csv\""
   ]
  },
  {
   "cell_type": "markdown",
   "metadata": {},
   "source": [
    "### Gathering results"
   ]
  },
  {
   "cell_type": "code",
   "execution_count": 3,
   "metadata": {},
   "outputs": [],
   "source": [
    "pred_py = pd.DataFrame(columns=['individus', 'temps'])\n",
    "for file in os.listdir(path_py):\n",
    "    if \"Prédictions\" in file:\n",
    "        df = pd.read_csv(path_py + file)\n",
    "        pred_py = pd.merge(pred_py, df, on=['individus', 'temps'], how='outer')\n",
    "pred_r_train = pd.read_csv(path_simul + 'simulation1.csv', sep=\";\", decimal=\",\")\n",
    "pred_r_train = pred_r_train.loc[:,['individus', 'temps', 'y_fixed', 'y_fixed_obs', 'y_mixed', 'y_mixed_obs', \"pred_mixed\", \"pred_fixed\", \"pred_naif_mixed\", \"pred_naif_fixed\"]]\n",
    "data_test =  pd.read_csv(CSV_Dtest, sep=\";\", decimal=\",\")\n",
    "pred_r_test = pd.read_csv(path_r + 'Predictions.csv', sep=\",\", decimal=\".\")\n",
    "pred_r_test = pred_r_test[['individus','temps', 'pred_mixed_1', 'pred_fixed_1', 'pred_naif_fixed_1', 'pred_naif_mixed_1']] #don't forget to add , 'pred_naif_mixed _1'"
   ]
  },
  {
   "cell_type": "markdown",
   "metadata": {},
   "source": [
    "#### Network results"
   ]
  },
  {
   "cell_type": "code",
   "execution_count": 4,
   "metadata": {},
   "outputs": [
    {
     "name": "stderr",
     "output_type": "stream",
     "text": [
      "C:\\Users\\Utilisateur\\AppData\\Local\\Temp\\ipykernel_13684\\4058926855.py:5: FutureWarning: The behavior of DataFrame concatenation with empty or all-NA entries is deprecated. In a future version, this will no longer exclude empty or all-NA columns when determining the result dtypes. To retain the old behavior, exclude the relevant entries before the concat operation.\n",
      "  res_py = pd.concat((res_py,df))\n"
     ]
    }
   ],
   "source": [
    "res_py = pd.DataFrame(columns=['Random effect', 'Model', \"MAE moyenne sur l'entrainement\", \"MSE moyenne sur l'entrainement\", \"MAE moyenne sur l'entrainement bruité\", \"MSE moyenne sur l'entrainement bruité\", \"MAE moyenne sur le test\", \"MSE moyenne sur le test\", \"MAE moyenne sur le test bruité\", \"MSE moyenne sur le test bruité\"])\n",
    "for file in os.listdir(path_py):\n",
    "    if \"json\" in file:\n",
    "        df = pd.read_json(path_py + file)\n",
    "        res_py = pd.concat((res_py,df))\n",
    "res_py = res_py.sort_values(by=[\"MAE moyenne sur l'entrainement\"])\n",
    "res_py_fixed = res_py[res_py[\"Random effect\"]=='Fixed'][['Model',\"MAE moyenne sur l'entrainement\", \"MSE moyenne sur l'entrainement\", \"MAE moyenne sur l'entrainement bruité\", \"MSE moyenne sur l'entrainement bruité\", \"MAE moyenne sur le test\", \"MSE moyenne sur le test\", \"MAE moyenne sur le test bruité\", \"MSE moyenne sur le test bruité\"]]\n",
    "res_py_mixed = res_py[res_py[\"Random effect\"]=='Mixed'][['Model',\"MAE moyenne sur l'entrainement\", \"MSE moyenne sur l'entrainement\", \"MAE moyenne sur l'entrainement bruité\", \"MSE moyenne sur l'entrainement bruité\", \"MAE moyenne sur le test\", \"MSE moyenne sur le test\", \"MAE moyenne sur le test bruité\", \"MSE moyenne sur le test bruité\"]]"
   ]
  },
  {
   "cell_type": "markdown",
   "metadata": {},
   "source": [
    "#### Results of R models"
   ]
  },
  {
   "cell_type": "code",
   "execution_count": 5,
   "metadata": {},
   "outputs": [],
   "source": [
    "res_r = pd.read_csv(path_r + \"Résultats simulation.csv\")"
   ]
  },
  {
   "cell_type": "code",
   "execution_count": 6,
   "metadata": {},
   "outputs": [
    {
     "name": "stderr",
     "output_type": "stream",
     "text": [
      "C:\\Users\\Utilisateur\\AppData\\Local\\Temp\\ipykernel_13684\\541684509.py:8: SettingWithCopyWarning: \n",
      "A value is trying to be set on a copy of a slice from a DataFrame\n",
      "\n",
      "See the caveats in the documentation: https://pandas.pydata.org/pandas-docs/stable/user_guide/indexing.html#returning-a-view-versus-a-copy\n",
      "  res_oracle_mixed.rename(columns={'mae_train_mixed_truth':\"MAE moyenne sur l'entrainement\",\n",
      "C:\\Users\\Utilisateur\\AppData\\Local\\Temp\\ipykernel_13684\\541684509.py:17: SettingWithCopyWarning: \n",
      "A value is trying to be set on a copy of a slice from a DataFrame\n",
      "\n",
      "See the caveats in the documentation: https://pandas.pydata.org/pandas-docs/stable/user_guide/indexing.html#returning-a-view-versus-a-copy\n",
      "  res_oracle_fixed.rename(columns={'mae_train_fixed_truth':\"MAE moyenne sur l'entrainement\",\n",
      "C:\\Users\\Utilisateur\\AppData\\Local\\Temp\\ipykernel_13684\\541684509.py:26: SettingWithCopyWarning: \n",
      "A value is trying to be set on a copy of a slice from a DataFrame\n",
      "\n",
      "See the caveats in the documentation: https://pandas.pydata.org/pandas-docs/stable/user_guide/indexing.html#returning-a-view-versus-a-copy\n",
      "  res_naif_mixed.rename(columns={'mae_train_naif_mixed_truth':\"MAE moyenne sur l'entrainement\",\n",
      "C:\\Users\\Utilisateur\\AppData\\Local\\Temp\\ipykernel_13684\\541684509.py:35: SettingWithCopyWarning: \n",
      "A value is trying to be set on a copy of a slice from a DataFrame\n",
      "\n",
      "See the caveats in the documentation: https://pandas.pydata.org/pandas-docs/stable/user_guide/indexing.html#returning-a-view-versus-a-copy\n",
      "  res_naif_fixed.rename(columns={'mae_train_naif_fixed_truth':\"MAE moyenne sur l'entrainement\",\n",
      "C:\\Users\\Utilisateur\\AppData\\Local\\Temp\\ipykernel_13684\\541684509.py:44: SettingWithCopyWarning: \n",
      "A value is trying to be set on a copy of a slice from a DataFrame\n",
      "\n",
      "See the caveats in the documentation: https://pandas.pydata.org/pandas-docs/stable/user_guide/indexing.html#returning-a-view-versus-a-copy\n",
      "  res_lin_mixed.rename(columns={'mae_train_lin_mixed_truth':\"MAE moyenne sur l'entrainement\",\n",
      "C:\\Users\\Utilisateur\\AppData\\Local\\Temp\\ipykernel_13684\\541684509.py:53: SettingWithCopyWarning: \n",
      "A value is trying to be set on a copy of a slice from a DataFrame\n",
      "\n",
      "See the caveats in the documentation: https://pandas.pydata.org/pandas-docs/stable/user_guide/indexing.html#returning-a-view-versus-a-copy\n",
      "  res_lin_fixed.rename(columns={'mae_train_lin_fixed_truth':\"MAE moyenne sur l'entrainement\",\n"
     ]
    }
   ],
   "source": [
    "#res_r = pd.read_csv(path_r + \"Performances_moyennes.csv\")\n",
    "res_oracle_mixed = res_r[[c for c in res_r.columns if (\"naif\" not in c) & (\"lin\" not in c) & (\"mixed\" in c) ]]\n",
    "res_oracle_fixed = res_r[[c for c in res_r.columns if (\"naif\" not in c) & (\"lin\" not in c) & (\"fixed\" in c) ]]\n",
    "res_naif_mixed = res_r[[c for c in res_r.columns if (\"naif\" in c) & (\"mixed\" in c)]]\n",
    "res_naif_fixed = res_r[[c for c in res_r.columns if (\"naif\" in c) & (\"fixed\" in c)]]\n",
    "res_lin_mixed = res_r[[c for c in res_r.columns if (\"lin\" in c) & (\"mixed\" in c)]]\n",
    "res_lin_fixed = res_r[[c for c in res_r.columns if (\"lin\" in c) & (\"fixed\" in c)]]\n",
    "res_oracle_mixed.rename(columns={'mae_train_mixed_truth':\"MAE moyenne sur l'entrainement\",\n",
    "                                 'mse_train_mixed_truth':\"MSE moyenne sur l'entrainement\",\n",
    "                                 'mae_test_mixed_truth':\"MAE moyenne sur le test\",\n",
    "                                 'mse_test_mixed_truth':\"MSE moyenne sur le test\",\n",
    "                                 \"mae_train_mixed_obs\": \"MAE moyenne sur l'entrainement bruité\",\n",
    "                                 \"mse_train_mixed_obs\": \"MSE moyenne sur l'entrainement bruité\",\n",
    "                                 \"mae_test_mixed_obs\": \"MAE moyenne sur le test bruité\",\n",
    "                                 \"mse_test_mixed_obs\": \"MSE moyenne sur le test bruité\"\n",
    "                                 }, inplace=True)\n",
    "res_oracle_fixed.rename(columns={'mae_train_fixed_truth':\"MAE moyenne sur l'entrainement\",\n",
    "                                 'mse_train_fixed_truth':\"MSE moyenne sur l'entrainement\",\n",
    "                                 'mae_test_fixed_truth':\"MAE moyenne sur le test\",\n",
    "                                 'mse_test_fixed_truth':\"MSE moyenne sur le test\",\n",
    "                                 \"mae_train_fixed_obs\": \"MAE moyenne sur l'entrainement bruité\",\n",
    "                                 \"mse_train_fixed_obs\": \"MSE moyenne sur l'entrainement bruité\",\n",
    "                                 \"mae_test_fixed_obs\": \"MAE moyenne sur le test bruité\",\n",
    "                                 \"mse_test_fixed_obs\": \"MSE moyenne sur le test bruité\"\n",
    "                                 }, inplace=True)\n",
    "res_naif_mixed.rename(columns={'mae_train_naif_mixed_truth':\"MAE moyenne sur l'entrainement\",\n",
    "                                 'mse_train_naif_mixed_truth':\"MSE moyenne sur l'entrainement\",\n",
    "                                 'mae_test_naif_mixed_truth':\"MAE moyenne sur le test\",\n",
    "                                 'mse_test_naif_mixed_truth':\"MSE moyenne sur le test\",\n",
    "                                 \"mae_train_naif_mixed_obs\": \"MAE moyenne sur l'entrainement bruité\",\n",
    "                                 \"mse_train_naif_mixed_obs\": \"MSE moyenne sur l'entrainement bruité\",\n",
    "                                 \"mae_test_naif_mixed_obs\": \"MAE moyenne sur le test bruité\",\n",
    "                                 \"mse_test_naif_mixed_obs\": \"MSE moyenne sur le test bruité\"\n",
    "                                 }, inplace=True)\n",
    "res_naif_fixed.rename(columns={'mae_train_naif_fixed_truth':\"MAE moyenne sur l'entrainement\",\n",
    "                                 'mse_train_naif_fixed_truth':\"MSE moyenne sur l'entrainement\",\n",
    "                                 'mae_test_naif_fixed_truth':\"MAE moyenne sur le test\",\n",
    "                                 'mse_test_naif_fixed_truth':\"MSE moyenne sur le test\",\n",
    "                                 \"mae_train_naif_fixed_obs\": \"MAE moyenne sur l'entrainement bruité\",\n",
    "                                 \"mse_train_naif_fixed_obs\": \"MSE moyenne sur l'entrainement bruité\",\n",
    "                                 \"mae_test_naif_fixed_obs\": \"MAE moyenne sur le test bruité\",\n",
    "                                 \"mse_test_naif_fixed_obs\": \"MSE moyenne sur le test bruité\"\n",
    "                                 }, inplace=True)\n",
    "res_lin_mixed.rename(columns={'mae_train_lin_mixed_truth':\"MAE moyenne sur l'entrainement\",\n",
    "                        'mse_train_lin_mixed_truth':\"MSE moyenne sur l'entrainement\", \n",
    "                        'mae_test_lin_mixed_truth':\"MAE moyenne sur le test\",\n",
    "                        'mse_test_lin_mixed_truth':\"MSE moyenne sur le test\",\n",
    "                        'mae_train_lin_mixed_obs':\"MAE moyenne sur l'entrainement bruité\",  \n",
    "                        'mse_train_lin_mixed_obs':\"MSE moyenne sur l'entrainement bruité\", \n",
    "                        'mae_test_lin_mixed_obs':\"MAE moyenne sur le test bruité\",\n",
    "                        'mse_test_lin_mixed_obs':\"MSE moyenne sur le test bruité\"\n",
    "                        }, inplace=True)\n",
    "res_lin_fixed.rename(columns={'mae_train_lin_fixed_truth':\"MAE moyenne sur l'entrainement\",\n",
    "                        'mse_train_lin_fixed_truth':\"MSE moyenne sur l'entrainement\", \n",
    "                        'mae_test_lin_fixed_truth':\"MAE moyenne sur le test\",\n",
    "                        'mse_test_lin_fixed_truth':\"MSE moyenne sur le test\",\n",
    "                        'mae_train_lin_fixed_obs':\"MAE moyenne sur l'entrainement bruité\",  \n",
    "                        'mse_train_lin_fixed_obs':\"MSE moyenne sur l'entrainement bruité\", \n",
    "                        'mae_test_lin_fixed_obs':\"MAE moyenne sur le test bruité\",\n",
    "                        'mse_test_lin_fixed_obs':\"MSE moyenne sur le test bruité\"\n",
    "                        }, inplace=True)\n",
    "res_oracle_mixed.loc[:,['Model']] = 'Oracle'\n",
    "res_oracle_fixed.loc[:,['Model']] = 'Oracle'\n",
    "res_naif_mixed.loc[:,['Model']] = 'Naif'\n",
    "res_naif_fixed.loc[:,['Model']] = 'Naif'\n",
    "res_lin_mixed.loc[:,['Model']] = 'Linéaire'\n",
    "res_lin_fixed.loc[:,['Model']] = 'Linéaire'"
   ]
  },
  {
   "cell_type": "code",
   "execution_count": 7,
   "metadata": {},
   "outputs": [],
   "source": [
    "res_fixed = pd.concat((res_py_fixed, res_oracle_fixed, res_naif_fixed, res_lin_fixed))\n",
    "res_mixed = pd.concat((res_py_mixed, res_oracle_mixed, res_naif_mixed, res_lin_mixed))"
   ]
  },
  {
   "cell_type": "markdown",
   "metadata": {},
   "source": [
    "## Performances in predicting with fixed effects"
   ]
  },
  {
   "cell_type": "code",
   "execution_count": 8,
   "metadata": {},
   "outputs": [],
   "source": [
    "res_fixed = res_fixed.groupby('Model').mean()"
   ]
  },
  {
   "cell_type": "code",
   "execution_count": 9,
   "metadata": {},
   "outputs": [
    {
     "data": {
      "text/html": [
       "<div>\n",
       "<style scoped>\n",
       "    .dataframe tbody tr th:only-of-type {\n",
       "        vertical-align: middle;\n",
       "    }\n",
       "\n",
       "    .dataframe tbody tr th {\n",
       "        vertical-align: top;\n",
       "    }\n",
       "\n",
       "    .dataframe thead th {\n",
       "        text-align: right;\n",
       "    }\n",
       "</style>\n",
       "<table border=\"1\" class=\"dataframe\">\n",
       "  <thead>\n",
       "    <tr style=\"text-align: right;\">\n",
       "      <th></th>\n",
       "      <th>MAE moyenne sur l'entrainement</th>\n",
       "      <th>MSE moyenne sur l'entrainement</th>\n",
       "      <th>MAE moyenne sur l'entrainement bruité</th>\n",
       "      <th>MSE moyenne sur l'entrainement bruité</th>\n",
       "      <th>MAE moyenne sur le test</th>\n",
       "      <th>MSE moyenne sur le test</th>\n",
       "      <th>MAE moyenne sur le test bruité</th>\n",
       "      <th>MSE moyenne sur le test bruité</th>\n",
       "    </tr>\n",
       "    <tr>\n",
       "      <th>Model</th>\n",
       "      <th></th>\n",
       "      <th></th>\n",
       "      <th></th>\n",
       "      <th></th>\n",
       "      <th></th>\n",
       "      <th></th>\n",
       "      <th></th>\n",
       "      <th></th>\n",
       "    </tr>\n",
       "  </thead>\n",
       "  <tbody>\n",
       "    <tr>\n",
       "      <th>Linéaire</th>\n",
       "      <td>0.270319</td>\n",
       "      <td>0.131749</td>\n",
       "      <td>0.759566</td>\n",
       "      <td>0.911257</td>\n",
       "      <td>0.268646</td>\n",
       "      <td>0.130695</td>\n",
       "      <td>0.753783</td>\n",
       "      <td>0.898520</td>\n",
       "    </tr>\n",
       "    <tr>\n",
       "      <th>Naif</th>\n",
       "      <td>1.091802</td>\n",
       "      <td>3.014597</td>\n",
       "      <td>1.358219</td>\n",
       "      <td>3.865203</td>\n",
       "      <td>1.043257</td>\n",
       "      <td>2.856071</td>\n",
       "      <td>1.319454</td>\n",
       "      <td>3.702566</td>\n",
       "    </tr>\n",
       "    <tr>\n",
       "      <th>ODE RNN</th>\n",
       "      <td>0.554900</td>\n",
       "      <td>0.627504</td>\n",
       "      <td>0.859089</td>\n",
       "      <td>1.197236</td>\n",
       "      <td>1.128135</td>\n",
       "      <td>3.887676</td>\n",
       "      <td>1.482106</td>\n",
       "      <td>4.865125</td>\n",
       "    </tr>\n",
       "    <tr>\n",
       "      <th>Oracle</th>\n",
       "      <td>0.013921</td>\n",
       "      <td>0.000330</td>\n",
       "      <td>0.798325</td>\n",
       "      <td>1.001108</td>\n",
       "      <td>0.013620</td>\n",
       "      <td>0.000313</td>\n",
       "      <td>0.790672</td>\n",
       "      <td>0.985670</td>\n",
       "    </tr>\n",
       "    <tr>\n",
       "      <th>RNN</th>\n",
       "      <td>0.655433</td>\n",
       "      <td>0.882463</td>\n",
       "      <td>0.932276</td>\n",
       "      <td>1.456888</td>\n",
       "      <td>1.172266</td>\n",
       "      <td>4.232730</td>\n",
       "      <td>1.504819</td>\n",
       "      <td>5.209120</td>\n",
       "    </tr>\n",
       "  </tbody>\n",
       "</table>\n",
       "</div>"
      ],
      "text/plain": [
       "          MAE moyenne sur l'entrainement  MSE moyenne sur l'entrainement  \\\n",
       "Model                                                                      \n",
       "Linéaire                        0.270319                        0.131749   \n",
       "Naif                            1.091802                        3.014597   \n",
       "ODE RNN                         0.554900                        0.627504   \n",
       "Oracle                          0.013921                        0.000330   \n",
       "RNN                             0.655433                        0.882463   \n",
       "\n",
       "          MAE moyenne sur l'entrainement bruité  \\\n",
       "Model                                             \n",
       "Linéaire                               0.759566   \n",
       "Naif                                   1.358219   \n",
       "ODE RNN                                0.859089   \n",
       "Oracle                                 0.798325   \n",
       "RNN                                    0.932276   \n",
       "\n",
       "          MSE moyenne sur l'entrainement bruité  MAE moyenne sur le test  \\\n",
       "Model                                                                      \n",
       "Linéaire                               0.911257                 0.268646   \n",
       "Naif                                   3.865203                 1.043257   \n",
       "ODE RNN                                1.197236                 1.128135   \n",
       "Oracle                                 1.001108                 0.013620   \n",
       "RNN                                    1.456888                 1.172266   \n",
       "\n",
       "          MSE moyenne sur le test  MAE moyenne sur le test bruité  \\\n",
       "Model                                                               \n",
       "Linéaire                 0.130695                        0.753783   \n",
       "Naif                     2.856071                        1.319454   \n",
       "ODE RNN                  3.887676                        1.482106   \n",
       "Oracle                   0.000313                        0.790672   \n",
       "RNN                      4.232730                        1.504819   \n",
       "\n",
       "          MSE moyenne sur le test bruité  \n",
       "Model                                     \n",
       "Linéaire                        0.898520  \n",
       "Naif                            3.702566  \n",
       "ODE RNN                         4.865125  \n",
       "Oracle                          0.985670  \n",
       "RNN                             5.209120  "
      ]
     },
     "execution_count": 9,
     "metadata": {},
     "output_type": "execute_result"
    }
   ],
   "source": [
    "res_fixed"
   ]
  },
  {
   "cell_type": "markdown",
   "metadata": {},
   "source": [
    "### graphs for training"
   ]
  },
  {
   "cell_type": "code",
   "execution_count": null,
   "metadata": {},
   "outputs": [],
   "source": [
    "n = 5\n",
    "ex = np.random.choice(pd.unique(pred_py['individus']), n)\n",
    "fig, axs = plt.subplots(n)\n",
    "fig.set_figwidth(20)\n",
    "fig.set_figheight(50)\n",
    "for k in range(n):\n",
    "    axs[k].plot(pred_r_train[(pred_r_train['temps']!=0) & (pred_r_train['individus']== ex[k])]['temps'],\n",
    "                pred_r_train[(pred_r_train['temps']!=0) & (pred_r_train['individus']== ex[k])]['y_fixed_obs'], \n",
    "                label= 'target w/ noise')\n",
    "    axs[k].plot(pred_r_train[(pred_r_train['temps']!=0) & (pred_r_train['individus']== ex[k])]['temps'],\n",
    "                pred_r_train[(pred_r_train['temps']!=0) & (pred_r_train['individus']== ex[k])]['y_fixed'], \n",
    "                label= 'target')\n",
    "    axs[k].plot(pred_py[(pred_py['temps']!=0) & (pred_py['individus']== ex[k])]['temps'],\n",
    "                pred_py[(pred_py['temps']!=0) & (pred_py['individus']==ex[k])]['y_pred_RNN_Fixed'], \n",
    "                label= 'prediction RNN', linestyle='dashdot')\n",
    "    axs[k].plot(pred_py[(pred_py['temps']!=0) & (pred_py['individus']== ex[k])]['temps'],\n",
    "                pred_py[(pred_py['temps']!=0) & (pred_py['individus']==ex[k])]['y_pred_ODE RNN_Fixed'], \n",
    "                label= 'prediction ODE RNN', linestyle='dashdot')\n",
    "    axs[k].plot(pred_r_train[(pred_r_train['temps']!=0) & (pred_r_train['individus']== ex[k])]['temps'],\n",
    "                pred_r_train[(pred_r_train['temps']!=0) & (pred_r_train['individus']== ex[k])]['pred_naif_fixed'], \n",
    "                label= 'prediction naïve', linestyle='dotted')\n",
    "    axs[k].axvline(x = 5, color = 'gray', linestyle='dotted')\n",
    "    axs[k].legend()\n",
    "plt.savefig(\"../../models/ODE-RNN/Résultats/Graphs/Train_fixed.png\")"
   ]
  },
  {
   "cell_type": "markdown",
   "metadata": {},
   "source": [
    "### graphs for test"
   ]
  },
  {
   "cell_type": "code",
   "execution_count": null,
   "metadata": {},
   "outputs": [],
   "source": [
    "n = 5\n",
    "ex = np.random.choice(pd.unique(pred_py['individus']), n)\n",
    "fig, axs = plt.subplots(n)\n",
    "fig.set_figwidth(20)\n",
    "fig.set_figheight(50)\n",
    "for k in range(n):\n",
    "    axs[k].plot(data_test[(pred_r_test['temps']!=0) & (data_test['individus']== ex[k])]['temps'],\n",
    "                data_test[(data_test['temps']!=0) & (data_test['individus']== ex[k])]['y_fixed_obs'], \n",
    "                label= 'target w/ noise')\n",
    "    axs[k].plot(data_test[(data_test['temps']!=0) & (data_test['individus']== ex[k])]['temps'],\n",
    "                data_test[(data_test['temps']!=0) & (data_test['individus']== ex[k])]['y_fixed'], \n",
    "                label= 'target')\n",
    "    axs[k].plot(pred_py[(pred_py['temps']!=0) & (pred_py['individus']== ex[k])]['temps'],\n",
    "                pred_py[(pred_py['temps']!=0) & (pred_py['individus']==ex[k])]['y_test_RNN_Fixed'], \n",
    "                label= 'prediction RNN', linestyle='dashdot')\n",
    "    axs[k].plot(pred_py[(pred_py['temps']!=0) & (pred_py['individus']== ex[k])]['temps'],\n",
    "                pred_py[(pred_py['temps']!=0) & (pred_py['individus']==ex[k])]['y_test_ODE RNN_Fixed'], \n",
    "                label= 'prediction ODE RNN', linestyle='dashdot')\n",
    "    axs[k].plot(pred_r_test[(pred_r_test['temps']!=0) & (pred_r_test['individus']== ex[k])]['temps'],\n",
    "                pred_r_test[(pred_r_test['temps']!=0) & (pred_r_test['individus']== ex[k])]['pred_naif_fixed_1'], \n",
    "                label= 'prediction naïve', linestyle='dotted')\n",
    "    \"\"\"axs[k].plot(pred_r_test[(pred_r_test['temps']!=0) & (pred_r_test['individus']== ex[k])]['temps'],\n",
    "                pred_r_test[(pred_r_test['temps']!=0) & (pred_r_test['individus']== ex[k])]['pred_fixed_1'], \n",
    "                label= 'prediction oracle', linestyle='dotted')\"\"\"\n",
    "    axs[k].axvline(x = 5, color = 'gray', linestyle='dotted')\n",
    "    axs[k].legend()\n",
    "plt.savefig(\"../../models/ODE-RNN/Résultats/Graphs/Test_fixed.png\")"
   ]
  },
  {
   "cell_type": "markdown",
   "metadata": {},
   "source": [
    "## Performance in predicting with mixed effects"
   ]
  },
  {
   "cell_type": "code",
   "execution_count": null,
   "metadata": {},
   "outputs": [],
   "source": [
    "res_mixed[[c for c in res_mixed.columns if '_' not in c]]"
   ]
  },
  {
   "cell_type": "markdown",
   "metadata": {},
   "source": [
    "### graphs for training"
   ]
  },
  {
   "cell_type": "code",
   "execution_count": null,
   "metadata": {},
   "outputs": [],
   "source": [
    "n = 5\n",
    "ex = np.random.choice(pd.unique(pred_py['individus']), n)\n",
    "fig, axs = plt.subplots(n)\n",
    "fig.set_figwidth(20)\n",
    "fig.set_figheight(50)\n",
    "for k in range(n):\n",
    "    axs[k].plot(pred_r_train[(pred_r_train['temps']!=0) & (pred_r_train['individus']== ex[k])]['temps'],\n",
    "                pred_r_train[(pred_r_train['temps']!=0) & (pred_r_train['individus']== ex[k])]['y_mixed_obs'], \n",
    "                label= 'target w/ noise')\n",
    "    axs[k].plot(pred_r_train[(pred_r_train['temps']!=0) & (pred_r_train['individus']== ex[k])]['temps'],\n",
    "                pred_r_train[(pred_r_train['temps']!=0) & (pred_r_train['individus']== ex[k])]['y_mixed'], \n",
    "                label= 'target')\n",
    "    axs[k].plot(pred_py[(pred_py['temps']!=0) & (pred_py['individus']== ex[k])]['temps'],\n",
    "                pred_py[(pred_py['temps']!=0) & (pred_py['individus']==ex[k])]['y_pred_RNN_Mixed'], \n",
    "                label= 'prediction RNN', linestyle='dashdot')\n",
    "    axs[k].plot(pred_py[(pred_py['temps']!=0) & (pred_py['individus']== ex[k])]['temps'],\n",
    "                pred_py[(pred_py['temps']!=0) & (pred_py['individus']==ex[k])]['y_pred_ODE RNN_Mixed'], \n",
    "                label= 'prediction ODE RNN', linestyle='dashdot')\n",
    "    axs[k].plot(pred_r_train[(pred_r_train['temps']!=0) & (pred_r_train['individus']== ex[k])]['temps'],\n",
    "                pred_r_train[(pred_r_train['temps']!=0) & (pred_r_train['individus']== ex[k])]['pred_naif_mixed'], \n",
    "                label= 'prediction naïve', linestyle='dotted')\n",
    "    axs[k].axvline(x = 5, color = 'gray', linestyle='dotted')\n",
    "    axs[k].legend()\n",
    "plt.savefig(\"../../models/ODE-RNN/Résultats/Graphs/Train_mixed.png\")"
   ]
  },
  {
   "cell_type": "markdown",
   "metadata": {},
   "source": [
    "### graphs for testing"
   ]
  },
  {
   "cell_type": "code",
   "execution_count": null,
   "metadata": {},
   "outputs": [],
   "source": [
    "n = 5\n",
    "ex = np.random.choice(pd.unique(pred_py['individus']), n)\n",
    "fig, axs = plt.subplots(n)\n",
    "fig.set_figwidth(20)\n",
    "fig.set_figheight(50)\n",
    "for k in range(n):\n",
    "    axs[k].plot(data_test[(pred_r_train['temps']!=0) & (data_test['individus']== ex[k])]['temps'],\n",
    "                data_test[(data_test['temps']!=0) & (data_test['individus']== ex[k])]['y_mixed_obs'], \n",
    "                label= 'target w/ noise')\n",
    "    axs[k].plot(data_test[(data_test['temps']!=0) & (data_test['individus']== ex[k])]['temps'],\n",
    "                data_test[(data_test['temps']!=0) & (data_test['individus']== ex[k])]['y_mixed'], \n",
    "                label= 'target')\n",
    "    axs[k].plot(pred_py[(pred_py['temps']!=0) & (pred_py['individus']== ex[k])]['temps'],\n",
    "                pred_py[(pred_py['temps']!=0) & (pred_py['individus']==ex[k])]['y_test_RNN_Mixed'], \n",
    "                label= 'prediction RNN', linestyle='dashdot')\n",
    "    axs[k].plot(pred_py[(pred_py['temps']!=0) & (pred_py['individus']== ex[k])]['temps'],\n",
    "                pred_py[(pred_py['temps']!=0) & (pred_py['individus']==ex[k])]['y_test_ODE RNN_Mixed'], \n",
    "                label= 'prediction ODE RNN', linestyle='dashdot')\n",
    "    axs[k].plot(pred_r_test[(pred_r_test['temps']!=0) & (pred_r_test['individus']== ex[k])]['temps'],\n",
    "                pred_r_test[(pred_r_test['temps']!=0) & (pred_r_test['individus']== ex[k])]['pred_naif_mixed_1'], \n",
    "                label= 'prediction naïve', linestyle='dotted')\n",
    "    axs[k].axvline(x = 5, color = 'gray', linestyle='dotted')\n",
    "    axs[k].legend()\n",
    "plt.savefig(\"../../models/ODE-RNN/Résultats/Graphs/Test_mixed.png\")"
   ]
  }
 ],
 "metadata": {
  "kernelspec": {
   "display_name": "Python 3",
   "language": "python",
   "name": "python3"
  },
  "language_info": {
   "codemirror_mode": {
    "name": "ipython",
    "version": 3
   },
   "file_extension": ".py",
   "mimetype": "text/x-python",
   "name": "python",
   "nbconvert_exporter": "python",
   "pygments_lexer": "ipython3",
   "version": "3.12.0"
  }
 },
 "nbformat": 4,
 "nbformat_minor": 2
}
