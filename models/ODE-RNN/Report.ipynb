{
 "cells": [
  {
   "cell_type": "code",
   "execution_count": 2,
   "metadata": {},
   "outputs": [],
   "source": [
    "import json\n",
    "import os\n",
    "import pandas as pd\n"
   ]
  },
  {
   "cell_type": "code",
   "execution_count": 26,
   "metadata": {},
   "outputs": [],
   "source": [
    "path_py = \"../ODE-RNN/Résultats/\"\n",
    "path_r = \"../../data/synthetic_bph_1/Résultats R script/\""
   ]
  },
  {
   "cell_type": "code",
   "execution_count": 29,
   "metadata": {},
   "outputs": [
    {
     "name": "stderr",
     "output_type": "stream",
     "text": [
      "C:\\Users\\Utilisateur\\AppData\\Local\\Temp\\ipykernel_9404\\750061948.py:4: FutureWarning: The behavior of DataFrame concatenation with empty or all-NA entries is deprecated. In a future version, this will no longer exclude empty or all-NA columns when determining the result dtypes. To retain the old behavior, exclude the relevant entries before the concat operation.\n",
      "  res_py = pd.concat((res_py,df))\n"
     ]
    },
    {
     "data": {
      "text/html": [
       "<div>\n",
       "<style scoped>\n",
       "    .dataframe tbody tr th:only-of-type {\n",
       "        vertical-align: middle;\n",
       "    }\n",
       "\n",
       "    .dataframe tbody tr th {\n",
       "        vertical-align: top;\n",
       "    }\n",
       "\n",
       "    .dataframe thead th {\n",
       "        text-align: right;\n",
       "    }\n",
       "</style>\n",
       "<table border=\"1\" class=\"dataframe\">\n",
       "  <thead>\n",
       "    <tr style=\"text-align: right;\">\n",
       "      <th></th>\n",
       "      <th>Random effect</th>\n",
       "      <th>Model</th>\n",
       "      <th>nb_epochs</th>\n",
       "      <th>MAE moyenne sur l'entrainement</th>\n",
       "      <th>MAE moyenne sur le test</th>\n",
       "    </tr>\n",
       "  </thead>\n",
       "  <tbody>\n",
       "    <tr>\n",
       "      <th>0</th>\n",
       "      <td>False</td>\n",
       "      <td>RNN</td>\n",
       "      <td>42680</td>\n",
       "      <td>0.401300</td>\n",
       "      <td>0.630023</td>\n",
       "    </tr>\n",
       "    <tr>\n",
       "      <th>0</th>\n",
       "      <td>False</td>\n",
       "      <td>LSTM</td>\n",
       "      <td>76514</td>\n",
       "      <td>0.681355</td>\n",
       "      <td>1.022089</td>\n",
       "    </tr>\n",
       "    <tr>\n",
       "      <th>0</th>\n",
       "      <td>True</td>\n",
       "      <td>RNN</td>\n",
       "      <td>11942</td>\n",
       "      <td>1.474785</td>\n",
       "      <td>2.827599</td>\n",
       "    </tr>\n",
       "    <tr>\n",
       "      <th>0</th>\n",
       "      <td>False</td>\n",
       "      <td>LSTM</td>\n",
       "      <td>14497</td>\n",
       "      <td>2.216798</td>\n",
       "      <td>4.184069</td>\n",
       "    </tr>\n",
       "    <tr>\n",
       "      <th>0</th>\n",
       "      <td>True</td>\n",
       "      <td>LSTM</td>\n",
       "      <td>4924</td>\n",
       "      <td>9.264661</td>\n",
       "      <td>28.547917</td>\n",
       "    </tr>\n",
       "  </tbody>\n",
       "</table>\n",
       "</div>"
      ],
      "text/plain": [
       "  Random effect Model nb_epochs  MAE moyenne sur l'entrainement  \\\n",
       "0         False   RNN     42680                        0.401300   \n",
       "0         False  LSTM     76514                        0.681355   \n",
       "0          True   RNN     11942                        1.474785   \n",
       "0         False  LSTM     14497                        2.216798   \n",
       "0          True  LSTM      4924                        9.264661   \n",
       "\n",
       "   MAE moyenne sur le test  \n",
       "0                 0.630023  \n",
       "0                 1.022089  \n",
       "0                 2.827599  \n",
       "0                 4.184069  \n",
       "0                28.547917  "
      ]
     },
     "execution_count": 29,
     "metadata": {},
     "output_type": "execute_result"
    }
   ],
   "source": [
    "res_py = pd.DataFrame(columns=['Random effect', 'Model', 'nb_epochs', \"MAE moyenne sur l'entrainement\", \"MAE moyenne sur le test\"])\n",
    "for file in os.listdir(path_py):\n",
    "    df = pd.read_json(path_py + file)\n",
    "    res_py = pd.concat((res_py,df))\n",
    "res_py = res_py.sort_values(by=\"MAE moyenne sur l'entrainement\")\n",
    "res_py "
   ]
  },
  {
   "cell_type": "code",
   "execution_count": 28,
   "metadata": {},
   "outputs": [
    {
     "data": {
      "text/html": [
       "<div>\n",
       "<style scoped>\n",
       "    .dataframe tbody tr th:only-of-type {\n",
       "        vertical-align: middle;\n",
       "    }\n",
       "\n",
       "    .dataframe tbody tr th {\n",
       "        vertical-align: top;\n",
       "    }\n",
       "\n",
       "    .dataframe thead th {\n",
       "        text-align: right;\n",
       "    }\n",
       "</style>\n",
       "<table border=\"1\" class=\"dataframe\">\n",
       "  <thead>\n",
       "    <tr style=\"text-align: right;\">\n",
       "      <th></th>\n",
       "      <th>Unnamed: 0</th>\n",
       "      <th>MAE_train</th>\n",
       "      <th>MAE_test</th>\n",
       "      <th>MSE_train</th>\n",
       "      <th>MSE_test</th>\n",
       "    </tr>\n",
       "  </thead>\n",
       "  <tbody>\n",
       "    <tr>\n",
       "      <th>0</th>\n",
       "      <td>1</td>\n",
       "      <td>0.02355</td>\n",
       "      <td>0.023738</td>\n",
       "      <td>0.001063</td>\n",
       "      <td>0.001129</td>\n",
       "    </tr>\n",
       "  </tbody>\n",
       "</table>\n",
       "</div>"
      ],
      "text/plain": [
       "   Unnamed: 0  MAE_train  MAE_test  MSE_train  MSE_test\n",
       "0           1    0.02355  0.023738   0.001063  0.001129"
      ]
     },
     "execution_count": 28,
     "metadata": {},
     "output_type": "execute_result"
    }
   ],
   "source": [
    "res_r = pd.read_csv(path_r + \"Performances_moyennes.csv\")\n",
    "res_r"
   ]
  }
 ],
 "metadata": {
  "kernelspec": {
   "display_name": "Python 3",
   "language": "python",
   "name": "python3"
  },
  "language_info": {
   "codemirror_mode": {
    "name": "ipython",
    "version": 3
   },
   "file_extension": ".py",
   "mimetype": "text/x-python",
   "name": "python",
   "nbconvert_exporter": "python",
   "pygments_lexer": "ipython3",
   "version": "3.12.0"
  }
 },
 "nbformat": 4,
 "nbformat_minor": 2
}
