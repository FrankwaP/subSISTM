{
 "cells": [
  {
   "cell_type": "markdown",
   "metadata": {},
   "source": [
    "### Imports"
   ]
  },
  {
   "cell_type": "code",
   "execution_count": 1,
   "metadata": {},
   "outputs": [],
   "source": [
    "import json\n",
    "import os\n",
    "import pandas as pd\n"
   ]
  },
  {
   "cell_type": "code",
   "execution_count": 2,
   "metadata": {},
   "outputs": [],
   "source": [
    "path_py = \"../ODE-RNN/Résultats/\"\n",
    "path_r = \"../../data/synthetic_bph_1/Résultats R script/\""
   ]
  },
  {
   "cell_type": "markdown",
   "metadata": {},
   "source": [
    "## Network results"
   ]
  },
  {
   "cell_type": "code",
   "execution_count": 13,
   "metadata": {},
   "outputs": [
    {
     "name": "stderr",
     "output_type": "stream",
     "text": [
      "C:\\Users\\Utilisateur\\AppData\\Local\\Temp\\ipykernel_6036\\943012095.py:5: FutureWarning: The behavior of DataFrame concatenation with empty or all-NA entries is deprecated. In a future version, this will no longer exclude empty or all-NA columns when determining the result dtypes. To retain the old behavior, exclude the relevant entries before the concat operation.\n",
      "  res_py = pd.concat((res_py,df))\n",
      "C:\\Users\\Utilisateur\\AppData\\Local\\Temp\\ipykernel_6036\\943012095.py:5: FutureWarning: The behavior of DataFrame concatenation with empty or all-NA entries is deprecated. In a future version, this will no longer exclude empty or all-NA columns when determining the result dtypes. To retain the old behavior, exclude the relevant entries before the concat operation.\n",
      "  res_py = pd.concat((res_py,df))\n"
     ]
    },
    {
     "data": {
      "text/html": [
       "<div>\n",
       "<style scoped>\n",
       "    .dataframe tbody tr th:only-of-type {\n",
       "        vertical-align: middle;\n",
       "    }\n",
       "\n",
       "    .dataframe tbody tr th {\n",
       "        vertical-align: top;\n",
       "    }\n",
       "\n",
       "    .dataframe thead th {\n",
       "        text-align: right;\n",
       "    }\n",
       "</style>\n",
       "<table border=\"1\" class=\"dataframe\">\n",
       "  <thead>\n",
       "    <tr style=\"text-align: right;\">\n",
       "      <th></th>\n",
       "      <th>Random effect</th>\n",
       "      <th>Model</th>\n",
       "      <th>nb_epochs</th>\n",
       "      <th>MAE moyenne sur l'entrainement</th>\n",
       "      <th>MAE moyenne sur le test</th>\n",
       "      <th>MSE moyenne sur l'entrainement</th>\n",
       "      <th>MSE moyenne sur le test</th>\n",
       "    </tr>\n",
       "  </thead>\n",
       "  <tbody>\n",
       "    <tr>\n",
       "      <th>0</th>\n",
       "      <td>False</td>\n",
       "      <td>LSTM</td>\n",
       "      <td>78530</td>\n",
       "      <td>0.227834</td>\n",
       "      <td>0.467197</td>\n",
       "      <td>NaN</td>\n",
       "      <td>NaN</td>\n",
       "    </tr>\n",
       "    <tr>\n",
       "      <th>0</th>\n",
       "      <td>False</td>\n",
       "      <td>RNN</td>\n",
       "      <td>12697</td>\n",
       "      <td>0.931442</td>\n",
       "      <td>2.494483</td>\n",
       "      <td>1.186109</td>\n",
       "      <td>4.049957</td>\n",
       "    </tr>\n",
       "    <tr>\n",
       "      <th>0</th>\n",
       "      <td>True</td>\n",
       "      <td>LSTM</td>\n",
       "      <td>54383</td>\n",
       "      <td>0.665641</td>\n",
       "      <td>0.423597</td>\n",
       "      <td>NaN</td>\n",
       "      <td>NaN</td>\n",
       "    </tr>\n",
       "    <tr>\n",
       "      <th>0</th>\n",
       "      <td>True</td>\n",
       "      <td>RNN</td>\n",
       "      <td>13861</td>\n",
       "      <td>0.418109</td>\n",
       "      <td>0.965822</td>\n",
       "      <td>NaN</td>\n",
       "      <td>NaN</td>\n",
       "    </tr>\n",
       "  </tbody>\n",
       "</table>\n",
       "</div>"
      ],
      "text/plain": [
       "  Random effect Model nb_epochs  MAE moyenne sur l'entrainement  \\\n",
       "0         False  LSTM     78530                        0.227834   \n",
       "0         False   RNN     12697                        0.931442   \n",
       "0          True  LSTM     54383                        0.665641   \n",
       "0          True   RNN     13861                        0.418109   \n",
       "\n",
       "   MAE moyenne sur le test  MSE moyenne sur l'entrainement  \\\n",
       "0                 0.467197                             NaN   \n",
       "0                 2.494483                        1.186109   \n",
       "0                 0.423597                             NaN   \n",
       "0                 0.965822                             NaN   \n",
       "\n",
       "   MSE moyenne sur le test  \n",
       "0                      NaN  \n",
       "0                 4.049957  \n",
       "0                      NaN  \n",
       "0                      NaN  "
      ]
     },
     "execution_count": 13,
     "metadata": {},
     "output_type": "execute_result"
    }
   ],
   "source": [
    "res_py = pd.DataFrame(columns=['Random effect', 'Model', 'nb_epochs', \"MAE moyenne sur l'entrainement\", \"MAE moyenne sur le test\", \"MSE moyenne sur l'entrainement\", \"MSE moyenne sur le test\"])\n",
    "for file in os.listdir(path_py):\n",
    "    if \"json\" in file:\n",
    "        df = pd.read_json(path_py + file)\n",
    "        res_py = pd.concat((res_py,df))\n",
    "res_py = res_py.sort_values(by=[\"Random effect\", \"Model\"])\n",
    "res_py "
   ]
  },
  {
   "cell_type": "markdown",
   "metadata": {},
   "source": [
    "## Results of R models"
   ]
  },
  {
   "cell_type": "code",
   "execution_count": 5,
   "metadata": {},
   "outputs": [
    {
     "data": {
      "text/html": [
       "<div>\n",
       "<style scoped>\n",
       "    .dataframe tbody tr th:only-of-type {\n",
       "        vertical-align: middle;\n",
       "    }\n",
       "\n",
       "    .dataframe tbody tr th {\n",
       "        vertical-align: top;\n",
       "    }\n",
       "\n",
       "    .dataframe thead th {\n",
       "        text-align: right;\n",
       "    }\n",
       "</style>\n",
       "<table border=\"1\" class=\"dataframe\">\n",
       "  <thead>\n",
       "    <tr style=\"text-align: right;\">\n",
       "      <th></th>\n",
       "      <th>Unnamed: 0</th>\n",
       "      <th>MAE_train_oracle</th>\n",
       "      <th>MAE_test_oracle</th>\n",
       "      <th>MSE_train_oracle</th>\n",
       "      <th>MSE_test_oracle</th>\n",
       "      <th>MAE_train_naïf</th>\n",
       "      <th>MAE_test_naïf</th>\n",
       "      <th>MSE_train_naïf</th>\n",
       "      <th>MSE_test_naïf</th>\n",
       "    </tr>\n",
       "  </thead>\n",
       "  <tbody>\n",
       "    <tr>\n",
       "      <th>0</th>\n",
       "      <td>1</td>\n",
       "      <td>0.010801</td>\n",
       "      <td>0.010996</td>\n",
       "      <td>0.000214</td>\n",
       "      <td>0.000228</td>\n",
       "      <td>2.342274</td>\n",
       "      <td>2.484302</td>\n",
       "      <td>12.032165</td>\n",
       "      <td>13.715574</td>\n",
       "    </tr>\n",
       "  </tbody>\n",
       "</table>\n",
       "</div>"
      ],
      "text/plain": [
       "   Unnamed: 0  MAE_train_oracle  MAE_test_oracle  MSE_train_oracle  \\\n",
       "0           1          0.010801         0.010996          0.000214   \n",
       "\n",
       "   MSE_test_oracle  MAE_train_naïf  MAE_test_naïf  MSE_train_naïf  \\\n",
       "0         0.000228        2.342274       2.484302       12.032165   \n",
       "\n",
       "   MSE_test_naïf  \n",
       "0      13.715574  "
      ]
     },
     "execution_count": 5,
     "metadata": {},
     "output_type": "execute_result"
    }
   ],
   "source": [
    "res_r_fixed = pd.read_csv(path_r + \"Performances_moyennes_fixed.csv\")\n",
    "res_r_fixed\n"
   ]
  },
  {
   "cell_type": "code",
   "execution_count": 6,
   "metadata": {},
   "outputs": [
    {
     "data": {
      "text/html": [
       "<div>\n",
       "<style scoped>\n",
       "    .dataframe tbody tr th:only-of-type {\n",
       "        vertical-align: middle;\n",
       "    }\n",
       "\n",
       "    .dataframe tbody tr th {\n",
       "        vertical-align: top;\n",
       "    }\n",
       "\n",
       "    .dataframe thead th {\n",
       "        text-align: right;\n",
       "    }\n",
       "</style>\n",
       "<table border=\"1\" class=\"dataframe\">\n",
       "  <thead>\n",
       "    <tr style=\"text-align: right;\">\n",
       "      <th></th>\n",
       "      <th>Unnamed: 0</th>\n",
       "      <th>MAE_train_oracle</th>\n",
       "      <th>MAE_test_oracle</th>\n",
       "      <th>MSE_train_oracle</th>\n",
       "      <th>MSE_test_oracle</th>\n",
       "      <th>MAE_train_naïf</th>\n",
       "      <th>MAE_test_naïf</th>\n",
       "      <th>MSE_train_naïf</th>\n",
       "      <th>MSE_test_naïf</th>\n",
       "    </tr>\n",
       "  </thead>\n",
       "  <tbody>\n",
       "    <tr>\n",
       "      <th>0</th>\n",
       "      <td>1</td>\n",
       "      <td>0.20097</td>\n",
       "      <td>0.200208</td>\n",
       "      <td>0.077495</td>\n",
       "      <td>0.080555</td>\n",
       "      <td>0.279428</td>\n",
       "      <td>0.282081</td>\n",
       "      <td>0.16775</td>\n",
       "      <td>0.181796</td>\n",
       "    </tr>\n",
       "  </tbody>\n",
       "</table>\n",
       "</div>"
      ],
      "text/plain": [
       "   Unnamed: 0  MAE_train_oracle  MAE_test_oracle  MSE_train_oracle  \\\n",
       "0           1           0.20097         0.200208          0.077495   \n",
       "\n",
       "   MSE_test_oracle  MAE_train_naïf  MAE_test_naïf  MSE_train_naïf  \\\n",
       "0         0.080555        0.279428       0.282081         0.16775   \n",
       "\n",
       "   MSE_test_naïf  \n",
       "0       0.181796  "
      ]
     },
     "execution_count": 6,
     "metadata": {},
     "output_type": "execute_result"
    }
   ],
   "source": [
    "res_r_mixed = pd.read_csv(path_r + \"Performances_moyennes_mixed.csv\")\n",
    "res_r_mixed"
   ]
  }
 ],
 "metadata": {
  "kernelspec": {
   "display_name": "Python 3",
   "language": "python",
   "name": "python3"
  },
  "language_info": {
   "codemirror_mode": {
    "name": "ipython",
    "version": 3
   },
   "file_extension": ".py",
   "mimetype": "text/x-python",
   "name": "python",
   "nbconvert_exporter": "python",
   "pygments_lexer": "ipython3",
   "version": "3.12.0"
  }
 },
 "nbformat": 4,
 "nbformat_minor": 2
}
