{
 "cells": [
  {
   "cell_type": "code",
   "execution_count": 1,
   "id": "09eef988-5a65-4f04-a108-f5c5102e4798",
   "metadata": {
    "editable": true,
    "slideshow": {
     "slide_type": "skip"
    },
    "tags": []
   },
   "outputs": [],
   "source": [
    "import seaborn as sns\n",
    "from pandas import DataFrame\n",
    "from sklearn.neural_network import MLPRegressor\n",
    "from sklearn.preprocessing import RobustScaler\n",
    "\n",
    "from main import get_dataframe, iterate_mixedml, loop_mixedml\n"
   ]
  },
  {
   "cell_type": "code",
   "execution_count": 2,
   "id": "35387bd7-2a5d-46ee-8a1f-e6949b5864c3",
   "metadata": {
    "editable": true,
    "slideshow": {
     "slide_type": "slide"
    },
    "tags": []
   },
   "outputs": [],
   "source": [
    "X_LABELS = [\"x2_x5\", \"x4_x7\", \"x6_x8\"]\n",
    "\n",
    "# the paper says \"y_fixed\" for \"y fixed effects\"\n",
    "# but it can be understood as \"y not changing\"\n",
    "# so I call it \"y_fe\"\n",
    "Y_LABEL = \"y_mixed_obs\"  # the values are fixed\n",
    "Y_LABEL_FE = Y_LABEL + \"_fixed\"  # the value are not fixed"
   ]
  },
  {
   "cell_type": "code",
   "execution_count": 3,
   "id": "e51fa4a9-00d0-4e2c-acae-de821d47603d",
   "metadata": {
    "editable": true,
    "slideshow": {
     "slide_type": ""
    },
    "tags": []
   },
   "outputs": [],
   "source": [
    "data = get_dataframe(\"../../data/synthetic_bph_1/01_test.csv\")\n",
    "data = data[data[\"individus\"] < 20]\n",
    "data = data[[\"individus\"] + X_LABELS + [Y_LABEL]]\n",
    "data[X_LABELS + [Y_LABEL]] = RobustScaler().fit_transform(data[X_LABELS + [Y_LABEL]])"
   ]
  },
  {
   "cell_type": "code",
   "execution_count": 4,
   "id": "8d8a67cb-d600-462e-a545-a6d18e752ab5",
   "metadata": {
    "editable": true,
    "slideshow": {
     "slide_type": "slide"
    },
    "tags": []
   },
   "outputs": [
    {
     "data": {
      "text/html": [
       "<div>\n",
       "<style scoped>\n",
       "    .dataframe tbody tr th:only-of-type {\n",
       "        vertical-align: middle;\n",
       "    }\n",
       "\n",
       "    .dataframe tbody tr th {\n",
       "        vertical-align: top;\n",
       "    }\n",
       "\n",
       "    .dataframe thead th {\n",
       "        text-align: right;\n",
       "    }\n",
       "</style>\n",
       "<table border=\"1\" class=\"dataframe\">\n",
       "  <thead>\n",
       "    <tr style=\"text-align: right;\">\n",
       "      <th></th>\n",
       "      <th>individus</th>\n",
       "      <th>x2_x5</th>\n",
       "      <th>x4_x7</th>\n",
       "      <th>x6_x8</th>\n",
       "      <th>y_mixed_obs</th>\n",
       "    </tr>\n",
       "  </thead>\n",
       "  <tbody>\n",
       "    <tr>\n",
       "      <th>0</th>\n",
       "      <td>1</td>\n",
       "      <td>-0.802429</td>\n",
       "      <td>-0.471798</td>\n",
       "      <td>0.0</td>\n",
       "      <td>-1.129335</td>\n",
       "    </tr>\n",
       "    <tr>\n",
       "      <th>1</th>\n",
       "      <td>1</td>\n",
       "      <td>-0.744390</td>\n",
       "      <td>-0.323000</td>\n",
       "      <td>0.0</td>\n",
       "      <td>-0.932142</td>\n",
       "    </tr>\n",
       "    <tr>\n",
       "      <th>2</th>\n",
       "      <td>1</td>\n",
       "      <td>-0.716285</td>\n",
       "      <td>-0.249475</td>\n",
       "      <td>0.0</td>\n",
       "      <td>-0.896724</td>\n",
       "    </tr>\n",
       "    <tr>\n",
       "      <th>3</th>\n",
       "      <td>1</td>\n",
       "      <td>-0.700024</td>\n",
       "      <td>-0.222418</td>\n",
       "      <td>0.0</td>\n",
       "      <td>-0.858849</td>\n",
       "    </tr>\n",
       "    <tr>\n",
       "      <th>4</th>\n",
       "      <td>1</td>\n",
       "      <td>-0.690015</td>\n",
       "      <td>-0.214187</td>\n",
       "      <td>0.0</td>\n",
       "      <td>-0.905740</td>\n",
       "    </tr>\n",
       "    <tr>\n",
       "      <th>...</th>\n",
       "      <td>...</td>\n",
       "      <td>...</td>\n",
       "      <td>...</td>\n",
       "      <td>...</td>\n",
       "      <td>...</td>\n",
       "    </tr>\n",
       "    <tr>\n",
       "      <th>489</th>\n",
       "      <td>19</td>\n",
       "      <td>0.030368</td>\n",
       "      <td>-0.211567</td>\n",
       "      <td>0.0</td>\n",
       "      <td>-0.074280</td>\n",
       "    </tr>\n",
       "    <tr>\n",
       "      <th>490</th>\n",
       "      <td>19</td>\n",
       "      <td>0.030368</td>\n",
       "      <td>-0.211567</td>\n",
       "      <td>0.0</td>\n",
       "      <td>-0.071697</td>\n",
       "    </tr>\n",
       "    <tr>\n",
       "      <th>491</th>\n",
       "      <td>19</td>\n",
       "      <td>0.030368</td>\n",
       "      <td>-0.211567</td>\n",
       "      <td>0.0</td>\n",
       "      <td>-0.044650</td>\n",
       "    </tr>\n",
       "    <tr>\n",
       "      <th>492</th>\n",
       "      <td>19</td>\n",
       "      <td>0.030368</td>\n",
       "      <td>-0.211567</td>\n",
       "      <td>0.0</td>\n",
       "      <td>0.031557</td>\n",
       "    </tr>\n",
       "    <tr>\n",
       "      <th>493</th>\n",
       "      <td>19</td>\n",
       "      <td>0.030368</td>\n",
       "      <td>-0.211567</td>\n",
       "      <td>0.0</td>\n",
       "      <td>0.000018</td>\n",
       "    </tr>\n",
       "  </tbody>\n",
       "</table>\n",
       "<p>494 rows × 5 columns</p>\n",
       "</div>"
      ],
      "text/plain": [
       "     individus     x2_x5     x4_x7  x6_x8  y_mixed_obs\n",
       "0            1 -0.802429 -0.471798    0.0    -1.129335\n",
       "1            1 -0.744390 -0.323000    0.0    -0.932142\n",
       "2            1 -0.716285 -0.249475    0.0    -0.896724\n",
       "3            1 -0.700024 -0.222418    0.0    -0.858849\n",
       "4            1 -0.690015 -0.214187    0.0    -0.905740\n",
       "..         ...       ...       ...    ...          ...\n",
       "489         19  0.030368 -0.211567    0.0    -0.074280\n",
       "490         19  0.030368 -0.211567    0.0    -0.071697\n",
       "491         19  0.030368 -0.211567    0.0    -0.044650\n",
       "492         19  0.030368 -0.211567    0.0     0.031557\n",
       "493         19  0.030368 -0.211567    0.0     0.000018\n",
       "\n",
       "[494 rows x 5 columns]"
      ]
     },
     "execution_count": 4,
     "metadata": {},
     "output_type": "execute_result"
    }
   ],
   "source": [
    "data"
   ]
  },
  {
   "cell_type": "code",
   "execution_count": 5,
   "id": "7a48eef7-2f8e-4d63-831f-39638fad1723",
   "metadata": {
    "editable": true,
    "slideshow": {
     "slide_type": "slide"
    },
    "tags": []
   },
   "outputs": [
    {
     "data": {
      "text/plain": [
       "\u001b[0;31mSignature:\u001b[0m\n",
       "\u001b[0miterate_mixedml\u001b[0m\u001b[0;34m(\u001b[0m\u001b[0;34m\u001b[0m\n",
       "\u001b[0;34m\u001b[0m    \u001b[0mml_fixed\u001b[0m\u001b[0;34m:\u001b[0m \u001b[0msklearn\u001b[0m\u001b[0;34m.\u001b[0m\u001b[0mneural_network\u001b[0m\u001b[0;34m.\u001b[0m\u001b[0m_multilayer_perceptron\u001b[0m\u001b[0;34m.\u001b[0m\u001b[0mMLPRegressor\u001b[0m\u001b[0;34m,\u001b[0m\u001b[0;34m\u001b[0m\n",
       "\u001b[0;34m\u001b[0m    \u001b[0mdf_data\u001b[0m\u001b[0;34m:\u001b[0m \u001b[0mpandas\u001b[0m\u001b[0;34m.\u001b[0m\u001b[0mcore\u001b[0m\u001b[0;34m.\u001b[0m\u001b[0mframe\u001b[0m\u001b[0;34m.\u001b[0m\u001b[0mDataFrame\u001b[0m\u001b[0;34m,\u001b[0m\u001b[0;34m\u001b[0m\n",
       "\u001b[0;34m\u001b[0m\u001b[0;34m)\u001b[0m \u001b[0;34m->\u001b[0m \u001b[0mtuple\u001b[0m\u001b[0;34m[\u001b[0m\u001b[0msklearn\u001b[0m\u001b[0;34m.\u001b[0m\u001b[0mneural_network\u001b[0m\u001b[0;34m.\u001b[0m\u001b[0m_multilayer_perceptron\u001b[0m\u001b[0;34m.\u001b[0m\u001b[0mMLPRegressor\u001b[0m\u001b[0;34m,\u001b[0m \u001b[0mpandas\u001b[0m\u001b[0;34m.\u001b[0m\u001b[0mcore\u001b[0m\u001b[0;34m.\u001b[0m\u001b[0mframe\u001b[0m\u001b[0;34m.\u001b[0m\u001b[0mDataFrame\u001b[0m\u001b[0;34m,\u001b[0m \u001b[0mbool\u001b[0m\u001b[0;34m]\u001b[0m\u001b[0;34m\u001b[0m\u001b[0;34m\u001b[0m\u001b[0m\n",
       "\u001b[0;31mDocstring:\u001b[0m <no docstring>\n",
       "\u001b[0;31mSource:\u001b[0m   \n",
       "\u001b[0;32mdef\u001b[0m \u001b[0miterate_mixedml\u001b[0m\u001b[0;34m(\u001b[0m\u001b[0;34m\u001b[0m\n",
       "\u001b[0;34m\u001b[0m    \u001b[0mml_fixed\u001b[0m\u001b[0;34m:\u001b[0m \u001b[0mMLPRegressor\u001b[0m\u001b[0;34m,\u001b[0m \u001b[0mdf_data\u001b[0m\u001b[0;34m:\u001b[0m \u001b[0mDataFrame\u001b[0m\u001b[0;34m\u001b[0m\n",
       "\u001b[0;34m\u001b[0m\u001b[0;34m)\u001b[0m \u001b[0;34m->\u001b[0m \u001b[0mtuple\u001b[0m\u001b[0;34m[\u001b[0m\u001b[0mMLPRegressor\u001b[0m\u001b[0;34m,\u001b[0m \u001b[0mDataFrame\u001b[0m\u001b[0;34m,\u001b[0m \u001b[0mbool\u001b[0m\u001b[0;34m]\u001b[0m\u001b[0;34m:\u001b[0m\u001b[0;34m\u001b[0m\n",
       "\u001b[0;34m\u001b[0m\u001b[0;34m\u001b[0m\n",
       "\u001b[0;34m\u001b[0m    \u001b[0;31m#### fitting the Machine Learning model\u001b[0m\u001b[0;34m\u001b[0m\n",
       "\u001b[0;34m\u001b[0m    \u001b[0mX\u001b[0m \u001b[0;34m=\u001b[0m \u001b[0mdf_data\u001b[0m\u001b[0;34m[\u001b[0m\u001b[0mX_LABELS\u001b[0m\u001b[0;34m]\u001b[0m\u001b[0;34m\u001b[0m\n",
       "\u001b[0;34m\u001b[0m    \u001b[0my\u001b[0m \u001b[0;34m=\u001b[0m \u001b[0mdf_data\u001b[0m\u001b[0;34m[\u001b[0m\u001b[0mY_LABEL_FE\u001b[0m\u001b[0;34m]\u001b[0m\u001b[0;34m\u001b[0m\n",
       "\u001b[0;34m\u001b[0m    \u001b[0;31m# we train ml_fixed by ignoring cluster effects (with the target y)\u001b[0m\u001b[0;34m\u001b[0m\n",
       "\u001b[0;34m\u001b[0m    \u001b[0mml_fixed\u001b[0m\u001b[0;34m.\u001b[0m\u001b[0mfit\u001b[0m\u001b[0;34m(\u001b[0m\u001b[0mX\u001b[0m\u001b[0;34m,\u001b[0m \u001b[0my\u001b[0m\u001b[0;34m)\u001b[0m\u001b[0;34m\u001b[0m\n",
       "\u001b[0;34m\u001b[0m    \u001b[0;31m# to get an estimate of y_fixed\u001b[0m\u001b[0;34m\u001b[0m\n",
       "\u001b[0;34m\u001b[0m    \u001b[0;32mtry\u001b[0m\u001b[0;34m:\u001b[0m\u001b[0;34m\u001b[0m\n",
       "\u001b[0;34m\u001b[0m        \u001b[0my_fixed\u001b[0m \u001b[0;34m=\u001b[0m \u001b[0mml_fixed\u001b[0m\u001b[0;34m.\u001b[0m\u001b[0mpredict\u001b[0m\u001b[0;34m(\u001b[0m\u001b[0mX\u001b[0m\u001b[0;34m)\u001b[0m\u001b[0;34m\u001b[0m\n",
       "\u001b[0;34m\u001b[0m    \u001b[0;32mexcept\u001b[0m \u001b[0mAttributeError\u001b[0m\u001b[0;34m:\u001b[0m\u001b[0;34m\u001b[0m\n",
       "\u001b[0;34m\u001b[0m        \u001b[0my_fixed\u001b[0m \u001b[0;34m=\u001b[0m \u001b[0mml_fixed\u001b[0m\u001b[0;34m.\u001b[0m\u001b[0mrun\u001b[0m\u001b[0;34m(\u001b[0m\u001b[0mX\u001b[0m\u001b[0;34m)\u001b[0m\u001b[0;34m\u001b[0m\n",
       "\u001b[0;34m\u001b[0m\u001b[0;34m\u001b[0m\n",
       "\u001b[0;34m\u001b[0m    \u001b[0;31m#### fitting the Mixed Effect model\u001b[0m\u001b[0;34m\u001b[0m\n",
       "\u001b[0;34m\u001b[0m    \u001b[0;31m# based on e_fixed\u001b[0m\u001b[0;34m\u001b[0m\n",
       "\u001b[0;34m\u001b[0m    \u001b[0;31m# !!! l'erreur était là (j'utilisais \"y- y_fixed\")\u001b[0m\u001b[0;34m\u001b[0m\n",
       "\u001b[0;34m\u001b[0m    \u001b[0mdf_data\u001b[0m\u001b[0;34m[\u001b[0m\u001b[0;34m\"e_fixed\"\u001b[0m\u001b[0;34m]\u001b[0m \u001b[0;34m=\u001b[0m \u001b[0mdf_data\u001b[0m\u001b[0;34m[\u001b[0m\u001b[0mY_LABEL\u001b[0m\u001b[0;34m]\u001b[0m \u001b[0;34m-\u001b[0m \u001b[0my_fixed\u001b[0m\u001b[0;34m\u001b[0m\n",
       "\u001b[0;34m\u001b[0m    \u001b[0mdf_data\u001b[0m\u001b[0;34m.\u001b[0m\u001b[0mto_csv\u001b[0m\u001b[0;34m(\u001b[0m\u001b[0;34m\"ml_pred.csv\"\u001b[0m\u001b[0;34m,\u001b[0m \u001b[0mindex\u001b[0m\u001b[0;34m=\u001b[0m\u001b[0;32mFalse\u001b[0m\u001b[0;34m)\u001b[0m\u001b[0;34m\u001b[0m\n",
       "\u001b[0;34m\u001b[0m    \u001b[0;31m# we estimate u\u001b[0m\u001b[0;34m\u001b[0m\n",
       "\u001b[0;34m\u001b[0m    \u001b[0mcall\u001b[0m\u001b[0;34m(\u001b[0m\u001b[0;34m[\u001b[0m\u001b[0;34m\"Rscript\"\u001b[0m\u001b[0;34m,\u001b[0m \u001b[0;34m\"random_effects_fitting.R\"\u001b[0m\u001b[0;34m]\u001b[0m\u001b[0;34m)\u001b[0m\u001b[0;34m\u001b[0m\n",
       "\u001b[0;34m\u001b[0m    \u001b[0mrandom_preds\u001b[0m \u001b[0;34m=\u001b[0m \u001b[0mread_csv\u001b[0m\u001b[0;34m(\u001b[0m\u001b[0;34m\"random_preds.csv\"\u001b[0m\u001b[0;34m)\u001b[0m\u001b[0;34m\u001b[0m\n",
       "\u001b[0;34m\u001b[0m    \u001b[0my_random\u001b[0m \u001b[0;34m=\u001b[0m \u001b[0mrandom_preds\u001b[0m\u001b[0;34m[\u001b[0m\u001b[0;34m\"pred_ss\"\u001b[0m\u001b[0;34m]\u001b[0m\u001b[0;34m.\u001b[0m\u001b[0mto_numpy\u001b[0m\u001b[0;34m(\u001b[0m\u001b[0;34m)\u001b[0m\u001b[0;34m\u001b[0m\n",
       "\u001b[0;34m\u001b[0m\u001b[0;34m\u001b[0m\n",
       "\u001b[0;34m\u001b[0m    \u001b[0;31m# then we upgrade y_fixed = y-Zu\u001b[0m\u001b[0;34m\u001b[0m\n",
       "\u001b[0;34m\u001b[0m    \u001b[0;31m# … and re-train ml_fixed with the updated target variable y_fixed\u001b[0m\u001b[0;34m\u001b[0m\n",
       "\u001b[0;34m\u001b[0m    \u001b[0mdf_data\u001b[0m\u001b[0;34m[\u001b[0m\u001b[0mY_LABEL_FE\u001b[0m\u001b[0;34m]\u001b[0m \u001b[0;34m=\u001b[0m \u001b[0mdf_data\u001b[0m\u001b[0;34m[\u001b[0m\u001b[0mY_LABEL\u001b[0m\u001b[0;34m]\u001b[0m \u001b[0;34m-\u001b[0m \u001b[0my_random\u001b[0m\u001b[0;34m\u001b[0m\n",
       "\u001b[0;34m\u001b[0m\u001b[0;34m\u001b[0m\n",
       "\u001b[0;34m\u001b[0m    \u001b[0;31m####\u001b[0m\u001b[0;34m\u001b[0m\n",
       "\u001b[0;34m\u001b[0m    \u001b[0;31m# final prediction to monitor convergence\u001b[0m\u001b[0;34m\u001b[0m\n",
       "\u001b[0;34m\u001b[0m    \u001b[0my_pred\u001b[0m \u001b[0;34m=\u001b[0m \u001b[0my_fixed\u001b[0m \u001b[0;34m+\u001b[0m \u001b[0my_random\u001b[0m\u001b[0;34m\u001b[0m\n",
       "\u001b[0;34m\u001b[0m\u001b[0;34m\u001b[0m\n",
       "\u001b[0;34m\u001b[0m    \u001b[0;31m# check that it's equivalent\u001b[0m\u001b[0;34m\u001b[0m\n",
       "\u001b[0;34m\u001b[0m    \u001b[0;31m# assert (\u001b[0m\u001b[0;34m\u001b[0m\n",
       "\u001b[0;34m\u001b[0m    \u001b[0;31m#     abs(\u001b[0m\u001b[0;34m\u001b[0m\n",
       "\u001b[0;34m\u001b[0m    \u001b[0;31m#         mse(df_data[Y_LABEL], y_pred) - mean(random_preds[\"resid_ss\"] ** 2)\u001b[0m\u001b[0;34m\u001b[0m\n",
       "\u001b[0;34m\u001b[0m    \u001b[0;31m#     )\u001b[0m\u001b[0;34m\u001b[0m\n",
       "\u001b[0;34m\u001b[0m    \u001b[0;31m#     < 1e-6\u001b[0m\u001b[0;34m\u001b[0m\n",
       "\u001b[0;34m\u001b[0m    \u001b[0;31m# )\u001b[0m\u001b[0;34m\u001b[0m\n",
       "\u001b[0;34m\u001b[0m\u001b[0;34m\u001b[0m\n",
       "\u001b[0;34m\u001b[0m    \u001b[0;32mreturn\u001b[0m \u001b[0mml_fixed\u001b[0m\u001b[0;34m,\u001b[0m \u001b[0mdf_data\u001b[0m\u001b[0;34m,\u001b[0m \u001b[0mmse\u001b[0m\u001b[0;34m(\u001b[0m\u001b[0mdf_data\u001b[0m\u001b[0;34m[\u001b[0m\u001b[0mY_LABEL\u001b[0m\u001b[0;34m]\u001b[0m\u001b[0;34m,\u001b[0m \u001b[0my_pred\u001b[0m\u001b[0;34m)\u001b[0m\u001b[0;34m\u001b[0m\u001b[0;34m\u001b[0m\u001b[0m\n",
       "\u001b[0;31mFile:\u001b[0m      ~/Documents/SISTM/subSISTM/models/mixedML/main.py\n",
       "\u001b[0;31mType:\u001b[0m      function"
      ]
     },
     "metadata": {},
     "output_type": "display_data"
    }
   ],
   "source": [
    "??iterate_mixedml"
   ]
  },
  {
   "cell_type": "code",
   "execution_count": 6,
   "id": "6d9c6874-57bf-46ed-bb84-ef6986034ff9",
   "metadata": {
    "editable": true,
    "slideshow": {
     "slide_type": "slide"
    },
    "tags": []
   },
   "outputs": [
    {
     "name": "stdout",
     "output_type": "stream",
     "text": [
      "library(lcmm)\n",
      "\n",
      "data <- read.csv2('ml_pred.csv', sep = ',', dec = '.')\n",
      "data$x6_x8 <- as.numeric(data$x6_x8)\n",
      "\n",
      "\n",
      "data$individus <- as.numeric(data$individus)\n",
      "random_hlme <- hlme(\n",
      "  e_fixed ~ 1,\n",
      "  random = ~  x2_x5 + x4_x7 + x6_x8,\n",
      "  # cor = AR(temps) ou BM(temps)\n",
      "  idiag = TRUE,\n",
      "  data = data,\n",
      "  subject = 'individus',\n",
      ")\n",
      "\n",
      "write.table(\n",
      "  random_hlme$pred,\n",
      "  \"random_preds.csv\",\n",
      "  sep = \",\",\n",
      "  dec = \".\",\n",
      "  row.names = FALSE\n",
      ")\n",
      "\n",
      "saveRDS(random_hlme, 'random_hlme.Rds')\n"
     ]
    }
   ],
   "source": [
    "%cat random_effects_fitting.R"
   ]
  },
  {
   "cell_type": "code",
   "execution_count": 7,
   "id": "c934f52f-6829-437e-8d8c-bc3786616b06",
   "metadata": {
    "editable": true,
    "slideshow": {
     "slide_type": ""
    },
    "tags": []
   },
   "outputs": [
    {
     "name": "stdout",
     "output_type": "stream",
     "text": [
      "mixedML step #00: 1.483951e-02 (best)\n",
      "mixedML step #01: 9.526225e-03 (best)\n",
      "mixedML step #02: 6.974576e-03 (best)\n",
      "mixedML step #03: 5.617750e-03 (best)\n",
      "mixedML step #04: 5.183712e-03 (best)\n",
      "mixedML step #05: 5.045568e-03 (best)\n",
      "mixedML step #06: 4.732988e-03 (best)\n",
      "mixedML step #07: 4.548513e-03 (best)\n",
      "mixedML step #08: 4.596505e-03\n",
      "mixedML step #09: 4.500780e-03 (best)\n",
      "mixedML step #10: 4.493662e-03 (best)\n",
      "mixedML step #11: 4.616459e-03\n",
      "mixedML step #12: 4.563201e-03\n",
      "mixedML step #13: 4.404150e-03 (best)\n",
      "mixedML step #14: 4.618255e-03\n",
      "mixedML step #15: 4.550459e-03\n",
      "mixedML step #16: 4.445054e-03\n",
      "mixedML step #17: 4.486731e-03\n",
      "mixedML step #18: 4.543133e-03\n",
      "mixedML step #19: 4.443493e-03\n",
      "mixedML step #20: 4.518804e-03\n",
      "mixedML step #21: 4.496486e-03\n",
      "mixedML step #22: 4.501979e-03\n",
      "mixedML step #23: 4.481591e-03\n",
      "mixedML step #24: 4.426681e-03\n",
      "mixedML step #25: 4.445402e-03\n",
      "mixedML step #26: 4.457387e-03\n",
      "mixedML step #27: 4.441254e-03\n",
      "mixedML step #28: 4.432565e-03\n",
      "mixedML step #29: 4.377486e-03 (best)\n",
      "mixedML step #30: 4.487046e-03\n",
      "mixedML step #31: 4.426181e-03\n",
      "mixedML step #32: 4.415566e-03\n",
      "mixedML step #33: 4.488336e-03\n",
      "mixedML step #34: 4.423943e-03\n",
      "mixedML step #35: 4.525297e-03\n",
      "mixedML step #36: 4.425544e-03\n",
      "mixedML step #37: 4.371189e-03 (best)\n",
      "mixedML step #38: 4.490571e-03\n",
      "mixedML step #39: 4.394691e-03\n",
      "mixedML step #40: 4.390807e-03\n",
      "mixedML step #41: 4.628458e-03\n",
      "mixedML step #42: 4.443843e-03\n",
      "mixedML step #43: 4.723547e-03\n",
      "mixedML step #44: 4.599008e-03\n",
      "mixedML step #45: 4.476694e-03\n",
      "mixedML step #46: 4.611454e-03\n",
      "mixedML step #47: 4.590138e-03\n",
      "mixedML step #48: 4.568728e-03\n",
      "mixedML step #49: 4.516355e-03\n",
      "mixedML step #50: 4.525346e-03\n",
      "mixedML step #51: 4.452697e-03\n",
      "mixedML step #52: 4.532494e-03\n",
      "mixedML step #53: 4.471975e-03\n",
      "mixedML step #54: 4.551937e-03\n",
      "mixedML step #55: 4.525851e-03\n",
      "mixedML step #56: 4.421972e-03\n",
      "mixedML step #57: 4.648206e-03\n",
      "mixedML step #58: 4.606917e-03\n"
     ]
    }
   ],
   "source": [
    "model = MLPRegressor(hidden_layer_sizes=(40, 30, 20), max_iter=5000)\n",
    "\n",
    "MAX_ITER = 100\n",
    "results = loop_mixedml(model, data, n_iter_improve=20, max_iter=MAX_ITER)"
   ]
  },
  {
   "cell_type": "code",
   "execution_count": null,
   "id": "23e3b85b-aa57-4ed0-9fbd-1271799cb538",
   "metadata": {},
   "outputs": [],
   "source": [
    "first, best = results[0], min(results)\n",
    "\n",
    "(best - first / first"
   ]
  },
  {
   "cell_type": "code",
   "execution_count": 8,
   "id": "53b9a29d-f284-464e-8d2c-ae63b4f2cf5c",
   "metadata": {},
   "outputs": [
    {
     "data": {
      "text/plain": [
       "<Axes: >"
      ]
     },
     "execution_count": 8,
     "metadata": {},
     "output_type": "execute_result"
    },
    {
     "data": {
      "image/png": "[encoded data removed]",
      "text/plain": [
       "<Figure size 640x480 with 1 Axes>"
      ]
     },
     "metadata": {},
     "output_type": "display_data"
    }
   ],
   "source": [
    "sns.lineplot(DataFrame(results, columns=['MSE']))"
   ]
  }
 ],
 "metadata": {
  "kernelspec": {
   "display_name": "Python 3 (ipykernel)",
   "language": "python",
   "name": "python3"
  },
  "language_info": {
   "codemirror_mode": {
    "name": "ipython",
    "version": 3
   },
   "file_extension": ".py",
   "mimetype": "text/x-python",
   "name": "python",
   "nbconvert_exporter": "python",
   "pygments_lexer": "ipython3",
   "version": "3.9.20"
  }
 },
 "nbformat": 4,
 "nbformat_minor": 5
}
