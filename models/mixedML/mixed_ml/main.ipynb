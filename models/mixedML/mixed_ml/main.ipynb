{
 "cells": [
  {
   "cell_type": "markdown",
   "id": "f609aa88-f2e7-45fb-b1be-51e6e09fde63",
   "metadata": {
    "editable": true,
    "slideshow": {
     "slide_type": "slide"
    },
    "tags": []
   },
   "source": [
    "# MixedML on Python"
   ]
  },
  {
   "cell_type": "markdown",
   "id": "ebf8fdbd-6162-4d79-9ad9-bb0db1978834",
   "metadata": {
    "editable": true,
    "slideshow": {
     "slide_type": "slide"
    },
    "tags": []
   },
   "source": [
    "Linear Mixed Effect: $$Y_{ij} = \\beta_0 + \\beta_i X_{ij} + b_{0j} + b_{ij} X_{ij} + \\epsilon_{i}$$ \n",
    "=> MixedML: $$Y_{ij} = ML(X_{ij}) + b_{0j} + b_{ij} X_{ij} + \\epsilon_{i}$$\n",
    "\n",
    "\n",
    "with ML: any type of Machine Learning model\n"
   ]
  },
  {
   "cell_type": "markdown",
   "id": "3e9cfaff-acc5-479d-82b9-6199d1365b48",
   "metadata": {
    "editable": true,
    "slideshow": {
     "slide_type": "subslide"
    },
    "tags": []
   },
   "source": [
    "LCMM is used for the (pure) random effect model:\n",
    "\n",
    "\n",
    "```R\n",
    "random_hlme <- hlme(\n",
    "  e_fixed ~ 1,\n",
    "  random = ~  1 + x1 + x2 + x3 + x4 + x5 + x6 + x7 + x8,\n",
    "  idiag = TRUE,\n",
    "  data = data,\n",
    "  subject = 'individus',\n",
    "  var.time = 'temps'\n",
    ")\n",
    "```"
   ]
  },
  {
   "cell_type": "markdown",
   "id": "14f24cd3-f854-4f19-b0a7-3c59e21ba670",
   "metadata": {
    "editable": true,
    "slideshow": {
     "slide_type": "subslide"
    },
    "tags": []
   },
   "source": [
    "Algorithm initialization:  $Y_{fixed} = Y$  \n",
    "\n",
    "Until convergence of $squared\\_residuals$:  \n",
    "|  \n",
    "|$~~~~~ML.fit(X, Y_{fixed})$  \n",
    "|$~~~~~Y_{rand} = Y - ML(X)$  \n",
    "|  \n",
    "|$~~~~~HLME.fit(X, Y_{rand})$  \n",
    "|$~~~~~Y_{fixed} = Y - HLME(X)$  \n",
    "|    \n",
    "|$~~~~~Y_{pred} = ML(X) + HLME(X)$    \n",
    "|$~~~~~squared\\_residuals = (Y - Y_{pred})^2$  "
   ]
  },
  {
   "cell_type": "code",
   "execution_count": 1,
   "id": "52c30d85-a5a6-4717-aeb5-ac7b81310ff7",
   "metadata": {
    "editable": true,
    "slideshow": {
     "slide_type": "skip"
    },
    "tags": []
   },
   "outputs": [
    {
     "name": "stdout",
     "output_type": "stream",
     "text": [
      "/home/francois/Documents/SISTM/subSISTM/models/mixedML\n",
      "/home/francois/Documents/SISTM/subSISTM/models\n"
     ]
    }
   ],
   "source": [
    "from sys import path\n",
    "from pathlib import Path\n",
    "\n",
    "\n",
    "def add_path(p: str):\n",
    "    pth = Path(p).resolve().as_posix()\n",
    "    print(pth)\n",
    "    path.append(pth)\n",
    "\n",
    "\n",
    "add_path(\"../\")\n",
    "add_path(\"../../\")"
   ]
  },
  {
   "cell_type": "code",
   "execution_count": 2,
   "id": "b4c029c9-937f-444e-b9aa-f1339d5e8ba0",
   "metadata": {
    "editable": true,
    "slideshow": {
     "slide_type": "skip"
    },
    "tags": []
   },
   "outputs": [
    {
     "name": "stdout",
     "output_type": "stream",
     "text": [
      "Data folder: /home/francois/Documents/SISTM/subSISTM/data/synthetic_bph_1\n"
     ]
    },
    {
     "data": {
      "text/plain": [
       "0"
      ]
     },
     "execution_count": 2,
     "metadata": {},
     "output_type": "execute_result"
    }
   ],
   "source": [
    "import pickle\n",
    "import seaborn as sns\n",
    "from matplotlib.pyplot import subplots\n",
    "from pandas import DataFrame\n",
    "import pandas as pd\n",
    "from reservoirpy import verbosity\n",
    "from reservoirpy.nodes import Reservoir, Ridge\n",
    "from sklearn.metrics import mean_squared_error as mse, mean_absolute_error as mae\n",
    "from sklearn.neural_network import MLPRegressor\n",
    "from sklearn.preprocessing import RobustScaler\n",
    "\n",
    "from reservoirs_synthetic_bph.utils.reservoirs import ReservoirEnsemble\n",
    "from reservoirs_synthetic_bph.utils.data import get_dataframe, prepare_data\n",
    "from reservoirs_synthetic_bph.utils.global_config import N_WARMUPS\n",
    "from reservoirs_synthetic_bph.utils.post_processing import METRIC, VAL, TGT\n",
    "from mixed_ml import MixedMLEstimator\n",
    "\n",
    "pd.options.display.float_format = \"{:.3g}\".format\n",
    "verbosity(0)"
   ]
  },
  {
   "cell_type": "code",
   "execution_count": 3,
   "id": "7ce7cb80-7758-497a-b01f-59eb7294d152",
   "metadata": {
    "editable": true,
    "slideshow": {
     "slide_type": "skip"
    },
    "tags": []
   },
   "outputs": [],
   "source": [
    "X_LABELS = [\"x1\", \"x2\", \"x3\", \"x4\", \"x5\", \"x6\", \"x7\", \"x8\"]\n",
    "Y_LABEL = \"y_mixed_obs\"\n",
    "Y_LABELS_PRED = [\"y_mixed\", \"y_mixed_obs\"]\n",
    "SERIES = \"individus\"\n",
    "TSTEPS = \"temps\"\n",
    "\n",
    "\n",
    "data_train = get_dataframe(\n",
    "    \"../../../data/synthetic_bph_1/simulation1.csv\",\n",
    "    x_labels=X_LABELS,\n",
    "    y_labels=Y_LABELS_PRED,\n",
    ")\n",
    "data_test = get_dataframe(\n",
    "    \"../../../data/synthetic_bph_1/simulation2.csv\",\n",
    "    x_labels=X_LABELS,\n",
    "    y_labels=Y_LABELS_PRED,\n",
    ")"
   ]
  },
  {
   "cell_type": "markdown",
   "id": "a3d27ea7-8ca8-4f6e-99db-dacbf30b18a7",
   "metadata": {
    "editable": true,
    "slideshow": {
     "slide_type": "slide"
    },
    "tags": []
   },
   "source": [
    "## Building the model \n",
    "\n",
    "Standard models can be used:"
   ]
  },
  {
   "cell_type": "code",
   "execution_count": 4,
   "id": "36689d1f-01f5-4755-a4c7-2953c1eaeb0c",
   "metadata": {
    "editable": true,
    "slideshow": {
     "slide_type": "-"
    },
    "tags": []
   },
   "outputs": [],
   "source": [
    "code_mlp = \"MLP\"\n",
    "model_mlp = MLPRegressor((20, 10, 5), learning_rate=\"adaptive\", max_iter=1000)\n",
    "mixed_ml_mlp = MixedMLEstimator(model_mlp, recurrent_model=False, specific_dir=code_mlp)"
   ]
  },
  {
   "cell_type": "markdown",
   "id": "44aa8dc8-f033-4bd6-aaf1-bc18dc473a90",
   "metadata": {
    "editable": true,
    "slideshow": {
     "slide_type": "fragment"
    },
    "tags": []
   },
   "source": [
    "Also recurrent ones:"
   ]
  },
  {
   "cell_type": "code",
   "execution_count": 5,
   "id": "10eccf1c-643d-4709-a569-4a49eda8ff82",
   "metadata": {
    "editable": true,
    "slideshow": {
     "slide_type": "-"
    },
    "tags": []
   },
   "outputs": [],
   "source": [
    "code_rpy = \"Reservoir\"\n",
    "model_rpy = ReservoirEnsemble(\n",
    "    reservoir_kwargs={\"units\": 50}, ridge_kwargs={\"ridge\": 1e-1}\n",
    ")\n",
    "mixed_ml_rpy = MixedMLEstimator(model_rpy, recurrent_model=True, specific_dir=code_rpy)"
   ]
  },
  {
   "cell_type": "markdown",
   "id": "4db0ad9a-eed4-414c-af7b-74a686044d5b",
   "metadata": {
    "editable": true,
    "slideshow": {
     "slide_type": "slide"
    },
    "tags": []
   },
   "source": [
    "## Training  "
   ]
  },
  {
   "cell_type": "code",
   "execution_count": 6,
   "id": "35387bd7-2a5d-46ee-8a1f-e6949b5864c3",
   "metadata": {
    "editable": true,
    "slideshow": {
     "slide_type": "skip"
    },
    "tags": []
   },
   "outputs": [],
   "source": [
    "scaler_x = RobustScaler()\n",
    "scaler_y = RobustScaler()\n",
    "\n",
    "data_train_scaled = data_train[[SERIES, TSTEPS]].copy()\n",
    "data_train_scaled[X_LABELS] = scaler_x.fit_transform(data_train[X_LABELS])\n",
    "data_train_scaled[[Y_LABEL]] = scaler_y.fit_transform(data_train[[Y_LABEL]])\n",
    "\n",
    "data_test_scaled = data_test[[SERIES, TSTEPS]].copy()\n",
    "data_test_scaled[X_LABELS] = scaler_x.transform(data_test[X_LABELS])\n",
    "data_test_scaled[[Y_LABEL]] = scaler_y.transform(data_test[[Y_LABEL]])"
   ]
  },
  {
   "cell_type": "code",
   "execution_count": 7,
   "id": "c672c64a-90f3-43bb-b7fa-926cf93df74c",
   "metadata": {
    "editable": true,
    "slideshow": {
     "slide_type": "subslide"
    },
    "tags": []
   },
   "outputs": [],
   "source": [
    "pkl_mlp = code_mlp + \".pkl\"\n",
    "try:\n",
    "    mixed_ml_mlp = pickle.load(open(pkl_mlp, \"rb\"))\n",
    "except:\n",
    "    cvg_mlp = mixed_ml_mlp.fit(\n",
    "        data_train_scaled,\n",
    "        n_iter_improv=2,\n",
    "        min_rltv_imrov=0.01,\n",
    "        fixed_model_fit_options={},\n",
    "    )\n",
    "    pickle.dump(mixed_ml_mlp, open(pkl_mlp, \"wb\"))"
   ]
  },
  {
   "cell_type": "code",
   "execution_count": 8,
   "id": "7a48eef7-2f8e-4d63-831f-39638fad1723",
   "metadata": {
    "editable": true,
    "scrolled": true,
    "slideshow": {
     "slide_type": "subslide"
    },
    "tags": []
   },
   "outputs": [],
   "source": [
    "pkl_rpy = code_rpy + \".pkl\"\n",
    "try:\n",
    "    mixed_ml_rpy = pickle.load(open(pkl_rpy, \"rb\"))\n",
    "except:\n",
    "    mixed_ml_rpy.fit(\n",
    "        data_train_scaled,\n",
    "        n_iter_improv=2,\n",
    "        min_rltv_imrov=0.01,\n",
    "        fixed_model_fit_options={\"warmup\": N_WARMUPS},\n",
    "    )\n",
    "    pickle.dump(mixed_ml_rpy, open(pkl_rpy, \"wb\"))"
   ]
  },
  {
   "cell_type": "code",
   "execution_count": 9,
   "id": "43870350-faef-4e58-b705-f505216e4c64",
   "metadata": {
    "editable": true,
    "slideshow": {
     "slide_type": ""
    },
    "tags": []
   },
   "outputs": [
    {
     "data": {
      "text/plain": [
       "<Axes: xlabel='step', ylabel='metric'>"
      ]
     },
     "execution_count": 9,
     "metadata": {},
     "output_type": "execute_result"
    },
    {
     "data": {
      "image/png": "[encoded data removed]",
      "text/plain": [
       "<Figure size 640x480 with 1 Axes>"
      ]
     },
     "metadata": {},
     "output_type": "display_data"
    }
   ],
   "source": [
    "df_mlp = pd.read_csv(code_mlp + \"/convergence-log.csv\")\n",
    "df_mlp[\"Model\"] = code_mlp\n",
    "df_rpy = pd.read_csv(code_rpy + \"/convergence-log.csv\")\n",
    "df_rpy[\"Model\"] = code_rpy\n",
    "\n",
    "df_plot = pd.concat([df_mlp, df_rpy])\n",
    "sns.lineplot(df_plot, x=\"step\", y=\"metric\", hue=\"Model\")"
   ]
  },
  {
   "cell_type": "markdown",
   "id": "e09a1412",
   "metadata": {
    "editable": true,
    "slideshow": {
     "slide_type": "skip"
    },
    "tags": []
   },
   "source": [
    "## Predictions"
   ]
  },
  {
   "cell_type": "code",
   "execution_count": 10,
   "id": "5f9a7e77",
   "metadata": {
    "editable": true,
    "slideshow": {
     "slide_type": "skip"
    },
    "tags": []
   },
   "outputs": [],
   "source": [
    "def get_metrics(mixed_ml_mlp, mixed_ml_rpy, data, data_scaled, scaler_y):\n",
    "    lres = []\n",
    "    for name, model in {\"MLP\": mixed_ml_mlp, \"Reservoir\": mixed_ml_rpy}.items():\n",
    "        for subspec in [True, False]:\n",
    "            for tgt_name in Y_LABELS_PRED:\n",
    "                y_pred_scaled = model.predict(data_scaled, use_subject_specific=subspec)\n",
    "                y_pred_scaled = y_pred_scaled.reshape((len(y_pred_scaled), 1))\n",
    "                y_pred = scaler_y.inverse_transform(y_pred_scaled)\n",
    "\n",
    "                # we do not use the warmup: it's just an example notebook…\n",
    "                for met in [mae, mse]:\n",
    "                    lres.append(\n",
    "                        {\n",
    "                            \"model\": name,\n",
    "                            \"ss\": subspec,\n",
    "                            TGT: tgt_name,\n",
    "                            METRIC: met.__name__,\n",
    "                            VAL: met(data[tgt_name], y_pred),\n",
    "                        }\n",
    "                    )\n",
    "    return DataFrame(lres)"
   ]
  },
  {
   "cell_type": "markdown",
   "id": "45173457",
   "metadata": {
    "editable": true,
    "slideshow": {
     "slide_type": "slide"
    },
    "tags": []
   },
   "source": [
    "### Predictions on train set"
   ]
  },
  {
   "cell_type": "code",
   "execution_count": 11,
   "id": "bbf63b14",
   "metadata": {
    "editable": true,
    "slideshow": {
     "slide_type": "-"
    },
    "tags": []
   },
   "outputs": [],
   "source": [
    "metric_train = get_metrics(\n",
    "    mixed_ml_mlp, mixed_ml_rpy, data_train, data_train_scaled, scaler_y\n",
    ")"
   ]
  },
  {
   "cell_type": "code",
   "execution_count": 12,
   "id": "4386e5ce-7612-4d2a-ae92-41b2bdaf5696",
   "metadata": {},
   "outputs": [
    {
     "data": {
      "text/html": [
       "<div>\n",
       "<style scoped>\n",
       "    .dataframe tbody tr th:only-of-type {\n",
       "        vertical-align: middle;\n",
       "    }\n",
       "\n",
       "    .dataframe tbody tr th {\n",
       "        vertical-align: top;\n",
       "    }\n",
       "\n",
       "    .dataframe thead tr th {\n",
       "        text-align: left;\n",
       "    }\n",
       "\n",
       "    .dataframe thead tr:last-of-type th {\n",
       "        text-align: right;\n",
       "    }\n",
       "</style>\n",
       "<table border=\"1\" class=\"dataframe\">\n",
       "  <thead>\n",
       "    <tr>\n",
       "      <th></th>\n",
       "      <th></th>\n",
       "      <th colspan=\"4\" halign=\"left\">value</th>\n",
       "    </tr>\n",
       "    <tr>\n",
       "      <th></th>\n",
       "      <th>target</th>\n",
       "      <th colspan=\"2\" halign=\"left\">y_mixed</th>\n",
       "      <th colspan=\"2\" halign=\"left\">y_mixed_obs</th>\n",
       "    </tr>\n",
       "    <tr>\n",
       "      <th></th>\n",
       "      <th>ss</th>\n",
       "      <th>False</th>\n",
       "      <th>True</th>\n",
       "      <th>False</th>\n",
       "      <th>True</th>\n",
       "    </tr>\n",
       "    <tr>\n",
       "      <th>metric</th>\n",
       "      <th>model</th>\n",
       "      <th></th>\n",
       "      <th></th>\n",
       "      <th></th>\n",
       "      <th></th>\n",
       "    </tr>\n",
       "  </thead>\n",
       "  <tbody>\n",
       "    <tr>\n",
       "      <th rowspan=\"2\" valign=\"top\">mean_absolute_error</th>\n",
       "      <th>MLP</th>\n",
       "      <td>10.7</td>\n",
       "      <td>1.33</td>\n",
       "      <td>10.8</td>\n",
       "      <td>1.68</td>\n",
       "    </tr>\n",
       "    <tr>\n",
       "      <th>Reservoir</th>\n",
       "      <td>15.4</td>\n",
       "      <td>1.4</td>\n",
       "      <td>15.5</td>\n",
       "      <td>1.76</td>\n",
       "    </tr>\n",
       "    <tr>\n",
       "      <th rowspan=\"2\" valign=\"top\">mean_squared_error</th>\n",
       "      <th>MLP</th>\n",
       "      <td>250</td>\n",
       "      <td>13.7</td>\n",
       "      <td>251</td>\n",
       "      <td>14.7</td>\n",
       "    </tr>\n",
       "    <tr>\n",
       "      <th>Reservoir</th>\n",
       "      <td>513</td>\n",
       "      <td>18.3</td>\n",
       "      <td>514</td>\n",
       "      <td>19.3</td>\n",
       "    </tr>\n",
       "  </tbody>\n",
       "</table>\n",
       "</div>"
      ],
      "text/plain": [
       "                                value                        \n",
       "target                        y_mixed       y_mixed_obs      \n",
       "ss                              False True        False True \n",
       "metric              model                                    \n",
       "mean_absolute_error MLP          10.7  1.33        10.8  1.68\n",
       "                    Reservoir    15.4   1.4        15.5  1.76\n",
       "mean_squared_error  MLP           250  13.7         251  14.7\n",
       "                    Reservoir     513  18.3         514  19.3"
      ]
     },
     "execution_count": 12,
     "metadata": {},
     "output_type": "execute_result"
    }
   ],
   "source": [
    "metric_train.pivot(index=[METRIC, \"model\"], columns=[TGT, \"ss\"]).sort_index(\n",
    "    axis=1, level=0\n",
    ")"
   ]
  },
  {
   "cell_type": "markdown",
   "id": "d1595091-e059-40b4-a4cc-c34bec954b80",
   "metadata": {
    "editable": true,
    "slideshow": {
     "slide_type": "slide"
    },
    "tags": []
   },
   "source": [
    "### Predictions on test set"
   ]
  },
  {
   "cell_type": "code",
   "execution_count": 13,
   "id": "6ced1539-2299-4837-bbd5-3b6074dbe60b",
   "metadata": {
    "editable": true,
    "slideshow": {
     "slide_type": "-"
    },
    "tags": []
   },
   "outputs": [],
   "source": [
    "metric_test = get_metrics(\n",
    "    mixed_ml_mlp, mixed_ml_rpy, data_test, data_test_scaled, scaler_y\n",
    ")"
   ]
  },
  {
   "cell_type": "code",
   "execution_count": 14,
   "id": "e0c11805-978a-4bc5-8050-7c9fce6860dc",
   "metadata": {},
   "outputs": [
    {
     "data": {
      "text/html": [
       "<div>\n",
       "<style scoped>\n",
       "    .dataframe tbody tr th:only-of-type {\n",
       "        vertical-align: middle;\n",
       "    }\n",
       "\n",
       "    .dataframe tbody tr th {\n",
       "        vertical-align: top;\n",
       "    }\n",
       "\n",
       "    .dataframe thead tr th {\n",
       "        text-align: left;\n",
       "    }\n",
       "\n",
       "    .dataframe thead tr:last-of-type th {\n",
       "        text-align: right;\n",
       "    }\n",
       "</style>\n",
       "<table border=\"1\" class=\"dataframe\">\n",
       "  <thead>\n",
       "    <tr>\n",
       "      <th></th>\n",
       "      <th></th>\n",
       "      <th colspan=\"4\" halign=\"left\">value</th>\n",
       "    </tr>\n",
       "    <tr>\n",
       "      <th></th>\n",
       "      <th>target</th>\n",
       "      <th colspan=\"2\" halign=\"left\">y_mixed</th>\n",
       "      <th colspan=\"2\" halign=\"left\">y_mixed_obs</th>\n",
       "    </tr>\n",
       "    <tr>\n",
       "      <th></th>\n",
       "      <th>ss</th>\n",
       "      <th>False</th>\n",
       "      <th>True</th>\n",
       "      <th>False</th>\n",
       "      <th>True</th>\n",
       "    </tr>\n",
       "    <tr>\n",
       "      <th>metric</th>\n",
       "      <th>model</th>\n",
       "      <th></th>\n",
       "      <th></th>\n",
       "      <th></th>\n",
       "      <th></th>\n",
       "    </tr>\n",
       "  </thead>\n",
       "  <tbody>\n",
       "    <tr>\n",
       "      <th rowspan=\"2\" valign=\"top\">mean_absolute_error</th>\n",
       "      <th>MLP</th>\n",
       "      <td>12.8</td>\n",
       "      <td>1.37</td>\n",
       "      <td>12.8</td>\n",
       "      <td>1.73</td>\n",
       "    </tr>\n",
       "    <tr>\n",
       "      <th>Reservoir</th>\n",
       "      <td>15.5</td>\n",
       "      <td>1.39</td>\n",
       "      <td>15.5</td>\n",
       "      <td>1.76</td>\n",
       "    </tr>\n",
       "    <tr>\n",
       "      <th rowspan=\"2\" valign=\"top\">mean_squared_error</th>\n",
       "      <th>MLP</th>\n",
       "      <td>437</td>\n",
       "      <td>15.2</td>\n",
       "      <td>439</td>\n",
       "      <td>16.2</td>\n",
       "    </tr>\n",
       "    <tr>\n",
       "      <th>Reservoir</th>\n",
       "      <td>494</td>\n",
       "      <td>19</td>\n",
       "      <td>495</td>\n",
       "      <td>20.1</td>\n",
       "    </tr>\n",
       "  </tbody>\n",
       "</table>\n",
       "</div>"
      ],
      "text/plain": [
       "                                value                        \n",
       "target                        y_mixed       y_mixed_obs      \n",
       "ss                              False True        False True \n",
       "metric              model                                    \n",
       "mean_absolute_error MLP          12.8  1.37        12.8  1.73\n",
       "                    Reservoir    15.5  1.39        15.5  1.76\n",
       "mean_squared_error  MLP           437  15.2         439  16.2\n",
       "                    Reservoir     494    19         495  20.1"
      ]
     },
     "execution_count": 14,
     "metadata": {},
     "output_type": "execute_result"
    }
   ],
   "source": [
    "metric_test.pivot(index=[METRIC, \"model\"], columns=[TGT, \"ss\"]).sort_index(\n",
    "    axis=1, level=0\n",
    ")"
   ]
  },
  {
   "cell_type": "code",
   "execution_count": null,
   "id": "dd344c6a-d3db-41fc-a947-9185b69b301f",
   "metadata": {},
   "outputs": [],
   "source": []
  }
 ],
 "metadata": {
  "celltoolbar": "Diaporama",
  "kernelspec": {
   "display_name": "Python 3 (ipykernel)",
   "language": "python",
   "name": "python3"
  },
  "language_info": {
   "codemirror_mode": {
    "name": "ipython",
    "version": 3
   },
   "file_extension": ".py",
   "mimetype": "text/x-python",
   "name": "python",
   "nbconvert_exporter": "python",
   "pygments_lexer": "ipython3",
   "version": "3.9.20"
  },
  "toc": {
   "base_numbering": 1,
   "nav_menu": {},
   "number_sections": true,
   "sideBar": true,
   "skip_h1_title": false,
   "title_cell": "Table of Contents",
   "title_sidebar": "Contents",
   "toc_cell": false,
   "toc_position": {
    "height": "calc(100% - 180px)",
    "left": "10px",
    "top": "150px",
    "width": "317.5px"
   },
   "toc_section_display": true,
   "toc_window_display": true
  },
  "varInspector": {
   "cols": {
    "lenName": 16,
    "lenType": 16,
    "lenVar": 40
   },
   "kernels_config": {
    "python": {
     "delete_cmd_postfix": "",
     "delete_cmd_prefix": "del ",
     "library": "var_list.py",
     "varRefreshCmd": "print(var_dic_list())"
    },
    "r": {
     "delete_cmd_postfix": ") ",
     "delete_cmd_prefix": "rm(",
     "library": "var_list.r",
     "varRefreshCmd": "cat(var_dic_list()) "
    }
   },
   "types_to_exclude": [
    "module",
    "function",
    "builtin_function_or_method",
    "instance",
    "_Feature"
   ],
   "window_display": false
  }
 },
 "nbformat": 4,
 "nbformat_minor": 5
}
