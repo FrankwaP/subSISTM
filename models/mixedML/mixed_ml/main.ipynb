{
 "cells": [
  {
   "cell_type": "code",
   "execution_count": 33,
   "id": "09eef988-5a65-4f04-a108-f5c5102e4798",
   "metadata": {
    "slideshow": {
     "slide_type": "skip"
    },
    "tags": []
   },
   "outputs": [
    {
     "data": {
      "text/plain": [
       "0"
      ]
     },
     "execution_count": 33,
     "metadata": {},
     "output_type": "execute_result"
    }
   ],
   "source": [
    "from sys import path\n",
    "\n",
    "path.append('../')\n",
    "\n",
    "import seaborn as sns\n",
    "from pandas import DataFrame\n",
    "from reservoirpy import verbosity\n",
    "from reservoirpy.nodes import Reservoir, Ridge\n",
    "from sklearn.neural_network import MLPRegressor\n",
    "from sklearn.preprocessing import RobustScaler\n",
    "from sklearn.metrics import mean_squared_error as mse\n",
    "\n",
    "from mixed_ml import MixedMLEstimator\n",
    "from training_utils.data import get_dataframe\n",
    "\n",
    "verbosity(0)"
   ]
  },
  {
   "cell_type": "code",
   "execution_count": 2,
   "id": "7ce7cb80-7758-497a-b01f-59eb7294d152",
   "metadata": {
    "slideshow": {
     "slide_type": "skip"
    },
    "tags": []
   },
   "outputs": [],
   "source": [
    "data = get_dataframe(\"../../../data/synthetic_bph_1/01_test.csv\")\n",
    "SERIES = \"individus\"\n",
    "TSTEPS = \"temps\"\n",
    "#\n",
    "data_train = data[data[SERIES] > 10]\n",
    "data_test = data[data[SERIES] <= 10]"
   ]
  },
  {
   "cell_type": "markdown",
   "id": "a3d27ea7-8ca8-4f6e-99db-dacbf30b18a7",
   "metadata": {
    "slideshow": {
     "slide_type": "slide"
    },
    "tags": []
   },
   "source": [
    "# Building the model \n",
    "\n",
    "Standard and recurrent models can be used"
   ]
  },
  {
   "cell_type": "code",
   "execution_count": 5,
   "id": "36689d1f-01f5-4755-a4c7-2953c1eaeb0c",
   "metadata": {
    "slideshow": {
     "slide_type": "-"
    },
    "tags": []
   },
   "outputs": [],
   "source": [
    "model_mlp = MLPRegressor((20, 10, 5), learning_rate='adaptive', max_iter=1000)\n",
    "mixed_ml_mlp = MixedMLEstimator(model_mlp, recurrent_model=False)"
   ]
  },
  {
   "cell_type": "code",
   "execution_count": 6,
   "id": "4a75e9b1-2188-4c53-a452-f2e2ce4a2244",
   "metadata": {
    "slideshow": {
     "slide_type": "-"
    },
    "tags": []
   },
   "outputs": [],
   "source": [
    "model_rpy = Reservoir(units=50) >> Ridge(ridge=1e-3)\n",
    "mixed_ml_rpy = MixedMLEstimator(model_rpy, recurrent_model=True)"
   ]
  },
  {
   "cell_type": "markdown",
   "id": "4db0ad9a-eed4-414c-af7b-74a686044d5b",
   "metadata": {
    "slideshow": {
     "slide_type": "slide"
    },
    "tags": []
   },
   "source": [
    "# Training with simple features\n",
    "\n",
    "x2_x5, x4_x7, x6_x8"
   ]
  },
  {
   "cell_type": "code",
   "execution_count": 24,
   "id": "35387bd7-2a5d-46ee-8a1f-e6949b5864c3",
   "metadata": {
    "slideshow": {
     "slide_type": "skip"
    },
    "tags": []
   },
   "outputs": [],
   "source": [
    "X_LABELS = [\"x2_x5\", \"x4_x7\", \"x6_x8\"]\n",
    "Y_LABEL = \"y_mixed_obs\"\n",
    "\n",
    "scaler_x = RobustScaler()\n",
    "scaler_y = RobustScaler()\n",
    "\n",
    "data_train_scaled = data_train[[SERIES, TSTEPS]].copy()\n",
    "data_train_scaled[X_LABELS] = scaler_x.fit_transform(data_train[X_LABELS])\n",
    "data_train_scaled[[Y_LABEL]] = scaler_y.fit_transform(data_train[[Y_LABEL]])\n",
    "\n",
    "data_test_scaled = data_test[[SERIES, TSTEPS]].copy()\n",
    "data_test_scaled[X_LABELS] = scaler_x.transform(data_test[X_LABELS])\n",
    "data_test_scaled[[Y_LABEL]] = scaler_y.transform(data_test[[Y_LABEL]])"
   ]
  },
  {
   "cell_type": "code",
   "execution_count": 8,
   "id": "7d4e8d06-5652-4406-988e-998dbaf25030",
   "metadata": {
    "slideshow": {
     "slide_type": "slide"
    },
    "tags": []
   },
   "outputs": [
    {
     "name": "stdout",
     "output_type": "stream",
     "text": [
      "mixedML step #00: 9.058011e-03 (best)\n",
      "mixedML step #01: 4.199837e-03 (best)\n",
      "mixedML step #02: 3.906342e-03 (best)\n",
      "mixedML step #03: 3.688554e-03 (best)\n",
      "mixedML step #04: 3.439914e-03 (best)\n",
      "mixedML step #05: 3.370344e-03 (best)\n",
      "mixedML step #06: 3.311937e-03 (best)\n",
      "mixedML step #07: 3.228411e-03 (best)\n",
      "mixedML step #08: 3.201296e-03\n",
      "mixedML step #09: 3.125338e-03 (best)\n",
      "mixedML step #10: 3.136412e-03\n",
      "mixedML step #11: 3.119323e-03\n",
      "mixedML step #12: 3.130021e-03\n"
     ]
    }
   ],
   "source": [
    "results_mlp = mixed_ml_mlp.fit(data_train_scaled,\n",
    "                               n_iter_improve=2,\n",
    "                               min_ratio_improve=0.01)"
   ]
  },
  {
   "cell_type": "code",
   "execution_count": 9,
   "id": "7a48eef7-2f8e-4d63-831f-39638fad1723",
   "metadata": {
    "slideshow": {
     "slide_type": "slide"
    },
    "tags": []
   },
   "outputs": [
    {
     "name": "stdout",
     "output_type": "stream",
     "text": [
      "mixedML step #00: 3.856667e-02 (best)\n",
      "mixedML step #01: 2.431489e-02 (best)\n",
      "mixedML step #02: 2.082206e-02 (best)\n",
      "mixedML step #03: 1.802455e-02 (best)\n",
      "mixedML step #04: 1.548234e-02 (best)\n",
      "mixedML step #05: 1.364929e-02 (best)\n",
      "mixedML step #06: 1.204762e-02 (best)\n",
      "mixedML step #07: 1.112955e-02 (best)\n",
      "mixedML step #08: 9.379251e-03 (best)\n",
      "mixedML step #09: 8.718412e-03 (best)\n",
      "mixedML step #10: 7.883601e-03 (best)\n",
      "mixedML step #11: 7.141046e-03 (best)\n",
      "mixedML step #12: 6.805222e-03 (best)\n",
      "mixedML step #13: 6.388104e-03 (best)\n",
      "mixedML step #14: 5.889669e-03 (best)\n",
      "mixedML step #15: 5.430323e-03 (best)\n",
      "mixedML step #16: 5.150747e-03 (best)\n",
      "mixedML step #17: 4.826424e-03 (best)\n",
      "mixedML step #18: 4.602032e-03 (best)\n",
      "mixedML step #19: 4.320031e-03 (best)\n",
      "mixedML step #20: 4.205952e-03 (best)\n",
      "mixedML step #21: 4.018232e-03 (best)\n",
      "mixedML step #22: 3.760560e-03 (best)\n",
      "mixedML step #23: 3.705017e-03 (best)\n",
      "mixedML step #24: 3.648288e-03 (best)\n",
      "mixedML step #25: 3.495521e-03 (best)\n",
      "mixedML step #26: 3.415753e-03 (best)\n",
      "mixedML step #27: 3.365253e-03 (best)\n",
      "mixedML step #28: 3.315801e-03 (best)\n",
      "mixedML step #29: 3.236305e-03 (best)\n",
      "mixedML step #30: 3.208295e-03\n",
      "mixedML step #31: 3.179910e-03 (best)\n",
      "mixedML step #32: 3.130158e-03 (best)\n",
      "mixedML step #33: 3.112818e-03\n",
      "mixedML step #34: 3.091935e-03 (best)\n",
      "mixedML step #35: 3.076048e-03\n",
      "mixedML step #36: 3.059596e-03 (best)\n",
      "mixedML step #37: 3.026291e-03 (best)\n",
      "mixedML step #38: 3.011120e-03\n",
      "mixedML step #39: 3.009839e-03\n",
      "mixedML step #40: 3.003334e-03\n"
     ]
    }
   ],
   "source": [
    "results_rpy = mixed_ml_rpy.fit(data_train_scaled,\n",
    "                               n_iter_improve=2,\n",
    "                               min_ratio_improve=0.01,\n",
    "                               fixed_model_options={'warmup': 5})"
   ]
  },
  {
   "cell_type": "code",
   "execution_count": 17,
   "id": "53b9a29d-f284-464e-8d2c-ae63b4f2cf5c",
   "metadata": {
    "slideshow": {
     "slide_type": "slide"
    }
   },
   "outputs": [
    {
     "data": {
      "text/plain": [
       "Text(0, 0.5, 'Model residuals (on scaled values)')"
      ]
     },
     "execution_count": 17,
     "metadata": {},
     "output_type": "execute_result"
    },
    {
     "data": {
      "image/png": "[encoded data removed]",
      "text/plain": [
       "<Figure size 640x480 with 1 Axes>"
      ]
     },
     "metadata": {},
     "output_type": "display_data"
    }
   ],
   "source": [
    "from matplotlib.pyplot import subplots\n",
    "fig, ax = subplots()\n",
    "\n",
    "\n",
    "ax.plot(results_mlp, label='MLP')\n",
    "ax.plot(results_rpy, label='Reservoir')\n",
    "ax.legend(loc='center right', fontsize='x-large')\n",
    "ax.set_yscale('log')\n",
    "ax.set_title('Convergence')\n",
    "ax.set_xlabel('Iterations')\n",
    "ax.set_ylabel('Model residuals (on scaled values)')\n"
   ]
  },
  {
   "cell_type": "markdown",
   "id": "45173457",
   "metadata": {
    "slideshow": {
     "slide_type": "slide"
    }
   },
   "source": [
    "# Predictions"
   ]
  },
  {
   "cell_type": "code",
   "execution_count": 34,
   "id": "bbf63b14",
   "metadata": {
    "slideshow": {
     "slide_type": "-"
    }
   },
   "outputs": [
    {
     "data": {
      "text/html": [
       "<div>\n",
       "<style scoped>\n",
       "    .dataframe tbody tr th:only-of-type {\n",
       "        vertical-align: middle;\n",
       "    }\n",
       "\n",
       "    .dataframe tbody tr th {\n",
       "        vertical-align: top;\n",
       "    }\n",
       "\n",
       "    .dataframe thead th {\n",
       "        text-align: right;\n",
       "    }\n",
       "</style>\n",
       "<table border=\"1\" class=\"dataframe\">\n",
       "  <thead>\n",
       "    <tr style=\"text-align: right;\">\n",
       "      <th></th>\n",
       "      <th>model</th>\n",
       "      <th>ss</th>\n",
       "      <th>mse</th>\n",
       "    </tr>\n",
       "  </thead>\n",
       "  <tbody>\n",
       "    <tr>\n",
       "      <th>0</th>\n",
       "      <td>MLP</td>\n",
       "      <td>True</td>\n",
       "      <td>1.094151</td>\n",
       "    </tr>\n",
       "    <tr>\n",
       "      <th>1</th>\n",
       "      <td>MLP</td>\n",
       "      <td>False</td>\n",
       "      <td>55.188202</td>\n",
       "    </tr>\n",
       "    <tr>\n",
       "      <th>2</th>\n",
       "      <td>Reservoir</td>\n",
       "      <td>True</td>\n",
       "      <td>1.023389</td>\n",
       "    </tr>\n",
       "    <tr>\n",
       "      <th>3</th>\n",
       "      <td>Reservoir</td>\n",
       "      <td>False</td>\n",
       "      <td>186.467921</td>\n",
       "    </tr>\n",
       "  </tbody>\n",
       "</table>\n",
       "</div>"
      ],
      "text/plain": [
       "       model     ss         mse\n",
       "0        MLP   True    1.094151\n",
       "1        MLP  False   55.188202\n",
       "2  Reservoir   True    1.023389\n",
       "3  Reservoir  False  186.467921"
      ]
     },
     "execution_count": 34,
     "metadata": {},
     "output_type": "execute_result"
    }
   ],
   "source": [
    "lres = []\n",
    "for name, model in {'MLP': mixed_ml_mlp, 'Reservoir': mixed_ml_rpy}.items():\n",
    "    for subspec in [True, False]:\n",
    "        y_pred_scaled = model.predict(data_test_scaled,\n",
    "                                      use_subject_specific=subspec)\n",
    "        y_pred_scaled = y_pred_scaled.reshape((len(y_pred_scaled), 1))\n",
    "        y_pred = scaler_y.inverse_transform(y_pred_scaled)\n",
    "        lres.append({\"model\": name, \"ss\": subspec, \"mse\": mse(data_test[Y_LABEL], y_pred)})\n",
    "        \n",
    "dfres = DataFrame(lres)\n",
    "dfres"
   ]
  }
 ],
 "metadata": {
  "celltoolbar": "Diaporama",
  "kernelspec": {
   "display_name": "Python 3 (ipykernel)",
   "language": "python",
   "name": "python3"
  },
  "language_info": {
   "codemirror_mode": {
    "name": "ipython",
    "version": 3
   },
   "file_extension": ".py",
   "mimetype": "text/x-python",
   "name": "python",
   "nbconvert_exporter": "python",
   "pygments_lexer": "ipython3",
   "version": "3.9.20"
  },
  "toc": {
   "base_numbering": 1,
   "nav_menu": {},
   "number_sections": true,
   "sideBar": true,
   "skip_h1_title": false,
   "title_cell": "Table of Contents",
   "title_sidebar": "Contents",
   "toc_cell": false,
   "toc_position": {},
   "toc_section_display": true,
   "toc_window_display": true
  },
  "varInspector": {
   "cols": {
    "lenName": 16,
    "lenType": 16,
    "lenVar": 40
   },
   "kernels_config": {
    "python": {
     "delete_cmd_postfix": "",
     "delete_cmd_prefix": "del ",
     "library": "var_list.py",
     "varRefreshCmd": "print(var_dic_list())"
    },
    "r": {
     "delete_cmd_postfix": ") ",
     "delete_cmd_prefix": "rm(",
     "library": "var_list.r",
     "varRefreshCmd": "cat(var_dic_list()) "
    }
   },
   "types_to_exclude": [
    "module",
    "function",
    "builtin_function_or_method",
    "instance",
    "_Feature"
   ],
   "window_display": false
  }
 },
 "nbformat": 4,
 "nbformat_minor": 5
}
