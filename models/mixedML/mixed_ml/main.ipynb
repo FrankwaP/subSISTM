{
 "cells": [
  {
   "cell_type": "markdown",
   "id": "f609aa88-f2e7-45fb-b1be-51e6e09fde63",
   "metadata": {
    "editable": true,
    "slideshow": {
     "slide_type": "slide"
    },
    "tags": []
   },
   "source": [
    "# MixedML on Python"
   ]
  },
  {
   "cell_type": "markdown",
   "id": "ebf8fdbd-6162-4d79-9ad9-bb0db1978834",
   "metadata": {
    "editable": true,
    "slideshow": {
     "slide_type": "slide"
    },
    "tags": []
   },
   "source": [
    "Linear Mixed Effect: $$Y_{ij} = \\beta_0 + \\beta_i X_{ij} + b_{0j} + b_{ij} X_{ij} + \\epsilon_{i}$$ \n",
    "=> MixedML: $$Y_{ij} = ML(X_{ij}) + b_{0j} + b_{ij} X_{ij} + \\epsilon_{i}$$\n",
    "\n",
    "\n",
    "with ML: any type of Machine Learning model\n"
   ]
  },
  {
   "cell_type": "markdown",
   "id": "3e9cfaff-acc5-479d-82b9-6199d1365b48",
   "metadata": {
    "editable": true,
    "slideshow": {
     "slide_type": "subslide"
    },
    "tags": []
   },
   "source": [
    "LCMM is used for the (pure) random effect model:\n",
    "\n",
    "\n",
    "```R\n",
    "random_hlme <- hlme(\n",
    "  e_fixed ~ 1,\n",
    "  random = ~  1 + x1 + x2 + x3 + x4 + x5 + x6 + x7 + x8,\n",
    "  idiag = TRUE,\n",
    "  data = data,\n",
    "  subject = 'individus',\n",
    "  var.time = 'temps'\n",
    ")\n",
    "```"
   ]
  },
  {
   "cell_type": "markdown",
   "id": "14f24cd3-f854-4f19-b0a7-3c59e21ba670",
   "metadata": {
    "editable": true,
    "slideshow": {
     "slide_type": "subslide"
    },
    "tags": []
   },
   "source": [
    "Algorithm initialization:  $Y_{fixed} = Y$  \n",
    "\n",
    "Until convergence of $squared\\_residuals$:  \n",
    "|  \n",
    "|$~~~~~ML.fit(X, Y_{fixed})$  \n",
    "|$~~~~~Y_{rand} = Y - ML(X)$  \n",
    "|  \n",
    "|$~~~~~HLME.fit(X, Y_{rand})$  \n",
    "|$~~~~~Y_{fixed} = Y - HLME(X)$  \n",
    "|    \n",
    "|$~~~~~Y_{pred} = ML(X) + HLME(X)$    \n",
    "|$~~~~~squared\\_residuals = (Y - Y_{pred})^2$  "
   ]
  },
  {
   "cell_type": "code",
   "execution_count": 1,
   "id": "52c30d85-a5a6-4717-aeb5-ac7b81310ff7",
   "metadata": {
    "editable": true,
    "slideshow": {
     "slide_type": "skip"
    },
    "tags": []
   },
   "outputs": [
    {
     "name": "stdout",
     "output_type": "stream",
     "text": [
      "/home/francois/Documents/SISTM/subSISTM/models/mixedML\n",
      "/home/francois/Documents/SISTM/subSISTM/models\n"
     ]
    }
   ],
   "source": [
    "from sys import path\n",
    "from pathlib import Path\n",
    "\n",
    "\n",
    "def add_path(p: str):\n",
    "    pth = Path(p).resolve().as_posix()\n",
    "    print(pth)\n",
    "    path.append(pth)\n",
    "\n",
    "\n",
    "add_path(\"../\")\n",
    "add_path(\"../../\")"
   ]
  },
  {
   "cell_type": "code",
   "execution_count": 2,
   "id": "b4c029c9-937f-444e-b9aa-f1339d5e8ba0",
   "metadata": {
    "editable": true,
    "slideshow": {
     "slide_type": "skip"
    },
    "tags": []
   },
   "outputs": [
    {
     "data": {
      "text/plain": [
       "0"
      ]
     },
     "execution_count": 2,
     "metadata": {},
     "output_type": "execute_result"
    }
   ],
   "source": [
    "import pickle\n",
    "import seaborn as sns\n",
    "from matplotlib.pyplot import subplots\n",
    "from pandas import DataFrame\n",
    "import pandas as pd\n",
    "from reservoirpy import verbosity\n",
    "from reservoirpy.nodes import Reservoir, Ridge\n",
    "from sklearn.metrics import mean_squared_error as mse, mean_absolute_error as mae\n",
    "from sklearn.neural_network import MLPRegressor\n",
    "from sklearn.preprocessing import RobustScaler\n",
    "\n",
    "\n",
    "from reservoirs_synthetic_bph.utils.reservoirs import ReservoirEnsemble\n",
    "from reservoirs_synthetic_bph.utils.data import get_dataframe\n",
    "from reservoirs_synthetic_bph.utils.global_config import N_WARMUPS\n",
    "from mixed_ml import MixedMLEstimator\n",
    "\n",
    "pd.options.display.float_format = \"{:.3g}\".format\n",
    "verbosity(0)"
   ]
  },
  {
   "cell_type": "code",
   "execution_count": 3,
   "id": "7ce7cb80-7758-497a-b01f-59eb7294d152",
   "metadata": {
    "editable": true,
    "slideshow": {
     "slide_type": "skip"
    },
    "tags": []
   },
   "outputs": [],
   "source": [
    "data = get_dataframe(\"../../../data/synthetic_bph_1/01_test.csv\")\n",
    "SERIES = \"individus\"\n",
    "TSTEPS = \"temps\"\n",
    "#\n",
    "data_train = data[data[SERIES] > 10]\n",
    "data_test = data[data[SERIES] <= 10]"
   ]
  },
  {
   "cell_type": "markdown",
   "id": "a3d27ea7-8ca8-4f6e-99db-dacbf30b18a7",
   "metadata": {
    "editable": true,
    "slideshow": {
     "slide_type": "slide"
    },
    "tags": []
   },
   "source": [
    "## Building the model \n",
    "\n",
    "Standard models can be used:"
   ]
  },
  {
   "cell_type": "code",
   "execution_count": 4,
   "id": "36689d1f-01f5-4755-a4c7-2953c1eaeb0c",
   "metadata": {
    "editable": true,
    "slideshow": {
     "slide_type": ""
    },
    "tags": []
   },
   "outputs": [],
   "source": [
    "model_mlp = MLPRegressor((20, 10, 5), learning_rate=\"adaptive\", max_iter=1000)\n",
    "mixed_ml_mlp = MixedMLEstimator(model_mlp, recurrent_model=False)"
   ]
  },
  {
   "cell_type": "markdown",
   "id": "44aa8dc8-f033-4bd6-aaf1-bc18dc473a90",
   "metadata": {
    "editable": true,
    "slideshow": {
     "slide_type": "fragment"
    },
    "tags": []
   },
   "source": [
    "Also recurrent ones:"
   ]
  },
  {
   "cell_type": "code",
   "execution_count": 5,
   "id": "10eccf1c-643d-4709-a569-4a49eda8ff82",
   "metadata": {
    "editable": true,
    "slideshow": {
     "slide_type": ""
    },
    "tags": []
   },
   "outputs": [],
   "source": [
    "model_rpy = ReservoirEnsemble(\n",
    "    reservoir_kwargs={\"units\": 50}, ridge_kwargs={\"ridge\": 1e-1}\n",
    ")\n",
    "mixed_ml_rpy = MixedMLEstimator(model_rpy, recurrent_model=True)"
   ]
  },
  {
   "cell_type": "markdown",
   "id": "4db0ad9a-eed4-414c-af7b-74a686044d5b",
   "metadata": {
    "editable": true,
    "slideshow": {
     "slide_type": "slide"
    },
    "tags": []
   },
   "source": [
    "## Training  \n",
    "with all the features: $x_1,…, x_8$"
   ]
  },
  {
   "cell_type": "code",
   "execution_count": 6,
   "id": "35387bd7-2a5d-46ee-8a1f-e6949b5864c3",
   "metadata": {
    "editable": true,
    "slideshow": {
     "slide_type": "skip"
    },
    "tags": []
   },
   "outputs": [],
   "source": [
    "X_LABELS = [\"x1\", \"x2\", \"x3\", \"x4\", \"x5\", \"x6\", \"x7\", \"x8\"]\n",
    "Y_LABEL = \"y_mixed_obs\"\n",
    "Y_LABELS_PRED = [\"y_mixed\", \"y_mixed_obs\"]\n",
    "\n",
    "scaler_x = RobustScaler()\n",
    "scaler_y = RobustScaler()\n",
    "\n",
    "data_train_scaled = data_train[[SERIES, TSTEPS]].copy()\n",
    "data_train_scaled[X_LABELS] = scaler_x.fit_transform(data_train[X_LABELS])\n",
    "data_train_scaled[[Y_LABEL]] = scaler_y.fit_transform(data_train[[Y_LABEL]])\n",
    "\n",
    "data_test_scaled = data_test[[SERIES, TSTEPS]].copy()\n",
    "data_test_scaled[X_LABELS] = scaler_x.transform(data_test[X_LABELS])\n",
    "data_test_scaled[[Y_LABEL]] = scaler_y.transform(data_test[[Y_LABEL]])"
   ]
  },
  {
   "cell_type": "code",
   "execution_count": 7,
   "id": "c672c64a-90f3-43bb-b7fa-926cf93df74c",
   "metadata": {
    "editable": true,
    "scrolled": true,
    "slideshow": {
     "slide_type": "subslide"
    },
    "tags": []
   },
   "outputs": [],
   "source": [
    "try:\n",
    "    cvg_mlp = pickle.load(open(\"cvc_mlp\", \"rb\"))\n",
    "    mixed_ml_mlp = pickle.load(open(\"mixed_ml_mlp\", \"rb\"))\n",
    "except:\n",
    "    cvg_mlp = mixed_ml_mlp.fit(data_train_scaled, n_iter_improve=2, min_rltv_imprv=0.01)\n",
    "    pickle.dump(cvg_mlp, open(\"cvc_mlp\", \"wb\"))\n",
    "    pickle.dump(mixed_ml_mlp, open(\"mixed_ml_mlp\", \"wb\"))"
   ]
  },
  {
   "cell_type": "code",
   "execution_count": null,
   "id": "7a48eef7-2f8e-4d63-831f-39638fad1723",
   "metadata": {
    "editable": true,
    "slideshow": {
     "slide_type": "subslide"
    },
    "tags": []
   },
   "outputs": [
    {
     "name": "stdout",
     "output_type": "stream",
     "text": [
      "mixedML step #00: 1.081790e-02 (best)\n"
     ]
    }
   ],
   "source": [
    "try:\n",
    "    cvg_rpy = pickle.load(\"cvg_rpy\", open(\"cvg_rpy\", \"rb\"))\n",
    "    mixed_ml_rpy = pickle.load(\"mixed_ml_rpy\", open(\"mixed_ml_rpy\", \"rb\"))\n",
    "except:\n",
    "    cvg_rpy = mixed_ml_rpy.fit(\n",
    "        data_train_scaled,\n",
    "        n_iter_improve=2,\n",
    "        min_rltv_imprv=0.01,\n",
    "        fixed_model_options={\"warmup\": N_WARMUPS},\n",
    "    )\n",
    "    pickle.dump(cvg_rpy, open(\"cvg_rpy\", \"wb\"))\n",
    "    pickle.dump(mixed_ml_rpy, open(\"mixed_ml_rpy\", \"wb\"))"
   ]
  },
  {
   "cell_type": "code",
   "execution_count": null,
   "id": "32a009f8-7304-4593-9d7c-c5daa1103b96",
   "metadata": {
    "editable": true,
    "slideshow": {
     "slide_type": "skip"
    },
    "tags": []
   },
   "outputs": [],
   "source": [
    "def plot_convergence(cvg_mlp, cvg_rpy):\n",
    "    fig, ax = subplots()\n",
    "    ax.plot(cvg_mlp, label=\"MLP\")\n",
    "    ax.plot(cvg_rpy, label=\"Reservoir\")\n",
    "    ax.legend(loc=\"center right\", fontsize=\"x-large\")\n",
    "    ax.set_yscale(\"log\")\n",
    "    ax.set_title(\"Convergence\")\n",
    "    ax.set_xlabel(\"Iterations\")\n",
    "    ax.set_ylabel(\"Model residuals (on scaled values)\")\n",
    "    _ = 0"
   ]
  },
  {
   "cell_type": "code",
   "execution_count": null,
   "id": "53b9a29d-f284-464e-8d2c-ae63b4f2cf5c",
   "metadata": {
    "editable": true,
    "slideshow": {
     "slide_type": "slide"
    },
    "tags": []
   },
   "outputs": [],
   "source": [
    "plot_convergence(cvg_mlp, cvg_rpy)"
   ]
  },
  {
   "cell_type": "markdown",
   "id": "45173457",
   "metadata": {
    "editable": true,
    "slideshow": {
     "slide_type": "slide"
    },
    "tags": []
   },
   "source": [
    "## Predictions on train set"
   ]
  },
  {
   "cell_type": "code",
   "execution_count": null,
   "id": "94342e50-9b30-4bff-b0a6-f02899097e34",
   "metadata": {
    "editable": true,
    "slideshow": {
     "slide_type": "skip"
    },
    "tags": []
   },
   "outputs": [],
   "source": [
    "def get_predictions(mixed_ml_mlp, mixed_ml_rpy):\n",
    "    lres = []\n",
    "    for name, model in {\"MLP\": mixed_ml_mlp, \"Reservoir\": mixed_ml_rpy}.items():\n",
    "        for subspec in [True, False]:\n",
    "            for tgt_name in Y_LABELS_PRED:\n",
    "                y_pred_scaled = model.predict(\n",
    "                    data_train_scaled, use_subject_specific=subspec\n",
    "                )\n",
    "                y_pred_scaled = y_pred_scaled.reshape((len(y_pred_scaled), 1))\n",
    "                y_pred = scaler_y.inverse_transform(y_pred_scaled)\n",
    "                lres.append(\n",
    "                    {\n",
    "                        \"model\": name,\n",
    "                        \"ss\": subspec,\n",
    "                        \"tgt_name\": tgt_name,\n",
    "                        \"mae\": mae(\n",
    "                            remove_warmup_1D(data_train[tgt_name], N_WARMUPS),\n",
    "                            remove_warmup_1D(y_pred, N_WARMUPS),\n",
    "                        ),\n",
    "                        \"mse\": mse(\n",
    "                            remove_warmup_1D(data_train[tgt_name], N_WARMUPS),\n",
    "                            remove_warmup_1D(y_pred, N_WARMUPS),\n",
    "                        ),\n",
    "                    }\n",
    "                )\n",
    "    return DataFrame(lres)"
   ]
  },
  {
   "cell_type": "code",
   "execution_count": null,
   "id": "bbf63b14",
   "metadata": {
    "editable": true,
    "slideshow": {
     "slide_type": ""
    },
    "tags": []
   },
   "outputs": [],
   "source": [
    "get_predictions(mixed_ml_mlp, mixed_ml_rpy)"
   ]
  },
  {
   "cell_type": "markdown",
   "id": "d1595091-e059-40b4-a4cc-c34bec954b80",
   "metadata": {
    "editable": true,
    "slideshow": {
     "slide_type": "slide"
    },
    "tags": []
   },
   "source": [
    "## Predictions on test set"
   ]
  },
  {
   "cell_type": "code",
   "execution_count": null,
   "id": "bb0bf1ac-95ca-4d1c-83e9-36c11c1d5371",
   "metadata": {
    "editable": true,
    "slideshow": {
     "slide_type": "skip"
    },
    "tags": []
   },
   "outputs": [],
   "source": [
    "def get_predictions_mse(mixed_ml_mlp, mixed_ml_rpy):\n",
    "    lres = []\n",
    "    for name, model in {\"MLP\": mixed_ml_mlp, \"Reservoir\": mixed_ml_rpy}.items():\n",
    "        for subspec in [True, False]:\n",
    "            for tgt_name in Y_LABELS_PRED:\n",
    "                y_pred_scaled = model.predict(\n",
    "                    data_test_scaled, use_subject_specific=subspec\n",
    "                )\n",
    "                y_pred_scaled = y_pred_scaled.reshape((len(y_pred_scaled), 1))\n",
    "                y_pred = scaler_y.inverse_transform(y_pred_scaled)\n",
    "                lres.append(\n",
    "                    {\n",
    "                        \"model\": name,\n",
    "                        \"ss\": subspec,\n",
    "                        \"tgt_name\": tgt_name,\n",
    "                        \"mse\": mse(\n",
    "                            remove_warmup_1D(data_test[tgt_name], N_WARMUPS),\n",
    "                            remove_warmup_1D(y_pred, N_WARMUPS),\n",
    "                        ),\n",
    "                        \"mse\": mse(\n",
    "                            remove_warmup_1D(data_test[tgt_name], N_WARMUPS),\n",
    "                            remove_warmup_1D(y_pred, N_WARMUPS),\n",
    "                        ),\n",
    "                    }\n",
    "                )\n",
    "    return DataFrame(lres)"
   ]
  },
  {
   "cell_type": "code",
   "execution_count": null,
   "id": "6ced1539-2299-4837-bbd5-3b6074dbe60b",
   "metadata": {
    "editable": true,
    "slideshow": {
     "slide_type": ""
    },
    "tags": []
   },
   "outputs": [],
   "source": [
    "get_predictions(mixed_ml_mlp, mixed_ml_rpy)"
   ]
  },
  {
   "cell_type": "code",
   "execution_count": null,
   "id": "d03af8e3-89df-4604-a865-b7d6302b5207",
   "metadata": {
    "editable": true,
    "slideshow": {
     "slide_type": "skip"
    },
    "tags": []
   },
   "outputs": [],
   "source": []
  }
 ],
 "metadata": {
  "celltoolbar": "Diaporama",
  "kernelspec": {
   "display_name": "Python 3 (ipykernel)",
   "language": "python",
   "name": "python3"
  },
  "language_info": {
   "codemirror_mode": {
    "name": "ipython",
    "version": 3
   },
   "file_extension": ".py",
   "mimetype": "text/x-python",
   "name": "python",
   "nbconvert_exporter": "python",
   "pygments_lexer": "ipython3",
   "version": "3.9.20"
  },
  "toc": {
   "base_numbering": 1,
   "nav_menu": {},
   "number_sections": true,
   "sideBar": true,
   "skip_h1_title": false,
   "title_cell": "Table of Contents",
   "title_sidebar": "Contents",
   "toc_cell": false,
   "toc_position": {},
   "toc_section_display": true,
   "toc_window_display": true
  },
  "varInspector": {
   "cols": {
    "lenName": 16,
    "lenType": 16,
    "lenVar": 40
   },
   "kernels_config": {
    "python": {
     "delete_cmd_postfix": "",
     "delete_cmd_prefix": "del ",
     "library": "var_list.py",
     "varRefreshCmd": "print(var_dic_list())"
    },
    "r": {
     "delete_cmd_postfix": ") ",
     "delete_cmd_prefix": "rm(",
     "library": "var_list.r",
     "varRefreshCmd": "cat(var_dic_list()) "
    }
   },
   "types_to_exclude": [
    "module",
    "function",
    "builtin_function_or_method",
    "instance",
    "_Feature"
   ],
   "window_display": false
  }
 },
 "nbformat": 4,
 "nbformat_minor": 5
}
