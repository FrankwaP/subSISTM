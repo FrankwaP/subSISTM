{
 "cells": [
  {
   "cell_type": "markdown",
   "id": "f609aa88-f2e7-45fb-b1be-51e6e09fde63",
   "metadata": {
    "slideshow": {
     "slide_type": "slide"
    },
    "tags": []
   },
   "source": [
    "# MixedML on Python"
   ]
  },
  {
   "cell_type": "markdown",
   "id": "ebf8fdbd-6162-4d79-9ad9-bb0db1978834",
   "metadata": {
    "slideshow": {
     "slide_type": "slide"
    },
    "tags": []
   },
   "source": [
    "Linear Mixed Effect: $$Y_{ij} = \\beta_0 + \\beta_i X_{ij} + b_{0j} + b_{ij} X_{ij} + \\epsilon_{i}$$ \n",
    "=> MixedML: $$Y_{ij} = ML(X_{ij}) + b_{0j} + b_{ij} X_{ij} + \\epsilon_{i}$$\n",
    "\n",
    "\n",
    "with ML: any type of Machine Learning model\n"
   ]
  },
  {
   "cell_type": "markdown",
   "id": "3e9cfaff-acc5-479d-82b9-6199d1365b48",
   "metadata": {
    "slideshow": {
     "slide_type": "subslide"
    },
    "tags": []
   },
   "source": [
    "LCMM is used for the (pure) random effect model:\n",
    "\n",
    "\n",
    "```R\n",
    "random_hlme <- hlme(\n",
    "  e_fixed ~ 1,\n",
    "  random = ~  1 + x1 + x2 + x3 + x4 + x5 + x6 + x7 + x8,\n",
    "  idiag = TRUE,\n",
    "  data = data,\n",
    "  subject = 'individus',\n",
    "  var.time = 'temps'\n",
    ")\n",
    "```"
   ]
  },
  {
   "cell_type": "markdown",
   "id": "14f24cd3-f854-4f19-b0a7-3c59e21ba670",
   "metadata": {
    "slideshow": {
     "slide_type": "subslide"
    },
    "tags": []
   },
   "source": [
    "Algorithm initialization:  $Y_{fixed} = Y$  \n",
    "\n",
    "Until convergence of $squared\\_residuals$:  \n",
    "|  \n",
    "|$~~~~~ML.fit(X, Y_{fixed})$  \n",
    "|$~~~~~Y_{rand} = Y - ML(X)$  \n",
    "|  \n",
    "|$~~~~~HLME.fit(X, Y_{rand})$  \n",
    "|$~~~~~Y_{fixed} = Y - HLME(X)$  \n",
    "|    \n",
    "|$~~~~~Y_{pred} = ML(X) + HLME(X)$    \n",
    "|$~~~~~squared\\_residuals = (Y - Y_{pred})^2$  "
   ]
  },
  {
   "cell_type": "code",
   "execution_count": 1,
   "id": "52c30d85-a5a6-4717-aeb5-ac7b81310ff7",
   "metadata": {
    "slideshow": {
     "slide_type": "skip"
    },
    "tags": []
   },
   "outputs": [
    {
     "name": "stdout",
     "output_type": "stream",
     "text": [
      "/home/francois/Documents/SISTM/subSISTM/models/mixedML\n",
      "/home/francois/Documents/SISTM/subSISTM/models\n"
     ]
    }
   ],
   "source": [
    "from sys import path\n",
    "from pathlib import Path\n",
    "\n",
    "\n",
    "def add_path(p: str):\n",
    "    pth = Path(p).resolve().as_posix()\n",
    "    print(pth)\n",
    "    path.append(pth)\n",
    "\n",
    "\n",
    "add_path(\"../\")\n",
    "add_path(\"../../\")"
   ]
  },
  {
   "cell_type": "code",
   "execution_count": 2,
   "id": "b4c029c9-937f-444e-b9aa-f1339d5e8ba0",
   "metadata": {
    "slideshow": {
     "slide_type": "skip"
    },
    "tags": []
   },
   "outputs": [
    {
     "name": "stdout",
     "output_type": "stream",
     "text": [
      "Added to sys.path: /home/francois/Documents/SISTM/subSISTM/models\n"
     ]
    },
    {
     "data": {
      "text/plain": [
       "0"
      ]
     },
     "execution_count": 2,
     "metadata": {},
     "output_type": "execute_result"
    }
   ],
   "source": [
    "import pickle\n",
    "import seaborn as sns\n",
    "from matplotlib.pyplot import subplots\n",
    "from pandas import DataFrame\n",
    "import pandas as pd\n",
    "from reservoirpy import verbosity\n",
    "from reservoirpy.nodes import Reservoir, Ridge\n",
    "from sklearn.metrics import mean_squared_error as mse, mean_absolute_error as mae\n",
    "from sklearn.neural_network import MLPRegressor\n",
    "from sklearn.preprocessing import RobustScaler\n",
    "\n",
    "from reservoirs_synthetic_bph.utils.reservoirs import ReservoirEnsemble\n",
    "from reservoirs_synthetic_bph.utils.data import get_dataframe, prepare_data\n",
    "from reservoirs_synthetic_bph.utils.global_config import N_WARMUPS\n",
    "from mixed_ml import MixedMLEstimator\n",
    "\n",
    "pd.options.display.float_format = \"{:.3g}\".format\n",
    "verbosity(0)"
   ]
  },
  {
   "cell_type": "code",
   "execution_count": 3,
   "id": "7ce7cb80-7758-497a-b01f-59eb7294d152",
   "metadata": {
    "slideshow": {
     "slide_type": "skip"
    },
    "tags": []
   },
   "outputs": [],
   "source": [
    "data = get_dataframe(\"../../../data/synthetic_bph_1/01_test.csv\")\n",
    "SERIES = \"individus\"\n",
    "TSTEPS = \"temps\"\n",
    "#\n",
    "data_train = data[data[SERIES] > 10]\n",
    "data_test = data[data[SERIES] <= 10]"
   ]
  },
  {
   "cell_type": "markdown",
   "id": "a3d27ea7-8ca8-4f6e-99db-dacbf30b18a7",
   "metadata": {
    "slideshow": {
     "slide_type": "slide"
    },
    "tags": []
   },
   "source": [
    "## Building the model \n",
    "\n",
    "Standard models can be used:"
   ]
  },
  {
   "cell_type": "code",
   "execution_count": 4,
   "id": "36689d1f-01f5-4755-a4c7-2953c1eaeb0c",
   "metadata": {
    "slideshow": {
     "slide_type": "-"
    },
    "tags": []
   },
   "outputs": [],
   "source": [
    "model_mlp = MLPRegressor((20, 10, 5), learning_rate=\"adaptive\", max_iter=1000)\n",
    "mixed_ml_mlp = MixedMLEstimator(model_mlp, recurrent_model=False)"
   ]
  },
  {
   "cell_type": "markdown",
   "id": "44aa8dc8-f033-4bd6-aaf1-bc18dc473a90",
   "metadata": {
    "slideshow": {
     "slide_type": "fragment"
    },
    "tags": []
   },
   "source": [
    "Also recurrent ones:"
   ]
  },
  {
   "cell_type": "code",
   "execution_count": 5,
   "id": "10eccf1c-643d-4709-a569-4a49eda8ff82",
   "metadata": {
    "slideshow": {
     "slide_type": "-"
    },
    "tags": []
   },
   "outputs": [],
   "source": [
    "model_rpy = ReservoirEnsemble(reservoir_kwargs={\"units\": 50},\n",
    "                              ridge_kwargs={\"ridge\": 1e-1})\n",
    "mixed_ml_rpy = MixedMLEstimator(model_rpy, recurrent_model=True)"
   ]
  },
  {
   "cell_type": "markdown",
   "id": "4db0ad9a-eed4-414c-af7b-74a686044d5b",
   "metadata": {
    "slideshow": {
     "slide_type": "slide"
    },
    "tags": []
   },
   "source": [
    "## Training  \n",
    "with all the features: $x_1,…, x_8$"
   ]
  },
  {
   "cell_type": "code",
   "execution_count": 6,
   "id": "35387bd7-2a5d-46ee-8a1f-e6949b5864c3",
   "metadata": {
    "slideshow": {
     "slide_type": "skip"
    },
    "tags": []
   },
   "outputs": [],
   "source": [
    "X_LABELS = [\"x1\", \"x2\", \"x3\", \"x4\", \"x5\", \"x6\", \"x7\", \"x8\"]\n",
    "Y_LABEL = \"y_mixed_obs\"\n",
    "Y_LABELS_PRED = [\"y_mixed\", \"y_mixed_obs\"]\n",
    "\n",
    "scaler_x = RobustScaler()\n",
    "scaler_y = RobustScaler()\n",
    "\n",
    "data_train_scaled = data_train[[SERIES, TSTEPS]].copy()\n",
    "data_train_scaled[X_LABELS] = scaler_x.fit_transform(data_train[X_LABELS])\n",
    "data_train_scaled[[Y_LABEL]] = scaler_y.fit_transform(data_train[[Y_LABEL]])\n",
    "\n",
    "data_test_scaled = data_test[[SERIES, TSTEPS]].copy()\n",
    "data_test_scaled[X_LABELS] = scaler_x.transform(data_test[X_LABELS])\n",
    "data_test_scaled[[Y_LABEL]] = scaler_y.transform(data_test[[Y_LABEL]])"
   ]
  },
  {
   "cell_type": "code",
   "execution_count": 7,
   "id": "c672c64a-90f3-43bb-b7fa-926cf93df74c",
   "metadata": {
    "scrolled": true,
    "slideshow": {
     "slide_type": "subslide"
    },
    "tags": []
   },
   "outputs": [],
   "source": [
    "try:\n",
    "    cvg_mlp = pickle.load(open(\"cvc_mlp\", \"rb\"))\n",
    "    mixed_ml_mlp = pickle.load(open(\"mixed_ml_mlp\", \"rb\"))\n",
    "except:\n",
    "    cvg_mlp = mixed_ml_mlp.fit(data_train_scaled,\n",
    "                               n_iter_improve=2,\n",
    "                               min_rltv_imprv=0.01)\n",
    "    pickle.dump(cvg_mlp, open(\"cvc_mlp\", \"wb\"))\n",
    "    pickle.dump(mixed_ml_mlp, open(\"mixed_ml_mlp\", \"wb\"))"
   ]
  },
  {
   "cell_type": "code",
   "execution_count": 9,
   "id": "7a48eef7-2f8e-4d63-831f-39638fad1723",
   "metadata": {
    "slideshow": {
     "slide_type": "subslide"
    },
    "tags": []
   },
   "outputs": [
    {
     "name": "stdout",
     "output_type": "stream",
     "text": [
      "mixedML step #00: 1.081790e-02 (best)\n",
      "mixedML step #01: 6.208017e-03 (best)\n",
      "mixedML step #02: 4.693796e-03 (best)\n",
      "mixedML step #03: 3.928645e-03 (best)\n",
      "mixedML step #04: 3.584968e-03 (best)\n",
      "mixedML step #05: 3.341264e-03 (best)\n",
      "mixedML step #06: 3.214180e-03 (best)\n",
      "mixedML step #07: 3.143727e-03 (best)\n",
      "mixedML step #08: 3.069330e-03 (best)\n",
      "mixedML step #09: 3.022843e-03 (best)\n",
      "mixedML step #10: 3.008287e-03\n",
      "mixedML step #11: 2.983743e-03 (best)\n",
      "mixedML step #12: 2.954094e-03\n",
      "mixedML step #13: 2.948712e-03 (best)\n",
      "mixedML step #14: 2.927903e-03\n",
      "mixedML step #15: 2.920320e-03\n",
      "mixedML step #16: 2.908436e-03 (best)\n",
      "mixedML step #17: 2.898737e-03\n",
      "mixedML step #18: 2.891869e-03\n",
      "mixedML step #19: 2.886043e-03\n"
     ]
    }
   ],
   "source": [
    "try:\n",
    "    cvg_rpy = pickle.load(\"cvg_rpy\", open(\"cvg_rpy\", \"rb\"))\n",
    "    mixed_ml_rpy = pickle.load(\"mixed_ml_rpy\", open(\"mixed_ml_rpy\", \"rb\"))\n",
    "except:\n",
    "    cvg_rpy = mixed_ml_rpy.fit(\n",
    "        data_train_scaled,\n",
    "        n_iter_improve=2,\n",
    "        min_rltv_imprv=0.01,\n",
    "        warmup=N_WARMUPS,\n",
    "    )\n",
    "    pickle.dump(cvg_rpy, open(\"cvg_rpy\", \"wb\"))\n",
    "    pickle.dump(mixed_ml_rpy, open(\"mixed_ml_rpy\", \"wb\"))"
   ]
  },
  {
   "cell_type": "code",
   "execution_count": 10,
   "id": "32a009f8-7304-4593-9d7c-c5daa1103b96",
   "metadata": {
    "slideshow": {
     "slide_type": "skip"
    },
    "tags": []
   },
   "outputs": [],
   "source": [
    "def plot_convergence(cvg_mlp, cvg_rpy):\n",
    "    fig, ax = subplots()\n",
    "    ax.plot(cvg_mlp, label=\"MLP\")\n",
    "    ax.plot(cvg_rpy, label=\"Reservoir\")\n",
    "    ax.legend(loc=\"center right\", fontsize=\"x-large\")\n",
    "    ax.set_yscale(\"log\")\n",
    "    ax.set_title(\"Convergence\")\n",
    "    ax.set_xlabel(\"Iterations\")\n",
    "    ax.set_ylabel(\"Model residuals (on scaled values)\")\n",
    "    _ = 0"
   ]
  },
  {
   "cell_type": "code",
   "execution_count": 11,
   "id": "53b9a29d-f284-464e-8d2c-ae63b4f2cf5c",
   "metadata": {
    "slideshow": {
     "slide_type": "slide"
    },
    "tags": []
   },
   "outputs": [
    {
     "data": {
      "image/png": "[encoded data removed]",
      "text/plain": [
       "<Figure size 640x480 with 1 Axes>"
      ]
     },
     "metadata": {},
     "output_type": "display_data"
    }
   ],
   "source": [
    "plot_convergence(cvg_mlp, cvg_rpy)"
   ]
  },
  {
   "cell_type": "markdown",
   "id": "e09a1412",
   "metadata": {
    "slideshow": {
     "slide_type": "skip"
    }
   },
   "source": [
    "## Predictions"
   ]
  },
  {
   "cell_type": "code",
   "execution_count": 14,
   "id": "5f9a7e77",
   "metadata": {
    "slideshow": {
     "slide_type": "skip"
    }
   },
   "outputs": [],
   "source": [
    "def get_metrics(mixed_ml_mlp, mixed_ml_rpy, data, data_scaled):\n",
    "    lres = []\n",
    "    for name, model in {\n",
    "            \"MLP\": mixed_ml_mlp,\n",
    "            \"Reservoir\": mixed_ml_rpy\n",
    "    }.items():\n",
    "        for subspec in [True, False]:\n",
    "            for tgt_name in Y_LABELS_PRED:\n",
    "                y_pred_scaled = model.predict(data_scaled,\n",
    "                                              use_subject_specific=subspec)\n",
    "                y_pred_scaled = y_pred_scaled.reshape((len(y_pred_scaled), 1))\n",
    "                y_pred = scaler_y.inverse_transform(y_pred_scaled)\n",
    "\n",
    "                y_tgt_wup = remove_warmup_1D(data[tgt_name], N_WARMUPS)\n",
    "                y_pred_wup = remove_warmup_1D(y_pred, N_WARMUPS)\n",
    "                lres.append({\n",
    "                    \"model\": name,\n",
    "                    \"ss\": subspec,\n",
    "                    \"tgt_name\": tgt_name,\n",
    "                    \"mae\": mae(y_tgt_wup, y_pred_wup),\n",
    "                    \"mse\": mse(y_tgt_wup, y_pred_wup),\n",
    "                })\n",
    "    return DataFrame(lres)"
   ]
  },
  {
   "cell_type": "markdown",
   "id": "45173457",
   "metadata": {
    "slideshow": {
     "slide_type": "slide"
    },
    "tags": []
   },
   "source": [
    "### Predictions on train set"
   ]
  },
  {
   "cell_type": "code",
   "execution_count": 15,
   "id": "bbf63b14",
   "metadata": {
    "slideshow": {
     "slide_type": "-"
    },
    "tags": []
   },
   "outputs": [
    {
     "ename": "NameError",
     "evalue": "name 'remove_warmup_1D' is not defined",
     "output_type": "error",
     "traceback": [
      "\u001b[0;31m---------------------------------------------------------------------------\u001b[0m",
      "\u001b[0;31mNameError\u001b[0m                                 Traceback (most recent call last)",
      "Cell \u001b[0;32mIn[15], line 1\u001b[0m\n\u001b[0;32m----> 1\u001b[0m \u001b[43mget_metrics\u001b[49m\u001b[43m(\u001b[49m\u001b[43mmixed_ml_mlp\u001b[49m\u001b[43m,\u001b[49m\u001b[43m \u001b[49m\u001b[43mmixed_ml_rpy\u001b[49m\u001b[43m,\u001b[49m\u001b[43m \u001b[49m\u001b[43mdata_train\u001b[49m\u001b[43m,\u001b[49m\u001b[43m \u001b[49m\u001b[43mdata_train_scaled\u001b[49m\u001b[43m)\u001b[49m\n",
      "Cell \u001b[0;32mIn[14], line 14\u001b[0m, in \u001b[0;36mget_metrics\u001b[0;34m(mixed_ml_mlp, mixed_ml_rpy, data, data_scaled)\u001b[0m\n\u001b[1;32m     11\u001b[0m y_pred_scaled \u001b[38;5;241m=\u001b[39m y_pred_scaled\u001b[38;5;241m.\u001b[39mreshape((\u001b[38;5;28mlen\u001b[39m(y_pred_scaled), \u001b[38;5;241m1\u001b[39m))\n\u001b[1;32m     12\u001b[0m y_pred \u001b[38;5;241m=\u001b[39m scaler_y\u001b[38;5;241m.\u001b[39minverse_transform(y_pred_scaled)\n\u001b[0;32m---> 14\u001b[0m y_tgt_wup \u001b[38;5;241m=\u001b[39m \u001b[43mremove_warmup_1D\u001b[49m(data[tgt_name], N_WARMUPS)\n\u001b[1;32m     15\u001b[0m y_pred_wup \u001b[38;5;241m=\u001b[39m remove_warmup_1D(y_pred, N_WARMUPS)\n\u001b[1;32m     16\u001b[0m lres\u001b[38;5;241m.\u001b[39mappend({\n\u001b[1;32m     17\u001b[0m     \u001b[38;5;124m\"\u001b[39m\u001b[38;5;124mmodel\u001b[39m\u001b[38;5;124m\"\u001b[39m: name,\n\u001b[1;32m     18\u001b[0m     \u001b[38;5;124m\"\u001b[39m\u001b[38;5;124mss\u001b[39m\u001b[38;5;124m\"\u001b[39m: subspec,\n\u001b[0;32m   (...)\u001b[0m\n\u001b[1;32m     21\u001b[0m     \u001b[38;5;124m\"\u001b[39m\u001b[38;5;124mmse\u001b[39m\u001b[38;5;124m\"\u001b[39m: mse(y_tgt_wup, y_pred_wup),\n\u001b[1;32m     22\u001b[0m })\n",
      "\u001b[0;31mNameError\u001b[0m: name 'remove_warmup_1D' is not defined"
     ]
    }
   ],
   "source": [
    "get_metrics(mixed_ml_mlp, mixed_ml_rpy, data_train, data_train_scaled)"
   ]
  },
  {
   "cell_type": "markdown",
   "id": "d1595091-e059-40b4-a4cc-c34bec954b80",
   "metadata": {
    "slideshow": {
     "slide_type": "slide"
    },
    "tags": []
   },
   "source": [
    "### Predictions on test set"
   ]
  },
  {
   "cell_type": "code",
   "execution_count": null,
   "id": "6ced1539-2299-4837-bbd5-3b6074dbe60b",
   "metadata": {
    "slideshow": {
     "slide_type": "-"
    },
    "tags": []
   },
   "outputs": [],
   "source": [
    "get_metrics(mixed_ml_mlp, mixed_ml_rpy, data_test, data_test_scaled)"
   ]
  },
  {
   "cell_type": "code",
   "execution_count": null,
   "id": "d03af8e3-89df-4604-a865-b7d6302b5207",
   "metadata": {
    "slideshow": {
     "slide_type": "skip"
    },
    "tags": []
   },
   "outputs": [],
   "source": []
  }
 ],
 "metadata": {
  "celltoolbar": "Diaporama",
  "kernelspec": {
   "display_name": "Python 3 (ipykernel)",
   "language": "python",
   "name": "python3"
  },
  "language_info": {
   "codemirror_mode": {
    "name": "ipython",
    "version": 3
   },
   "file_extension": ".py",
   "mimetype": "text/x-python",
   "name": "python",
   "nbconvert_exporter": "python",
   "pygments_lexer": "ipython3",
   "version": "3.9.20"
  },
  "toc": {
   "base_numbering": 1,
   "nav_menu": {},
   "number_sections": true,
   "sideBar": true,
   "skip_h1_title": false,
   "title_cell": "Table of Contents",
   "title_sidebar": "Contents",
   "toc_cell": false,
   "toc_position": {
    "height": "calc(100% - 180px)",
    "left": "10px",
    "top": "150px",
    "width": "317.5px"
   },
   "toc_section_display": true,
   "toc_window_display": true
  },
  "varInspector": {
   "cols": {
    "lenName": 16,
    "lenType": 16,
    "lenVar": 40
   },
   "kernels_config": {
    "python": {
     "delete_cmd_postfix": "",
     "delete_cmd_prefix": "del ",
     "library": "var_list.py",
     "varRefreshCmd": "print(var_dic_list())"
    },
    "r": {
     "delete_cmd_postfix": ") ",
     "delete_cmd_prefix": "rm(",
     "library": "var_list.r",
     "varRefreshCmd": "cat(var_dic_list()) "
    }
   },
   "types_to_exclude": [
    "module",
    "function",
    "builtin_function_or_method",
    "instance",
    "_Feature"
   ],
   "window_display": false
  }
 },
 "nbformat": 4,
 "nbformat_minor": 5
}
