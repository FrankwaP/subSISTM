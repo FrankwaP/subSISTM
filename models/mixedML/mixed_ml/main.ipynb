{
 "cells": [
  {
   "cell_type": "markdown",
   "id": "f609aa88-f2e7-45fb-b1be-51e6e09fde63",
   "metadata": {
    "editable": true,
    "slideshow": {
     "slide_type": "slide"
    },
    "tags": []
   },
   "source": [
    "# MixedML on Python"
   ]
  },
  {
   "cell_type": "code",
   "execution_count": 1,
   "id": "09eef988-5a65-4f04-a108-f5c5102e4798",
   "metadata": {
    "editable": true,
    "slideshow": {
     "slide_type": "skip"
    },
    "tags": []
   },
   "outputs": [
    {
     "data": {
      "text/plain": [
       "0"
      ]
     },
     "execution_count": 1,
     "metadata": {},
     "output_type": "execute_result"
    }
   ],
   "source": [
    "from sys import path\n",
    "\n",
    "path.append(\"../\")\n",
    "\n",
    "import seaborn as sns\n",
    "from matplotlib.pyplot import subplots\n",
    "from pandas import DataFrame\n",
    "import pandas as pd\n",
    "from reservoirpy import verbosity\n",
    "from reservoirpy.nodes import Reservoir, Ridge\n",
    "from sklearn.metrics import mean_squared_error as mse\n",
    "from sklearn.neural_network import MLPRegressor\n",
    "from sklearn.preprocessing import RobustScaler\n",
    "\n",
    "\n",
    "from training_utils.data import get_dataframe, remove_warmup_1D\n",
    "from training_utils.global_config import N_WARMUPS\n",
    "from mixed_ml import MixedMLEstimator\n",
    "\n",
    "pd.options.display.float_format = \"{:.3e}\".format\n",
    "verbosity(0)"
   ]
  },
  {
   "cell_type": "code",
   "execution_count": 2,
   "id": "7ce7cb80-7758-497a-b01f-59eb7294d152",
   "metadata": {
    "editable": true,
    "slideshow": {
     "slide_type": "skip"
    },
    "tags": []
   },
   "outputs": [],
   "source": [
    "data = get_dataframe(\"../../../data/synthetic_bph_1/01_test.csv\")\n",
    "SERIES = \"individus\"\n",
    "TSTEPS = \"temps\"\n",
    "#\n",
    "data_train = data[data[SERIES] > 10]\n",
    "data_test = data[data[SERIES] <= 10]"
   ]
  },
  {
   "cell_type": "markdown",
   "id": "a3d27ea7-8ca8-4f6e-99db-dacbf30b18a7",
   "metadata": {
    "editable": true,
    "slideshow": {
     "slide_type": "slide"
    },
    "tags": []
   },
   "source": [
    "## Building the model \n",
    "\n",
    "Standard models can be used:"
   ]
  },
  {
   "cell_type": "code",
   "execution_count": 3,
   "id": "36689d1f-01f5-4755-a4c7-2953c1eaeb0c",
   "metadata": {
    "editable": true,
    "slideshow": {
     "slide_type": ""
    },
    "tags": []
   },
   "outputs": [],
   "source": [
    "model_mlp = MLPRegressor((20, 10, 5), learning_rate=\"adaptive\", max_iter=1000)\n",
    "mixed_ml_mlp = MixedMLEstimator(model_mlp, recurrent_model=False)"
   ]
  },
  {
   "cell_type": "markdown",
   "id": "44aa8dc8-f033-4bd6-aaf1-bc18dc473a90",
   "metadata": {
    "editable": true,
    "slideshow": {
     "slide_type": "fragment"
    },
    "tags": []
   },
   "source": [
    "Also recurrent ones:"
   ]
  },
  {
   "cell_type": "code",
   "execution_count": 4,
   "id": "10eccf1c-643d-4709-a569-4a49eda8ff82",
   "metadata": {
    "editable": true,
    "slideshow": {
     "slide_type": ""
    },
    "tags": []
   },
   "outputs": [],
   "source": [
    "model_rpy = Reservoir(units=50) >> Ridge(ridge=1e-1)\n",
    "mixed_ml_rpy = MixedMLEstimator(model_rpy, recurrent_model=True)"
   ]
  },
  {
   "cell_type": "markdown",
   "id": "4db0ad9a-eed4-414c-af7b-74a686044d5b",
   "metadata": {
    "editable": true,
    "slideshow": {
     "slide_type": "slide"
    },
    "tags": []
   },
   "source": [
    "## Training  \n",
    "with simple features: x2_x5, x4_x7, x6_x8"
   ]
  },
  {
   "cell_type": "code",
   "execution_count": 5,
   "id": "35387bd7-2a5d-46ee-8a1f-e6949b5864c3",
   "metadata": {
    "editable": true,
    "slideshow": {
     "slide_type": "skip"
    },
    "tags": []
   },
   "outputs": [],
   "source": [
    "X_LABELS = [\"x1\", \"x2\", \"x3\", \"x4\", \"x5\", \"x6\", \"x7\", \"x8\"]\n",
    "Y_LABEL = \"y_mixed_obs\"\n",
    "Y_LABELS_PRED = [\"y_mixed\", \"y_mixed_obs\"]\n",
    "\n",
    "scaler_x = RobustScaler()\n",
    "scaler_y = RobustScaler()\n",
    "\n",
    "data_train_scaled = data_train[[SERIES, TSTEPS]].copy()\n",
    "data_train_scaled[X_LABELS] = scaler_x.fit_transform(data_train[X_LABELS])\n",
    "data_train_scaled[[Y_LABEL]] = scaler_y.fit_transform(data_train[[Y_LABEL]])\n",
    "\n",
    "data_test_scaled = data_test[[SERIES, TSTEPS]].copy()\n",
    "data_test_scaled[X_LABELS] = scaler_x.transform(data_test[X_LABELS])\n",
    "data_test_scaled[[Y_LABEL]] = scaler_y.transform(data_test[[Y_LABEL]])"
   ]
  },
  {
   "cell_type": "code",
   "execution_count": 6,
   "id": "7d4e8d06-5652-4406-988e-998dbaf25030",
   "metadata": {
    "editable": true,
    "scrolled": true,
    "slideshow": {
     "slide_type": "subslide"
    },
    "tags": []
   },
   "outputs": [
    {
     "name": "stdout",
     "output_type": "stream",
     "text": [
      "mixedML step #00: 1.046574e-02 (best)\n",
      "mixedML step #01: 1.085644e-02\n",
      "mixedML step #02: 5.937083e-03 (best)\n",
      "mixedML step #03: 5.572427e-03 (best)\n",
      "mixedML step #04: 4.669442e-03 (best)\n",
      "mixedML step #05: 4.272981e-03 (best)\n",
      "mixedML step #06: 3.926353e-03 (best)\n",
      "mixedML step #07: 3.714102e-03 (best)\n",
      "mixedML step #08: 3.903811e-03\n",
      "mixedML step #09: 3.889078e-03\n",
      "mixedML step #10: 3.622999e-03 (best)\n",
      "mixedML step #11: 3.404651e-03 (best)\n",
      "mixedML step #12: 3.662323e-03\n",
      "mixedML step #13: 3.300808e-03 (best)\n",
      "mixedML step #14: 3.308557e-03\n",
      "mixedML step #15: 3.141638e-03 (best)\n",
      "mixedML step #16: 3.364063e-03\n",
      "mixedML step #17: 3.368094e-03\n",
      "mixedML step #18: 3.269270e-03\n"
     ]
    }
   ],
   "source": [
    "results_mlp = mixed_ml_mlp.fit(\n",
    "    data_train_scaled, n_iter_improve=2, min_ratio_improve=0.01\n",
    ")"
   ]
  },
  {
   "cell_type": "code",
   "execution_count": 7,
   "id": "7a48eef7-2f8e-4d63-831f-39638fad1723",
   "metadata": {
    "editable": true,
    "slideshow": {
     "slide_type": "subslide"
    },
    "tags": []
   },
   "outputs": [
    {
     "name": "stdout",
     "output_type": "stream",
     "text": [
      "mixedML step #00: 3.846197e-02 (best)\n",
      "mixedML step #01: 2.374416e-02 (best)\n",
      "mixedML step #02: 1.865859e-02 (best)\n",
      "mixedML step #03: 1.550584e-02 (best)\n",
      "mixedML step #04: 1.323419e-02 (best)\n",
      "mixedML step #05: 1.150551e-02 (best)\n",
      "mixedML step #06: 1.015272e-02 (best)\n",
      "mixedML step #07: 9.074655e-03 (best)\n",
      "mixedML step #08: 8.203555e-03 (best)\n",
      "mixedML step #09: 7.491478e-03 (best)\n",
      "mixedML step #10: 6.903392e-03 (best)\n",
      "mixedML step #11: 6.413147e-03 (best)\n",
      "mixedML step #12: 6.000929e-03 (best)\n",
      "mixedML step #13: 5.651537e-03 (best)\n",
      "mixedML step #14: 5.353189e-03 (best)\n",
      "mixedML step #15: 5.096668e-03 (best)\n",
      "mixedML step #16: 4.874702e-03 (best)\n",
      "mixedML step #17: 4.681503e-03 (best)\n",
      "mixedML step #18: 4.512430e-03 (best)\n",
      "mixedML step #19: 4.363732e-03 (best)\n",
      "mixedML step #20: 4.232354e-03 (best)\n",
      "mixedML step #21: 4.115791e-03 (best)\n",
      "mixedML step #22: 4.011974e-03 (best)\n",
      "mixedML step #23: 3.919183e-03 (best)\n",
      "mixedML step #24: 3.835977e-03 (best)\n",
      "mixedML step #25: 3.761145e-03 (best)\n",
      "mixedML step #26: 3.693659e-03 (best)\n",
      "mixedML step #27: 3.632642e-03 (best)\n",
      "mixedML step #28: 3.577346e-03 (best)\n",
      "mixedML step #29: 3.527124e-03 (best)\n",
      "mixedML step #30: 3.481418e-03 (best)\n",
      "mixedML step #31: 3.439743e-03 (best)\n",
      "mixedML step #32: 3.401675e-03 (best)\n",
      "mixedML step #33: 3.366844e-03 (best)\n",
      "mixedML step #34: 3.334923e-03\n",
      "mixedML step #35: 3.305626e-03 (best)\n",
      "mixedML step #36: 3.278696e-03\n",
      "mixedML step #37: 3.253910e-03 (best)\n",
      "mixedML step #38: 3.231066e-03\n",
      "mixedML step #39: 3.209985e-03 (best)\n",
      "mixedML step #40: 3.190506e-03\n",
      "mixedML step #41: 3.172487e-03 (best)\n",
      "mixedML step #42: 3.155797e-03\n",
      "mixedML step #43: 3.140322e-03 (best)\n",
      "mixedML step #44: 3.125957e-03\n",
      "mixedML step #45: 3.112607e-03\n",
      "mixedML step #46: 3.100187e-03 (best)\n",
      "mixedML step #47: 3.088620e-03\n",
      "mixedML step #48: 3.077835e-03\n",
      "mixedML step #49: 3.067770e-03 (best)\n",
      "mixedML step #50: 3.058365e-03\n",
      "mixedML step #51: 3.049570e-03\n",
      "mixedML step #52: 3.041335e-03\n"
     ]
    }
   ],
   "source": [
    "results_rpy = mixed_ml_rpy.fit(\n",
    "    data_train_scaled,\n",
    "    n_iter_improve=2,\n",
    "    min_ratio_improve=0.01,\n",
    "    fixed_model_options={\"warmup\": N_WARMUPS},\n",
    ")"
   ]
  },
  {
   "cell_type": "code",
   "execution_count": 8,
   "id": "32a009f8-7304-4593-9d7c-c5daa1103b96",
   "metadata": {
    "editable": true,
    "slideshow": {
     "slide_type": "skip"
    },
    "tags": []
   },
   "outputs": [],
   "source": [
    "def plot_convergence(results_mlp, results_rpy):\n",
    "    fig, ax = subplots()\n",
    "    ax.plot(results_mlp, label=\"MLP\")\n",
    "    ax.plot(results_rpy, label=\"Reservoir\")\n",
    "    ax.legend(loc=\"center right\", fontsize=\"x-large\")\n",
    "    ax.set_yscale(\"log\")\n",
    "    ax.set_title(\"Convergence\")\n",
    "    ax.set_xlabel(\"Iterations\")\n",
    "    ax.set_ylabel(\"Model residuals (on scaled values)\")\n",
    "    _ = 0"
   ]
  },
  {
   "cell_type": "code",
   "execution_count": 9,
   "id": "53b9a29d-f284-464e-8d2c-ae63b4f2cf5c",
   "metadata": {
    "editable": true,
    "slideshow": {
     "slide_type": "slide"
    },
    "tags": []
   },
   "outputs": [
    {
     "data": {
      "image/png": "[encoded data removed]",
      "text/plain": [
       "<Figure size 640x480 with 1 Axes>"
      ]
     },
     "metadata": {},
     "output_type": "display_data"
    }
   ],
   "source": [
    "plot_convergence(results_mlp, results_rpy)"
   ]
  },
  {
   "cell_type": "markdown",
   "id": "45173457",
   "metadata": {
    "editable": true,
    "slideshow": {
     "slide_type": "slide"
    },
    "tags": []
   },
   "source": [
    "# Predictions"
   ]
  },
  {
   "cell_type": "code",
   "execution_count": 10,
   "id": "94342e50-9b30-4bff-b0a6-f02899097e34",
   "metadata": {
    "editable": true,
    "slideshow": {
     "slide_type": "skip"
    },
    "tags": []
   },
   "outputs": [],
   "source": [
    "def get_predictions(mixed_ml_mlp, mixed_ml_rpy):\n",
    "    lres = []\n",
    "    for name, model in {\"MLP\": mixed_ml_mlp, \"Reservoir\": mixed_ml_rpy}.items():\n",
    "        for subspec in [True, False]:\n",
    "            for tgt_name in Y_LABELS_PRED:\n",
    "                y_pred_scaled = model.predict(\n",
    "                    data_test_scaled, use_subject_specific=subspec\n",
    "                )\n",
    "                y_pred_scaled = y_pred_scaled.reshape((len(y_pred_scaled), 1))\n",
    "                y_pred = scaler_y.inverse_transform(y_pred_scaled)\n",
    "                lres.append(\n",
    "                    {\n",
    "                        \"model\": name,\n",
    "                        \"ss\": subspec,\n",
    "                        \"tgt_name\": tgt_name,\n",
    "                        \"mse\": mse(\n",
    "                            remove_warmup_1D(data_test[tgt_name], N_WARMUPS),\n",
    "                            remove_warmup_1D(y_pred, N_WARMUPS),\n",
    "                        ),\n",
    "                    }\n",
    "                )\n",
    "    return DataFrame(lres)"
   ]
  },
  {
   "cell_type": "code",
   "execution_count": 11,
   "id": "bbf63b14",
   "metadata": {
    "editable": true,
    "slideshow": {
     "slide_type": ""
    },
    "tags": []
   },
   "outputs": [
    {
     "data": {
      "text/html": [
       "<div>\n",
       "<style scoped>\n",
       "    .dataframe tbody tr th:only-of-type {\n",
       "        vertical-align: middle;\n",
       "    }\n",
       "\n",
       "    .dataframe tbody tr th {\n",
       "        vertical-align: top;\n",
       "    }\n",
       "\n",
       "    .dataframe thead th {\n",
       "        text-align: right;\n",
       "    }\n",
       "</style>\n",
       "<table border=\"1\" class=\"dataframe\">\n",
       "  <thead>\n",
       "    <tr style=\"text-align: right;\">\n",
       "      <th></th>\n",
       "      <th>model</th>\n",
       "      <th>ss</th>\n",
       "      <th>tgt_name</th>\n",
       "      <th>mse</th>\n",
       "    </tr>\n",
       "  </thead>\n",
       "  <tbody>\n",
       "    <tr>\n",
       "      <th>0</th>\n",
       "      <td>MLP</td>\n",
       "      <td>True</td>\n",
       "      <td>y_mixed</td>\n",
       "      <td>3.196e-01</td>\n",
       "    </tr>\n",
       "    <tr>\n",
       "      <th>1</th>\n",
       "      <td>MLP</td>\n",
       "      <td>True</td>\n",
       "      <td>y_mixed_obs</td>\n",
       "      <td>1.219e+00</td>\n",
       "    </tr>\n",
       "    <tr>\n",
       "      <th>2</th>\n",
       "      <td>MLP</td>\n",
       "      <td>False</td>\n",
       "      <td>y_mixed</td>\n",
       "      <td>7.281e+01</td>\n",
       "    </tr>\n",
       "    <tr>\n",
       "      <th>3</th>\n",
       "      <td>MLP</td>\n",
       "      <td>False</td>\n",
       "      <td>y_mixed_obs</td>\n",
       "      <td>7.296e+01</td>\n",
       "    </tr>\n",
       "    <tr>\n",
       "      <th>4</th>\n",
       "      <td>Reservoir</td>\n",
       "      <td>True</td>\n",
       "      <td>y_mixed</td>\n",
       "      <td>1.873e-01</td>\n",
       "    </tr>\n",
       "    <tr>\n",
       "      <th>5</th>\n",
       "      <td>Reservoir</td>\n",
       "      <td>True</td>\n",
       "      <td>y_mixed_obs</td>\n",
       "      <td>1.057e+00</td>\n",
       "    </tr>\n",
       "    <tr>\n",
       "      <th>6</th>\n",
       "      <td>Reservoir</td>\n",
       "      <td>False</td>\n",
       "      <td>y_mixed</td>\n",
       "      <td>1.697e+02</td>\n",
       "    </tr>\n",
       "    <tr>\n",
       "      <th>7</th>\n",
       "      <td>Reservoir</td>\n",
       "      <td>False</td>\n",
       "      <td>y_mixed_obs</td>\n",
       "      <td>1.722e+02</td>\n",
       "    </tr>\n",
       "  </tbody>\n",
       "</table>\n",
       "</div>"
      ],
      "text/plain": [
       "       model     ss     tgt_name       mse\n",
       "0        MLP   True      y_mixed 3.196e-01\n",
       "1        MLP   True  y_mixed_obs 1.219e+00\n",
       "2        MLP  False      y_mixed 7.281e+01\n",
       "3        MLP  False  y_mixed_obs 7.296e+01\n",
       "4  Reservoir   True      y_mixed 1.873e-01\n",
       "5  Reservoir   True  y_mixed_obs 1.057e+00\n",
       "6  Reservoir  False      y_mixed 1.697e+02\n",
       "7  Reservoir  False  y_mixed_obs 1.722e+02"
      ]
     },
     "execution_count": 11,
     "metadata": {},
     "output_type": "execute_result"
    }
   ],
   "source": [
    "get_predictions(mixed_ml_mlp, mixed_ml_rpy)"
   ]
  },
  {
   "cell_type": "code",
   "execution_count": null,
   "id": "a990bd15-4c50-4925-9621-d0fd34dd8b4b",
   "metadata": {},
   "outputs": [],
   "source": []
  }
 ],
 "metadata": {
  "celltoolbar": "Diaporama",
  "kernelspec": {
   "display_name": "Python 3 (ipykernel)",
   "language": "python",
   "name": "python3"
  },
  "language_info": {
   "codemirror_mode": {
    "name": "ipython",
    "version": 3
   },
   "file_extension": ".py",
   "mimetype": "text/x-python",
   "name": "python",
   "nbconvert_exporter": "python",
   "pygments_lexer": "ipython3",
   "version": "3.9.20"
  },
  "toc": {
   "base_numbering": 1,
   "nav_menu": {},
   "number_sections": true,
   "sideBar": true,
   "skip_h1_title": false,
   "title_cell": "Table of Contents",
   "title_sidebar": "Contents",
   "toc_cell": false,
   "toc_position": {},
   "toc_section_display": true,
   "toc_window_display": true
  },
  "varInspector": {
   "cols": {
    "lenName": 16,
    "lenType": 16,
    "lenVar": 40
   },
   "kernels_config": {
    "python": {
     "delete_cmd_postfix": "",
     "delete_cmd_prefix": "del ",
     "library": "var_list.py",
     "varRefreshCmd": "print(var_dic_list())"
    },
    "r": {
     "delete_cmd_postfix": ") ",
     "delete_cmd_prefix": "rm(",
     "library": "var_list.r",
     "varRefreshCmd": "cat(var_dic_list()) "
    }
   },
   "types_to_exclude": [
    "module",
    "function",
    "builtin_function_or_method",
    "instance",
    "_Feature"
   ],
   "window_display": false
  }
 },
 "nbformat": 4,
 "nbformat_minor": 5
}
