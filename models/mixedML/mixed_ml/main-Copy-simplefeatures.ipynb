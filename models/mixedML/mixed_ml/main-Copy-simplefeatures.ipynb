{
 "cells": [
  {
   "cell_type": "markdown",
   "id": "f609aa88-f2e7-45fb-b1be-51e6e09fde63",
   "metadata": {
    "editable": true,
    "slideshow": {
     "slide_type": "slide"
    },
    "tags": []
   },
   "source": [
    "# MixedML on Python"
   ]
  },
  {
   "cell_type": "code",
   "execution_count": null,
   "id": "09b6d820-1cf6-4c75-b52e-d471ec0c689f",
   "metadata": {},
   "outputs": [],
   "source": [
    "# DO NOT EXECUTE: THE R FILE HAVE CHANGED TO USE ALL FEATURES!!!\n",
    "\n",
    "STOOOOOP"
   ]
  },
  {
   "cell_type": "code",
   "execution_count": 1,
   "id": "09eef988-5a65-4f04-a108-f5c5102e4798",
   "metadata": {
    "editable": true,
    "slideshow": {
     "slide_type": "skip"
    },
    "tags": []
   },
   "outputs": [
    {
     "data": {
      "text/plain": [
       "0"
      ]
     },
     "execution_count": 1,
     "metadata": {},
     "output_type": "execute_result"
    }
   ],
   "source": [
    "from sys import path\n",
    "\n",
    "path.append(\"../\")\n",
    "\n",
    "import seaborn as sns\n",
    "from matplotlib.pyplot import subplots\n",
    "from pandas import DataFrame\n",
    "import pandas as pd\n",
    "from reservoirpy import verbosity\n",
    "from reservoirpy.nodes import Reservoir, Ridge\n",
    "from sklearn.metrics import mean_squared_error as mse\n",
    "from sklearn.neural_network import MLPRegressor\n",
    "from sklearn.preprocessing import RobustScaler\n",
    "\n",
    "\n",
    "from training_utils.data import get_dataframe, remove_warmup_1D\n",
    "from training_utils.global_config import N_WARMUPS\n",
    "from mixed_ml import MixedMLEstimator\n",
    "\n",
    "pd.options.display.float_format = \"{:.3e}\".format\n",
    "verbosity(0)"
   ]
  },
  {
   "cell_type": "code",
   "execution_count": 2,
   "id": "7ce7cb80-7758-497a-b01f-59eb7294d152",
   "metadata": {
    "editable": true,
    "slideshow": {
     "slide_type": "skip"
    },
    "tags": []
   },
   "outputs": [],
   "source": [
    "data = get_dataframe(\"../../../data/synthetic_bph_1/01_test.csv\")\n",
    "SERIES = \"individus\"\n",
    "TSTEPS = \"temps\"\n",
    "#\n",
    "data_train = data[data[SERIES] > 10]\n",
    "data_test = data[data[SERIES] <= 10]"
   ]
  },
  {
   "cell_type": "markdown",
   "id": "a3d27ea7-8ca8-4f6e-99db-dacbf30b18a7",
   "metadata": {
    "editable": true,
    "slideshow": {
     "slide_type": "slide"
    },
    "tags": []
   },
   "source": [
    "## Building the model \n",
    "\n",
    "Standard models can be used:"
   ]
  },
  {
   "cell_type": "code",
   "execution_count": 3,
   "id": "36689d1f-01f5-4755-a4c7-2953c1eaeb0c",
   "metadata": {
    "editable": true,
    "slideshow": {
     "slide_type": ""
    },
    "tags": []
   },
   "outputs": [],
   "source": [
    "model_mlp = MLPRegressor((20, 10, 5), learning_rate=\"adaptive\", max_iter=1000)\n",
    "mixed_ml_mlp = MixedMLEstimator(model_mlp, recurrent_model=False)"
   ]
  },
  {
   "cell_type": "markdown",
   "id": "44aa8dc8-f033-4bd6-aaf1-bc18dc473a90",
   "metadata": {
    "editable": true,
    "slideshow": {
     "slide_type": "fragment"
    },
    "tags": []
   },
   "source": [
    "Also recurrent ones:"
   ]
  },
  {
   "cell_type": "code",
   "execution_count": 14,
   "id": "10eccf1c-643d-4709-a569-4a49eda8ff82",
   "metadata": {
    "editable": true,
    "slideshow": {
     "slide_type": ""
    },
    "tags": []
   },
   "outputs": [],
   "source": [
    "model_rpy = Reservoir(units=50) >> Ridge(ridge=1e-1)\n",
    "mixed_ml_rpy = MixedMLEstimator(model_rpy, recurrent_model=True)"
   ]
  },
  {
   "cell_type": "markdown",
   "id": "4db0ad9a-eed4-414c-af7b-74a686044d5b",
   "metadata": {
    "editable": true,
    "slideshow": {
     "slide_type": "slide"
    },
    "tags": []
   },
   "source": [
    "## Training  \n",
    "with simple features: x2_x5, x4_x7, x6_x8"
   ]
  },
  {
   "cell_type": "code",
   "execution_count": 6,
   "id": "35387bd7-2a5d-46ee-8a1f-e6949b5864c3",
   "metadata": {
    "editable": true,
    "slideshow": {
     "slide_type": "skip"
    },
    "tags": []
   },
   "outputs": [],
   "source": [
    "X_LABELS = [\"x2_x5\", \"x4_x7\", \"x6_x8\"]\n",
    "Y_LABEL = \"y_mixed_obs\"\n",
    "\n",
    "scaler_x = RobustScaler()\n",
    "scaler_y = RobustScaler()\n",
    "\n",
    "data_train_scaled = data_train[[SERIES, TSTEPS]].copy()\n",
    "data_train_scaled[X_LABELS] = scaler_x.fit_transform(data_train[X_LABELS])\n",
    "data_train_scaled[[Y_LABEL]] = scaler_y.fit_transform(data_train[[Y_LABEL]])\n",
    "\n",
    "data_test_scaled = data_test[[SERIES, TSTEPS]].copy()\n",
    "data_test_scaled[X_LABELS] = scaler_x.transform(data_test[X_LABELS])\n",
    "data_test_scaled[[Y_LABEL]] = scaler_y.transform(data_test[[Y_LABEL]])"
   ]
  },
  {
   "cell_type": "code",
   "execution_count": 7,
   "id": "7d4e8d06-5652-4406-988e-998dbaf25030",
   "metadata": {
    "editable": true,
    "scrolled": true,
    "slideshow": {
     "slide_type": "subslide"
    },
    "tags": []
   },
   "outputs": [
    {
     "name": "stdout",
     "output_type": "stream",
     "text": [
      "mixedML step #00: 9.851597e-03 (best)\n",
      "mixedML step #01: 6.173452e-03 (best)\n",
      "mixedML step #02: 4.630533e-03 (best)\n",
      "mixedML step #03: 4.319146e-03 (best)\n",
      "mixedML step #04: 4.175077e-03 (best)\n",
      "mixedML step #05: 3.660782e-03 (best)\n",
      "mixedML step #06: 3.787219e-03\n",
      "mixedML step #07: 3.395922e-03 (best)\n",
      "mixedML step #08: 3.467191e-03\n",
      "mixedML step #09: 3.317139e-03 (best)\n",
      "mixedML step #10: 3.179771e-03 (best)\n",
      "mixedML step #11: 3.141904e-03 (best)\n",
      "mixedML step #12: 3.140226e-03\n",
      "mixedML step #13: 3.074510e-03 (best)\n",
      "mixedML step #14: 3.109384e-03\n",
      "mixedML step #15: 3.062500e-03\n",
      "mixedML step #16: 3.094006e-03\n"
     ]
    }
   ],
   "source": [
    "results_mlp = mixed_ml_mlp.fit(\n",
    "    data_train_scaled, n_iter_improve=2, min_ratio_improve=0.01\n",
    ")"
   ]
  },
  {
   "cell_type": "code",
   "execution_count": 16,
   "id": "7a48eef7-2f8e-4d63-831f-39638fad1723",
   "metadata": {
    "editable": true,
    "slideshow": {
     "slide_type": "subslide"
    },
    "tags": []
   },
   "outputs": [
    {
     "name": "stdout",
     "output_type": "stream",
     "text": [
      "mixedML step #00: 6.636570e-02 (best)\n",
      "mixedML step #01: 3.069191e-02 (best)\n",
      "mixedML step #02: 1.951671e-02 (best)\n",
      "mixedML step #03: 1.440845e-02 (best)\n",
      "mixedML step #04: 1.148200e-02 (best)\n",
      "mixedML step #05: 9.577532e-03 (best)\n",
      "mixedML step #06: 8.251368e-03 (best)\n",
      "mixedML step #07: 7.290986e-03 (best)\n",
      "mixedML step #08: 6.576557e-03 (best)\n",
      "mixedML step #09: 6.033452e-03 (best)\n",
      "mixedML step #10: 5.612438e-03 (best)\n",
      "mixedML step #11: 5.279909e-03 (best)\n",
      "mixedML step #12: 5.012427e-03 (best)\n",
      "mixedML step #13: 4.793401e-03 (best)\n",
      "mixedML step #14: 4.610958e-03 (best)\n",
      "mixedML step #15: 4.456519e-03 (best)\n",
      "mixedML step #16: 4.323832e-03 (best)\n",
      "mixedML step #17: 4.208298e-03 (best)\n",
      "mixedML step #18: 4.106504e-03 (best)\n",
      "mixedML step #19: 4.015891e-03 (best)\n",
      "mixedML step #20: 3.934520e-03 (best)\n",
      "mixedML step #21: 3.860903e-03 (best)\n",
      "mixedML step #22: 3.793885e-03 (best)\n",
      "mixedML step #23: 3.732557e-03 (best)\n",
      "mixedML step #24: 3.676195e-03 (best)\n",
      "mixedML step #25: 3.624212e-03 (best)\n",
      "mixedML step #26: 3.576129e-03 (best)\n",
      "mixedML step #27: 3.531547e-03 (best)\n",
      "mixedML step #28: 3.490130e-03 (best)\n",
      "mixedML step #29: 3.451593e-03 (best)\n",
      "mixedML step #30: 3.415691e-03 (best)\n",
      "mixedML step #31: 3.382208e-03\n",
      "mixedML step #32: 3.350958e-03 (best)\n",
      "mixedML step #33: 3.321774e-03\n",
      "mixedML step #34: 3.294507e-03 (best)\n",
      "mixedML step #35: 3.269024e-03\n",
      "mixedML step #36: 3.245202e-03 (best)\n",
      "mixedML step #37: 3.222932e-03\n",
      "mixedML step #38: 3.202112e-03 (best)\n",
      "mixedML step #39: 3.182650e-03\n",
      "mixedML step #40: 3.164458e-03 (best)\n",
      "mixedML step #41: 3.147456e-03\n",
      "mixedML step #42: 3.131571e-03 (best)\n",
      "mixedML step #43: 3.116732e-03\n",
      "mixedML step #44: 3.102874e-03\n",
      "mixedML step #45: 3.089935e-03 (best)\n",
      "mixedML step #46: 3.077859e-03\n",
      "mixedML step #47: 3.066591e-03\n",
      "mixedML step #48: 3.056079e-03 (best)\n",
      "mixedML step #49: 3.046277e-03\n",
      "mixedML step #50: 3.037137e-03\n",
      "mixedML step #51: 3.028619e-03\n"
     ]
    }
   ],
   "source": [
    "results_rpy = mixed_ml_rpy.fit(\n",
    "    data_train_scaled,\n",
    "    n_iter_improve=2,\n",
    "    min_ratio_improve=0.01,\n",
    "    fixed_model_options={\"warmup\": N_WARMUPS},\n",
    ")"
   ]
  },
  {
   "cell_type": "code",
   "execution_count": 17,
   "id": "32a009f8-7304-4593-9d7c-c5daa1103b96",
   "metadata": {
    "editable": true,
    "slideshow": {
     "slide_type": "skip"
    },
    "tags": []
   },
   "outputs": [],
   "source": [
    "def plot_convergence(results_mlp, results_rpy):\n",
    "    fig, ax = subplots()\n",
    "    ax.plot(results_mlp, label=\"MLP\")\n",
    "    ax.plot(results_rpy, label=\"Reservoir\")\n",
    "    ax.legend(loc=\"center right\", fontsize=\"x-large\")\n",
    "    ax.set_yscale(\"log\")\n",
    "    ax.set_title(\"Convergence\")\n",
    "    ax.set_xlabel(\"Iterations\")\n",
    "    ax.set_ylabel(\"Model residuals (on scaled values)\")\n",
    "    _ = 0"
   ]
  },
  {
   "cell_type": "code",
   "execution_count": 18,
   "id": "53b9a29d-f284-464e-8d2c-ae63b4f2cf5c",
   "metadata": {
    "editable": true,
    "slideshow": {
     "slide_type": "slide"
    },
    "tags": []
   },
   "outputs": [
    {
     "data": {
      "image/png": "[encoded data removed]",
      "text/plain": [
       "<Figure size 640x480 with 1 Axes>"
      ]
     },
     "metadata": {},
     "output_type": "display_data"
    }
   ],
   "source": [
    "plot_convergence(results_mlp, results_rpy)"
   ]
  },
  {
   "cell_type": "markdown",
   "id": "45173457",
   "metadata": {
    "editable": true,
    "slideshow": {
     "slide_type": "slide"
    },
    "tags": []
   },
   "source": [
    "# Predictions"
   ]
  },
  {
   "cell_type": "code",
   "execution_count": 19,
   "id": "94342e50-9b30-4bff-b0a6-f02899097e34",
   "metadata": {
    "editable": true,
    "slideshow": {
     "slide_type": "skip"
    },
    "tags": []
   },
   "outputs": [],
   "source": [
    "def get_predictions(mixed_ml_mlp, mixed_ml_rpy):\n",
    "    lres = []\n",
    "    for name, model in {\"MLP\": mixed_ml_mlp, \"Reservoir\": mixed_ml_rpy}.items():\n",
    "        for subspec in [True, False]:\n",
    "            y_pred_scaled = model.predict(\n",
    "                data_test_scaled, use_subject_specific=subspec\n",
    "            )\n",
    "            y_pred_scaled = y_pred_scaled.reshape((len(y_pred_scaled), 1))\n",
    "            y_pred = scaler_y.inverse_transform(y_pred_scaled)\n",
    "            lres.append(\n",
    "                {\n",
    "                    \"model\": name,\n",
    "                    \"ss\": subspec,\n",
    "                    \"mse\": mse(\n",
    "                        remove_warmup_1D(data_test[Y_LABEL], N_WARMUPS),\n",
    "                        remove_warmup_1D(y_pred, N_WARMUPS),\n",
    "                    ),\n",
    "                }\n",
    "            )\n",
    "    return DataFrame(lres)"
   ]
  },
  {
   "cell_type": "code",
   "execution_count": 20,
   "id": "bbf63b14",
   "metadata": {
    "editable": true,
    "slideshow": {
     "slide_type": ""
    },
    "tags": []
   },
   "outputs": [
    {
     "data": {
      "text/html": [
       "<div>\n",
       "<style scoped>\n",
       "    .dataframe tbody tr th:only-of-type {\n",
       "        vertical-align: middle;\n",
       "    }\n",
       "\n",
       "    .dataframe tbody tr th {\n",
       "        vertical-align: top;\n",
       "    }\n",
       "\n",
       "    .dataframe thead th {\n",
       "        text-align: right;\n",
       "    }\n",
       "</style>\n",
       "<table border=\"1\" class=\"dataframe\">\n",
       "  <thead>\n",
       "    <tr style=\"text-align: right;\">\n",
       "      <th></th>\n",
       "      <th>model</th>\n",
       "      <th>ss</th>\n",
       "      <th>mse</th>\n",
       "    </tr>\n",
       "  </thead>\n",
       "  <tbody>\n",
       "    <tr>\n",
       "      <th>0</th>\n",
       "      <td>MLP</td>\n",
       "      <td>True</td>\n",
       "      <td>1.034e+00</td>\n",
       "    </tr>\n",
       "    <tr>\n",
       "      <th>1</th>\n",
       "      <td>MLP</td>\n",
       "      <td>False</td>\n",
       "      <td>6.714e+01</td>\n",
       "    </tr>\n",
       "    <tr>\n",
       "      <th>2</th>\n",
       "      <td>Reservoir</td>\n",
       "      <td>True</td>\n",
       "      <td>1.004e+00</td>\n",
       "    </tr>\n",
       "    <tr>\n",
       "      <th>3</th>\n",
       "      <td>Reservoir</td>\n",
       "      <td>False</td>\n",
       "      <td>1.848e+02</td>\n",
       "    </tr>\n",
       "  </tbody>\n",
       "</table>\n",
       "</div>"
      ],
      "text/plain": [
       "       model     ss       mse\n",
       "0        MLP   True 1.034e+00\n",
       "1        MLP  False 6.714e+01\n",
       "2  Reservoir   True 1.004e+00\n",
       "3  Reservoir  False 1.848e+02"
      ]
     },
     "execution_count": 20,
     "metadata": {},
     "output_type": "execute_result"
    }
   ],
   "source": [
    "get_predictions(mixed_ml_mlp, mixed_ml_rpy)"
   ]
  },
  {
   "cell_type": "code",
   "execution_count": null,
   "id": "a990bd15-4c50-4925-9621-d0fd34dd8b4b",
   "metadata": {},
   "outputs": [],
   "source": []
  }
 ],
 "metadata": {
  "celltoolbar": "Diaporama",
  "kernelspec": {
   "display_name": "Python 3 (ipykernel)",
   "language": "python",
   "name": "python3"
  },
  "language_info": {
   "codemirror_mode": {
    "name": "ipython",
    "version": 3
   },
   "file_extension": ".py",
   "mimetype": "text/x-python",
   "name": "python",
   "nbconvert_exporter": "python",
   "pygments_lexer": "ipython3",
   "version": "3.9.20"
  },
  "toc": {
   "base_numbering": 1,
   "nav_menu": {},
   "number_sections": true,
   "sideBar": true,
   "skip_h1_title": false,
   "title_cell": "Table of Contents",
   "title_sidebar": "Contents",
   "toc_cell": false,
   "toc_position": {},
   "toc_section_display": true,
   "toc_window_display": true
  },
  "varInspector": {
   "cols": {
    "lenName": 16,
    "lenType": 16,
    "lenVar": 40
   },
   "kernels_config": {
    "python": {
     "delete_cmd_postfix": "",
     "delete_cmd_prefix": "del ",
     "library": "var_list.py",
     "varRefreshCmd": "print(var_dic_list())"
    },
    "r": {
     "delete_cmd_postfix": ") ",
     "delete_cmd_prefix": "rm(",
     "library": "var_list.r",
     "varRefreshCmd": "cat(var_dic_list()) "
    }
   },
   "types_to_exclude": [
    "module",
    "function",
    "builtin_function_or_method",
    "instance",
    "_Feature"
   ],
   "window_display": false
  }
 },
 "nbformat": 4,
 "nbformat_minor": 5
}
