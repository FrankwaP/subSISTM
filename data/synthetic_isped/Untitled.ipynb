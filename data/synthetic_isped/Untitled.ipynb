{
 "cells": [
  {
   "cell_type": "code",
   "execution_count": 11,
   "id": "81562417-5d84-430e-b8e8-b5db0c0c3ee9",
   "metadata": {},
   "outputs": [
    {
     "name": "stderr",
     "output_type": "stream",
     "text": [
      "installation des dépendances ‘zip’, ‘foreign’, ‘xtable’, ‘openxlsx’, ‘RUnit’, ‘carData’, ‘kutils’\n",
      "\n",
      "\n",
      "Mise à jour de la liste HTML des packages dans '.Library'\n",
      "\n",
      "Making 'packages.html' ...\n",
      " terminé\n",
      "\n",
      "Mise à jour de la liste HTML des packages dans '.Library'\n",
      "\n",
      "Making 'packages.html' ...\n",
      " terminé\n",
      "\n"
     ]
    }
   ],
   "source": [
    "install.package(rockchalk)\n",
    "library(dplyr)"
   ]
  },
  {
   "cell_type": "code",
   "execution_count": 12,
   "id": "8d061f9a-41b5-4cf1-91a3-771b5df1b387",
   "metadata": {},
   "outputs": [
    {
     "data": {
      "text/html": [
       "<pre class=language-r><code>function (..., sep = \" \", collapse = NULL, recycle0 = FALSE) \n",
       ".Internal(paste(list(...), sep, collapse, recycle0))</code></pre>"
      ],
      "text/latex": [
       "\\begin{minted}{r}\n",
       "function (..., sep = \" \", collapse = NULL, recycle0 = FALSE) \n",
       ".Internal(paste(list(...), sep, collapse, recycle0))\n",
       "\\end{minted}"
      ],
      "text/markdown": [
       "```r\n",
       "function (..., sep = \" \", collapse = NULL, recycle0 = FALSE) \n",
       ".Internal(paste(list(...), sep, collapse, recycle0))\n",
       "```"
      ],
      "text/plain": [
       "function (..., sep = \" \", collapse = NULL, recycle0 = FALSE) \n",
       ".Internal(paste(list(...), sep, collapse, recycle0))\n",
       "<bytecode: 0x55bc46d0eac8>\n",
       "<environment: namespace:base>"
      ]
     },
     "metadata": {},
     "output_type": "display_data"
    }
   ],
   "source": [
    "paste"
   ]
  }
 ],
 "metadata": {
  "kernelspec": {
   "display_name": "R",
   "language": "R",
   "name": "ir"
  },
  "language_info": {
   "codemirror_mode": "r",
   "file_extension": ".r",
   "mimetype": "text/x-r-source",
   "name": "R",
   "pygments_lexer": "r",
   "version": "4.4.1"
  }
 },
 "nbformat": 4,
 "nbformat_minor": 5
}
